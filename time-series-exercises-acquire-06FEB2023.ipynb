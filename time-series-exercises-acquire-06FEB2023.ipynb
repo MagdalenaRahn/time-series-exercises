{
 "cells": [
  {
   "cell_type": "markdown",
   "id": "0ddf245c",
   "metadata": {},
   "source": [
    "# Time Series Exercises : Acquire\n",
    "\n",
    "\n",
    "06 February 2023"
   ]
  },
  {
   "cell_type": "markdown",
   "id": "463bc126",
   "metadata": {},
   "source": [
    "\n",
    "   1. Using the code from the lesson as a guide and the REST API from https://swapi.dev/ as we did in the lesson, create a dataframe named people that has all of the data for people.\n",
    "   2. Do the same thing, but for planets.\n",
    "   3. Extract the data for starships.\n",
    "   4. Save the data in your files to local csv files so that it will be faster to access in the future.\n",
    "   5. Combine the data from your three separate dataframes into one large dataframe.\n",
    "   6. Acquire the Open Power Systems Data for Germany, which has been rapidly expanding its renewable energy production in recent years. The data set includes country-wide totals of electricity consumption, wind power production, and solar power production for 2006-2017. You can get the data here: https://raw.githubusercontent.com/jenfly/opsd/master/opsd_germany_daily.csv\n",
    "   7. Make sure all the work that you have done above is reproducible. That is, you should put the code above into separate functions in the acquire.py file and be able to re-run the functions and get the same data.\n"
   ]
  },
  {
   "cell_type": "code",
   "execution_count": 1,
   "id": "a59d4234",
   "metadata": {},
   "outputs": [],
   "source": [
    "import pandas as pd\n",
    "\n",
    "import requests"
   ]
  },
  {
   "cell_type": "code",
   "execution_count": 2,
   "id": "7d0d05f8",
   "metadata": {},
   "outputs": [],
   "source": [
    "# url for webscraping \n",
    "\n",
    "url = 'https://swapi.dev/api/people/'"
   ]
  },
  {
   "cell_type": "code",
   "execution_count": 3,
   "id": "45d5640d",
   "metadata": {},
   "outputs": [],
   "source": [
    "# get the info using .get()\n",
    "\n",
    "reponse = requests.get(url)"
   ]
  },
  {
   "cell_type": "code",
   "execution_count": 4,
   "id": "4e219cd7",
   "metadata": {},
   "outputs": [
    {
     "data": {
      "text/plain": [
       "True"
      ]
     },
     "execution_count": 4,
     "metadata": {},
     "output_type": "execute_result"
    }
   ],
   "source": [
    "# the response to the request is valid / 200 / ok\n",
    "reponse.ok"
   ]
  },
  {
   "cell_type": "code",
   "execution_count": 5,
   "id": "12eb6863",
   "metadata": {},
   "outputs": [
    {
     "data": {
      "text/plain": [
       "{'count': 82,\n",
       " 'next': 'https://swapi.dev/api/people/?page=2',\n",
       " 'previous': None,\n",
       " 'results': [{'name': 'Luke Skywalker',\n",
       "   'height': '172',\n",
       "   'mass': '77',\n",
       "   'hair_color': 'blond',\n",
       "   'skin_color': 'fair',\n",
       "   'eye_color': 'blue',\n",
       "   'birth_year': '19BBY',\n",
       "   'gender': 'male',\n",
       "   'homeworld': 'https://swapi.dev/api/planets/1/',\n",
       "   'films': ['https://swapi.dev/api/films/1/',\n",
       "    'https://swapi.dev/api/films/2/',\n",
       "    'https://swapi.dev/api/films/3/',\n",
       "    'https://swapi.dev/api/films/6/'],\n",
       "   'species': [],\n",
       "   'vehicles': ['https://swapi.dev/api/vehicles/14/',\n",
       "    'https://swapi.dev/api/vehicles/30/'],\n",
       "   'starships': ['https://swapi.dev/api/starships/12/',\n",
       "    'https://swapi.dev/api/starships/22/'],\n",
       "   'created': '2014-12-09T13:50:51.644000Z',\n",
       "   'edited': '2014-12-20T21:17:56.891000Z',\n",
       "   'url': 'https://swapi.dev/api/people/1/'},\n",
       "  {'name': 'C-3PO',\n",
       "   'height': '167',\n",
       "   'mass': '75',\n",
       "   'hair_color': 'n/a',\n",
       "   'skin_color': 'gold',\n",
       "   'eye_color': 'yellow',\n",
       "   'birth_year': '112BBY',\n",
       "   'gender': 'n/a',\n",
       "   'homeworld': 'https://swapi.dev/api/planets/1/',\n",
       "   'films': ['https://swapi.dev/api/films/1/',\n",
       "    'https://swapi.dev/api/films/2/',\n",
       "    'https://swapi.dev/api/films/3/',\n",
       "    'https://swapi.dev/api/films/4/',\n",
       "    'https://swapi.dev/api/films/5/',\n",
       "    'https://swapi.dev/api/films/6/'],\n",
       "   'species': ['https://swapi.dev/api/species/2/'],\n",
       "   'vehicles': [],\n",
       "   'starships': [],\n",
       "   'created': '2014-12-10T15:10:51.357000Z',\n",
       "   'edited': '2014-12-20T21:17:50.309000Z',\n",
       "   'url': 'https://swapi.dev/api/people/2/'},\n",
       "  {'name': 'R2-D2',\n",
       "   'height': '96',\n",
       "   'mass': '32',\n",
       "   'hair_color': 'n/a',\n",
       "   'skin_color': 'white, blue',\n",
       "   'eye_color': 'red',\n",
       "   'birth_year': '33BBY',\n",
       "   'gender': 'n/a',\n",
       "   'homeworld': 'https://swapi.dev/api/planets/8/',\n",
       "   'films': ['https://swapi.dev/api/films/1/',\n",
       "    'https://swapi.dev/api/films/2/',\n",
       "    'https://swapi.dev/api/films/3/',\n",
       "    'https://swapi.dev/api/films/4/',\n",
       "    'https://swapi.dev/api/films/5/',\n",
       "    'https://swapi.dev/api/films/6/'],\n",
       "   'species': ['https://swapi.dev/api/species/2/'],\n",
       "   'vehicles': [],\n",
       "   'starships': [],\n",
       "   'created': '2014-12-10T15:11:50.376000Z',\n",
       "   'edited': '2014-12-20T21:17:50.311000Z',\n",
       "   'url': 'https://swapi.dev/api/people/3/'},\n",
       "  {'name': 'Darth Vader',\n",
       "   'height': '202',\n",
       "   'mass': '136',\n",
       "   'hair_color': 'none',\n",
       "   'skin_color': 'white',\n",
       "   'eye_color': 'yellow',\n",
       "   'birth_year': '41.9BBY',\n",
       "   'gender': 'male',\n",
       "   'homeworld': 'https://swapi.dev/api/planets/1/',\n",
       "   'films': ['https://swapi.dev/api/films/1/',\n",
       "    'https://swapi.dev/api/films/2/',\n",
       "    'https://swapi.dev/api/films/3/',\n",
       "    'https://swapi.dev/api/films/6/'],\n",
       "   'species': [],\n",
       "   'vehicles': [],\n",
       "   'starships': ['https://swapi.dev/api/starships/13/'],\n",
       "   'created': '2014-12-10T15:18:20.704000Z',\n",
       "   'edited': '2014-12-20T21:17:50.313000Z',\n",
       "   'url': 'https://swapi.dev/api/people/4/'},\n",
       "  {'name': 'Leia Organa',\n",
       "   'height': '150',\n",
       "   'mass': '49',\n",
       "   'hair_color': 'brown',\n",
       "   'skin_color': 'light',\n",
       "   'eye_color': 'brown',\n",
       "   'birth_year': '19BBY',\n",
       "   'gender': 'female',\n",
       "   'homeworld': 'https://swapi.dev/api/planets/2/',\n",
       "   'films': ['https://swapi.dev/api/films/1/',\n",
       "    'https://swapi.dev/api/films/2/',\n",
       "    'https://swapi.dev/api/films/3/',\n",
       "    'https://swapi.dev/api/films/6/'],\n",
       "   'species': [],\n",
       "   'vehicles': ['https://swapi.dev/api/vehicles/30/'],\n",
       "   'starships': [],\n",
       "   'created': '2014-12-10T15:20:09.791000Z',\n",
       "   'edited': '2014-12-20T21:17:50.315000Z',\n",
       "   'url': 'https://swapi.dev/api/people/5/'},\n",
       "  {'name': 'Owen Lars',\n",
       "   'height': '178',\n",
       "   'mass': '120',\n",
       "   'hair_color': 'brown, grey',\n",
       "   'skin_color': 'light',\n",
       "   'eye_color': 'blue',\n",
       "   'birth_year': '52BBY',\n",
       "   'gender': 'male',\n",
       "   'homeworld': 'https://swapi.dev/api/planets/1/',\n",
       "   'films': ['https://swapi.dev/api/films/1/',\n",
       "    'https://swapi.dev/api/films/5/',\n",
       "    'https://swapi.dev/api/films/6/'],\n",
       "   'species': [],\n",
       "   'vehicles': [],\n",
       "   'starships': [],\n",
       "   'created': '2014-12-10T15:52:14.024000Z',\n",
       "   'edited': '2014-12-20T21:17:50.317000Z',\n",
       "   'url': 'https://swapi.dev/api/people/6/'},\n",
       "  {'name': 'Beru Whitesun lars',\n",
       "   'height': '165',\n",
       "   'mass': '75',\n",
       "   'hair_color': 'brown',\n",
       "   'skin_color': 'light',\n",
       "   'eye_color': 'blue',\n",
       "   'birth_year': '47BBY',\n",
       "   'gender': 'female',\n",
       "   'homeworld': 'https://swapi.dev/api/planets/1/',\n",
       "   'films': ['https://swapi.dev/api/films/1/',\n",
       "    'https://swapi.dev/api/films/5/',\n",
       "    'https://swapi.dev/api/films/6/'],\n",
       "   'species': [],\n",
       "   'vehicles': [],\n",
       "   'starships': [],\n",
       "   'created': '2014-12-10T15:53:41.121000Z',\n",
       "   'edited': '2014-12-20T21:17:50.319000Z',\n",
       "   'url': 'https://swapi.dev/api/people/7/'},\n",
       "  {'name': 'R5-D4',\n",
       "   'height': '97',\n",
       "   'mass': '32',\n",
       "   'hair_color': 'n/a',\n",
       "   'skin_color': 'white, red',\n",
       "   'eye_color': 'red',\n",
       "   'birth_year': 'unknown',\n",
       "   'gender': 'n/a',\n",
       "   'homeworld': 'https://swapi.dev/api/planets/1/',\n",
       "   'films': ['https://swapi.dev/api/films/1/'],\n",
       "   'species': ['https://swapi.dev/api/species/2/'],\n",
       "   'vehicles': [],\n",
       "   'starships': [],\n",
       "   'created': '2014-12-10T15:57:50.959000Z',\n",
       "   'edited': '2014-12-20T21:17:50.321000Z',\n",
       "   'url': 'https://swapi.dev/api/people/8/'},\n",
       "  {'name': 'Biggs Darklighter',\n",
       "   'height': '183',\n",
       "   'mass': '84',\n",
       "   'hair_color': 'black',\n",
       "   'skin_color': 'light',\n",
       "   'eye_color': 'brown',\n",
       "   'birth_year': '24BBY',\n",
       "   'gender': 'male',\n",
       "   'homeworld': 'https://swapi.dev/api/planets/1/',\n",
       "   'films': ['https://swapi.dev/api/films/1/'],\n",
       "   'species': [],\n",
       "   'vehicles': [],\n",
       "   'starships': ['https://swapi.dev/api/starships/12/'],\n",
       "   'created': '2014-12-10T15:59:50.509000Z',\n",
       "   'edited': '2014-12-20T21:17:50.323000Z',\n",
       "   'url': 'https://swapi.dev/api/people/9/'},\n",
       "  {'name': 'Obi-Wan Kenobi',\n",
       "   'height': '182',\n",
       "   'mass': '77',\n",
       "   'hair_color': 'auburn, white',\n",
       "   'skin_color': 'fair',\n",
       "   'eye_color': 'blue-gray',\n",
       "   'birth_year': '57BBY',\n",
       "   'gender': 'male',\n",
       "   'homeworld': 'https://swapi.dev/api/planets/20/',\n",
       "   'films': ['https://swapi.dev/api/films/1/',\n",
       "    'https://swapi.dev/api/films/2/',\n",
       "    'https://swapi.dev/api/films/3/',\n",
       "    'https://swapi.dev/api/films/4/',\n",
       "    'https://swapi.dev/api/films/5/',\n",
       "    'https://swapi.dev/api/films/6/'],\n",
       "   'species': [],\n",
       "   'vehicles': ['https://swapi.dev/api/vehicles/38/'],\n",
       "   'starships': ['https://swapi.dev/api/starships/48/',\n",
       "    'https://swapi.dev/api/starships/59/',\n",
       "    'https://swapi.dev/api/starships/64/',\n",
       "    'https://swapi.dev/api/starships/65/',\n",
       "    'https://swapi.dev/api/starships/74/'],\n",
       "   'created': '2014-12-10T16:16:29.192000Z',\n",
       "   'edited': '2014-12-20T21:17:50.325000Z',\n",
       "   'url': 'https://swapi.dev/api/people/10/'}]}"
      ]
     },
     "execution_count": 5,
     "metadata": {},
     "output_type": "execute_result"
    }
   ],
   "source": [
    "# get the text in JSON format\n",
    "\n",
    "j = reponse.json()\n",
    "j"
   ]
  },
  {
   "cell_type": "code",
   "execution_count": 6,
   "id": "b182b8cf",
   "metadata": {},
   "outputs": [
    {
     "data": {
      "text/plain": [
       "'Luke Skywalker'"
      ]
     },
     "execution_count": 6,
     "metadata": {},
     "output_type": "execute_result"
    }
   ],
   "source": [
    "# get the name of the first entry in the dico of dicos\n",
    "\n",
    "entry = j['results'][0]\n",
    "entry['name']"
   ]
  },
  {
   "cell_type": "code",
   "execution_count": 7,
   "id": "2cd6834a",
   "metadata": {},
   "outputs": [
    {
     "name": "stdout",
     "output_type": "stream",
     "text": [
      "['Luke Skywalker', 'C-3PO', 'R2-D2', 'Darth Vader', 'Leia Organa', 'Owen Lars', 'Beru Whitesun lars', 'R5-D4', 'Biggs Darklighter', 'Obi-Wan Kenobi']\n",
      "\n",
      "['https://swapi.dev/api/planets/1/', 'https://swapi.dev/api/planets/1/', 'https://swapi.dev/api/planets/8/', 'https://swapi.dev/api/planets/1/', 'https://swapi.dev/api/planets/2/', 'https://swapi.dev/api/planets/1/', 'https://swapi.dev/api/planets/1/', 'https://swapi.dev/api/planets/1/', 'https://swapi.dev/api/planets/1/', 'https://swapi.dev/api/planets/20/']\n"
     ]
    }
   ],
   "source": [
    "# use base_url to do another iteration : working the way programmatically through the api\n",
    "# range is pages on the api website\n",
    "\n",
    "# lists to fill in with info from new_url\n",
    "names = []\n",
    "planets = []\n",
    "\n",
    "for i in range(1, 11):\n",
    "    \n",
    "    # when i is something, add this number on to the end of the base_url and get to succeeding webpages\n",
    "    new_url = url + f'{i}/'\n",
    "    \n",
    "    response = requests.get(new_url)\n",
    "    \n",
    "    # variable to store response.json()\n",
    "    j2 = response.json()\n",
    "    \n",
    "    # appending name to names list, etc\n",
    "    names.append(j2['name'])\n",
    "    \n",
    "    planets.append(j2['homeworld'])\n",
    "        \n",
    "print(names)\n",
    "print()\n",
    "print(planets)"
   ]
  },
  {
   "cell_type": "code",
   "execution_count": 8,
   "id": "d360faed",
   "metadata": {},
   "outputs": [
    {
     "data": {
      "text/html": [
       "<div>\n",
       "<style scoped>\n",
       "    .dataframe tbody tr th:only-of-type {\n",
       "        vertical-align: middle;\n",
       "    }\n",
       "\n",
       "    .dataframe tbody tr th {\n",
       "        vertical-align: top;\n",
       "    }\n",
       "\n",
       "    .dataframe thead th {\n",
       "        text-align: right;\n",
       "    }\n",
       "</style>\n",
       "<table border=\"1\" class=\"dataframe\">\n",
       "  <thead>\n",
       "    <tr style=\"text-align: right;\">\n",
       "      <th></th>\n",
       "      <th>name</th>\n",
       "      <th>homeworld</th>\n",
       "    </tr>\n",
       "  </thead>\n",
       "  <tbody>\n",
       "    <tr>\n",
       "      <th>0</th>\n",
       "      <td>Luke Skywalker</td>\n",
       "      <td>https://swapi.dev/api/planets/1/</td>\n",
       "    </tr>\n",
       "    <tr>\n",
       "      <th>1</th>\n",
       "      <td>C-3PO</td>\n",
       "      <td>https://swapi.dev/api/planets/1/</td>\n",
       "    </tr>\n",
       "    <tr>\n",
       "      <th>2</th>\n",
       "      <td>R2-D2</td>\n",
       "      <td>https://swapi.dev/api/planets/8/</td>\n",
       "    </tr>\n",
       "    <tr>\n",
       "      <th>3</th>\n",
       "      <td>Darth Vader</td>\n",
       "      <td>https://swapi.dev/api/planets/1/</td>\n",
       "    </tr>\n",
       "    <tr>\n",
       "      <th>4</th>\n",
       "      <td>Leia Organa</td>\n",
       "      <td>https://swapi.dev/api/planets/2/</td>\n",
       "    </tr>\n",
       "    <tr>\n",
       "      <th>5</th>\n",
       "      <td>Owen Lars</td>\n",
       "      <td>https://swapi.dev/api/planets/1/</td>\n",
       "    </tr>\n",
       "    <tr>\n",
       "      <th>6</th>\n",
       "      <td>Beru Whitesun lars</td>\n",
       "      <td>https://swapi.dev/api/planets/1/</td>\n",
       "    </tr>\n",
       "    <tr>\n",
       "      <th>7</th>\n",
       "      <td>R5-D4</td>\n",
       "      <td>https://swapi.dev/api/planets/1/</td>\n",
       "    </tr>\n",
       "    <tr>\n",
       "      <th>8</th>\n",
       "      <td>Biggs Darklighter</td>\n",
       "      <td>https://swapi.dev/api/planets/1/</td>\n",
       "    </tr>\n",
       "    <tr>\n",
       "      <th>9</th>\n",
       "      <td>Obi-Wan Kenobi</td>\n",
       "      <td>https://swapi.dev/api/planets/20/</td>\n",
       "    </tr>\n",
       "  </tbody>\n",
       "</table>\n",
       "</div>"
      ],
      "text/plain": [
       "                 name                          homeworld\n",
       "0      Luke Skywalker   https://swapi.dev/api/planets/1/\n",
       "1               C-3PO   https://swapi.dev/api/planets/1/\n",
       "2               R2-D2   https://swapi.dev/api/planets/8/\n",
       "3         Darth Vader   https://swapi.dev/api/planets/1/\n",
       "4         Leia Organa   https://swapi.dev/api/planets/2/\n",
       "5           Owen Lars   https://swapi.dev/api/planets/1/\n",
       "6  Beru Whitesun lars   https://swapi.dev/api/planets/1/\n",
       "7               R5-D4   https://swapi.dev/api/planets/1/\n",
       "8   Biggs Darklighter   https://swapi.dev/api/planets/1/\n",
       "9      Obi-Wan Kenobi  https://swapi.dev/api/planets/20/"
      ]
     },
     "execution_count": 8,
     "metadata": {},
     "output_type": "execute_result"
    }
   ],
   "source": [
    "# df of the names\n",
    "\n",
    "people = pd.DataFrame({'name' : names, \n",
    "                       'homeworld' : planets})\n",
    "people"
   ]
  },
  {
   "cell_type": "code",
   "execution_count": 9,
   "id": "527c750b",
   "metadata": {},
   "outputs": [],
   "source": [
    "# starships api url\n",
    "\n",
    "starship_url = 'https://swapi.dev/api/starships/'"
   ]
  },
  {
   "cell_type": "code",
   "execution_count": 29,
   "id": "ae20bdfe",
   "metadata": {},
   "outputs": [
    {
     "data": {
      "text/plain": [
       "dict_keys(['count', 'next', 'previous', 'results'])"
      ]
     },
     "execution_count": 29,
     "metadata": {},
     "output_type": "execute_result"
    }
   ],
   "source": [
    "# gets keys of dictionary in url\n",
    "\n",
    "tst_resp = requests.get(starship_url).json()\n",
    "\n",
    "tst_resp.keys()"
   ]
  },
  {
   "cell_type": "code",
   "execution_count": 34,
   "id": "2703f40f",
   "metadata": {},
   "outputs": [
    {
     "name": "stdout",
     "output_type": "stream",
     "text": [
      "count\n",
      "\n",
      "36\n",
      "\n",
      "next\n",
      "\n",
      "https://swapi.dev/api/starships/?page=2\n",
      "\n",
      "previous\n",
      "\n",
      "None\n",
      "\n",
      "results\n",
      "\n",
      "[{'name': 'CR90 corvette', 'model': 'CR90 corvette', 'manufacturer': 'Corellian Engineering Corporation', 'cost_in_credits': '3500000', 'length': '150', 'max_atmosphering_speed': '950', 'crew': '30-165', 'passengers': '600', 'cargo_capacity': '3000000', 'consumables': '1 year', 'hyperdrive_rating': '2.0', 'MGLT': '60', 'starship_class': 'corvette', 'pilots': [], 'films': ['https://swapi.dev/api/films/1/', 'https://swapi.dev/api/films/3/', 'https://swapi.dev/api/films/6/'], 'created': '2014-12-10T14:20:33.369000Z', 'edited': '2014-12-20T21:23:49.867000Z', 'url': 'https://swapi.dev/api/starships/2/'}, {'name': 'Star Destroyer', 'model': 'Imperial I-class Star Destroyer', 'manufacturer': 'Kuat Drive Yards', 'cost_in_credits': '150000000', 'length': '1,600', 'max_atmosphering_speed': '975', 'crew': '47,060', 'passengers': 'n/a', 'cargo_capacity': '36000000', 'consumables': '2 years', 'hyperdrive_rating': '2.0', 'MGLT': '60', 'starship_class': 'Star Destroyer', 'pilots': [], 'films': ['https://swapi.dev/api/films/1/', 'https://swapi.dev/api/films/2/', 'https://swapi.dev/api/films/3/'], 'created': '2014-12-10T15:08:19.848000Z', 'edited': '2014-12-20T21:23:49.870000Z', 'url': 'https://swapi.dev/api/starships/3/'}, {'name': 'Sentinel-class landing craft', 'model': 'Sentinel-class landing craft', 'manufacturer': 'Sienar Fleet Systems, Cyngus Spaceworks', 'cost_in_credits': '240000', 'length': '38', 'max_atmosphering_speed': '1000', 'crew': '5', 'passengers': '75', 'cargo_capacity': '180000', 'consumables': '1 month', 'hyperdrive_rating': '1.0', 'MGLT': '70', 'starship_class': 'landing craft', 'pilots': [], 'films': ['https://swapi.dev/api/films/1/'], 'created': '2014-12-10T15:48:00.586000Z', 'edited': '2014-12-20T21:23:49.873000Z', 'url': 'https://swapi.dev/api/starships/5/'}, {'name': 'Death Star', 'model': 'DS-1 Orbital Battle Station', 'manufacturer': 'Imperial Department of Military Research, Sienar Fleet Systems', 'cost_in_credits': '1000000000000', 'length': '120000', 'max_atmosphering_speed': 'n/a', 'crew': '342,953', 'passengers': '843,342', 'cargo_capacity': '1000000000000', 'consumables': '3 years', 'hyperdrive_rating': '4.0', 'MGLT': '10', 'starship_class': 'Deep Space Mobile Battlestation', 'pilots': [], 'films': ['https://swapi.dev/api/films/1/'], 'created': '2014-12-10T16:36:50.509000Z', 'edited': '2014-12-20T21:26:24.783000Z', 'url': 'https://swapi.dev/api/starships/9/'}, {'name': 'Millennium Falcon', 'model': 'YT-1300 light freighter', 'manufacturer': 'Corellian Engineering Corporation', 'cost_in_credits': '100000', 'length': '34.37', 'max_atmosphering_speed': '1050', 'crew': '4', 'passengers': '6', 'cargo_capacity': '100000', 'consumables': '2 months', 'hyperdrive_rating': '0.5', 'MGLT': '75', 'starship_class': 'Light freighter', 'pilots': ['https://swapi.dev/api/people/13/', 'https://swapi.dev/api/people/14/', 'https://swapi.dev/api/people/25/', 'https://swapi.dev/api/people/31/'], 'films': ['https://swapi.dev/api/films/1/', 'https://swapi.dev/api/films/2/', 'https://swapi.dev/api/films/3/'], 'created': '2014-12-10T16:59:45.094000Z', 'edited': '2014-12-20T21:23:49.880000Z', 'url': 'https://swapi.dev/api/starships/10/'}, {'name': 'Y-wing', 'model': 'BTL Y-wing', 'manufacturer': 'Koensayr Manufacturing', 'cost_in_credits': '134999', 'length': '14', 'max_atmosphering_speed': '1000km', 'crew': '2', 'passengers': '0', 'cargo_capacity': '110', 'consumables': '1 week', 'hyperdrive_rating': '1.0', 'MGLT': '80', 'starship_class': 'assault starfighter', 'pilots': [], 'films': ['https://swapi.dev/api/films/1/', 'https://swapi.dev/api/films/2/', 'https://swapi.dev/api/films/3/'], 'created': '2014-12-12T11:00:39.817000Z', 'edited': '2014-12-20T21:23:49.883000Z', 'url': 'https://swapi.dev/api/starships/11/'}, {'name': 'X-wing', 'model': 'T-65 X-wing', 'manufacturer': 'Incom Corporation', 'cost_in_credits': '149999', 'length': '12.5', 'max_atmosphering_speed': '1050', 'crew': '1', 'passengers': '0', 'cargo_capacity': '110', 'consumables': '1 week', 'hyperdrive_rating': '1.0', 'MGLT': '100', 'starship_class': 'Starfighter', 'pilots': ['https://swapi.dev/api/people/1/', 'https://swapi.dev/api/people/9/', 'https://swapi.dev/api/people/18/', 'https://swapi.dev/api/people/19/'], 'films': ['https://swapi.dev/api/films/1/', 'https://swapi.dev/api/films/2/', 'https://swapi.dev/api/films/3/'], 'created': '2014-12-12T11:19:05.340000Z', 'edited': '2014-12-20T21:23:49.886000Z', 'url': 'https://swapi.dev/api/starships/12/'}, {'name': 'TIE Advanced x1', 'model': 'Twin Ion Engine Advanced x1', 'manufacturer': 'Sienar Fleet Systems', 'cost_in_credits': 'unknown', 'length': '9.2', 'max_atmosphering_speed': '1200', 'crew': '1', 'passengers': '0', 'cargo_capacity': '150', 'consumables': '5 days', 'hyperdrive_rating': '1.0', 'MGLT': '105', 'starship_class': 'Starfighter', 'pilots': ['https://swapi.dev/api/people/4/'], 'films': ['https://swapi.dev/api/films/1/'], 'created': '2014-12-12T11:21:32.991000Z', 'edited': '2014-12-20T21:23:49.889000Z', 'url': 'https://swapi.dev/api/starships/13/'}, {'name': 'Executor', 'model': 'Executor-class star dreadnought', 'manufacturer': 'Kuat Drive Yards, Fondor Shipyards', 'cost_in_credits': '1143350000', 'length': '19000', 'max_atmosphering_speed': 'n/a', 'crew': '279,144', 'passengers': '38000', 'cargo_capacity': '250000000', 'consumables': '6 years', 'hyperdrive_rating': '2.0', 'MGLT': '40', 'starship_class': 'Star dreadnought', 'pilots': [], 'films': ['https://swapi.dev/api/films/2/', 'https://swapi.dev/api/films/3/'], 'created': '2014-12-15T12:31:42.547000Z', 'edited': '2014-12-20T21:23:49.893000Z', 'url': 'https://swapi.dev/api/starships/15/'}, {'name': 'Rebel transport', 'model': 'GR-75 medium transport', 'manufacturer': 'Gallofree Yards, Inc.', 'cost_in_credits': 'unknown', 'length': '90', 'max_atmosphering_speed': '650', 'crew': '6', 'passengers': '90', 'cargo_capacity': '19000000', 'consumables': '6 months', 'hyperdrive_rating': '4.0', 'MGLT': '20', 'starship_class': 'Medium transport', 'pilots': [], 'films': ['https://swapi.dev/api/films/2/', 'https://swapi.dev/api/films/3/'], 'created': '2014-12-15T12:34:52.264000Z', 'edited': '2014-12-20T21:23:49.895000Z', 'url': 'https://swapi.dev/api/starships/17/'}]\n",
      "\n"
     ]
    }
   ],
   "source": [
    "# prints the info in each key\n",
    "for key in tst_resp.keys():\n",
    "    \n",
    "    print(key)\n",
    "    print()\n",
    "    print(tst_resp[key])\n",
    "    print()"
   ]
  },
  {
   "cell_type": "code",
   "execution_count": 37,
   "id": "e52f4d4d",
   "metadata": {},
   "outputs": [
    {
     "name": "stdout",
     "output_type": "stream",
     "text": [
      "{'name': 'CR90 corvette', 'model': 'CR90 corvette', 'manufacturer': 'Corellian Engineering Corporation', 'cost_in_credits': '3500000', 'length': '150', 'max_atmosphering_speed': '950', 'crew': '30-165', 'passengers': '600', 'cargo_capacity': '3000000', 'consumables': '1 year', 'hyperdrive_rating': '2.0', 'MGLT': '60', 'starship_class': 'corvette', 'pilots': [], 'films': ['https://swapi.dev/api/films/1/', 'https://swapi.dev/api/films/3/', 'https://swapi.dev/api/films/6/'], 'created': '2014-12-10T14:20:33.369000Z', 'edited': '2014-12-20T21:23:49.867000Z', 'url': 'https://swapi.dev/api/starships/2/'}\n",
      "\n",
      "{'name': 'Star Destroyer', 'model': 'Imperial I-class Star Destroyer', 'manufacturer': 'Kuat Drive Yards', 'cost_in_credits': '150000000', 'length': '1,600', 'max_atmosphering_speed': '975', 'crew': '47,060', 'passengers': 'n/a', 'cargo_capacity': '36000000', 'consumables': '2 years', 'hyperdrive_rating': '2.0', 'MGLT': '60', 'starship_class': 'Star Destroyer', 'pilots': [], 'films': ['https://swapi.dev/api/films/1/', 'https://swapi.dev/api/films/2/', 'https://swapi.dev/api/films/3/'], 'created': '2014-12-10T15:08:19.848000Z', 'edited': '2014-12-20T21:23:49.870000Z', 'url': 'https://swapi.dev/api/starships/3/'}\n",
      "\n",
      "{'name': 'Sentinel-class landing craft', 'model': 'Sentinel-class landing craft', 'manufacturer': 'Sienar Fleet Systems, Cyngus Spaceworks', 'cost_in_credits': '240000', 'length': '38', 'max_atmosphering_speed': '1000', 'crew': '5', 'passengers': '75', 'cargo_capacity': '180000', 'consumables': '1 month', 'hyperdrive_rating': '1.0', 'MGLT': '70', 'starship_class': 'landing craft', 'pilots': [], 'films': ['https://swapi.dev/api/films/1/'], 'created': '2014-12-10T15:48:00.586000Z', 'edited': '2014-12-20T21:23:49.873000Z', 'url': 'https://swapi.dev/api/starships/5/'}\n",
      "\n",
      "{'name': 'Death Star', 'model': 'DS-1 Orbital Battle Station', 'manufacturer': 'Imperial Department of Military Research, Sienar Fleet Systems', 'cost_in_credits': '1000000000000', 'length': '120000', 'max_atmosphering_speed': 'n/a', 'crew': '342,953', 'passengers': '843,342', 'cargo_capacity': '1000000000000', 'consumables': '3 years', 'hyperdrive_rating': '4.0', 'MGLT': '10', 'starship_class': 'Deep Space Mobile Battlestation', 'pilots': [], 'films': ['https://swapi.dev/api/films/1/'], 'created': '2014-12-10T16:36:50.509000Z', 'edited': '2014-12-20T21:26:24.783000Z', 'url': 'https://swapi.dev/api/starships/9/'}\n",
      "\n",
      "{'name': 'Millennium Falcon', 'model': 'YT-1300 light freighter', 'manufacturer': 'Corellian Engineering Corporation', 'cost_in_credits': '100000', 'length': '34.37', 'max_atmosphering_speed': '1050', 'crew': '4', 'passengers': '6', 'cargo_capacity': '100000', 'consumables': '2 months', 'hyperdrive_rating': '0.5', 'MGLT': '75', 'starship_class': 'Light freighter', 'pilots': ['https://swapi.dev/api/people/13/', 'https://swapi.dev/api/people/14/', 'https://swapi.dev/api/people/25/', 'https://swapi.dev/api/people/31/'], 'films': ['https://swapi.dev/api/films/1/', 'https://swapi.dev/api/films/2/', 'https://swapi.dev/api/films/3/'], 'created': '2014-12-10T16:59:45.094000Z', 'edited': '2014-12-20T21:23:49.880000Z', 'url': 'https://swapi.dev/api/starships/10/'}\n",
      "\n",
      "{'name': 'Y-wing', 'model': 'BTL Y-wing', 'manufacturer': 'Koensayr Manufacturing', 'cost_in_credits': '134999', 'length': '14', 'max_atmosphering_speed': '1000km', 'crew': '2', 'passengers': '0', 'cargo_capacity': '110', 'consumables': '1 week', 'hyperdrive_rating': '1.0', 'MGLT': '80', 'starship_class': 'assault starfighter', 'pilots': [], 'films': ['https://swapi.dev/api/films/1/', 'https://swapi.dev/api/films/2/', 'https://swapi.dev/api/films/3/'], 'created': '2014-12-12T11:00:39.817000Z', 'edited': '2014-12-20T21:23:49.883000Z', 'url': 'https://swapi.dev/api/starships/11/'}\n",
      "\n",
      "{'name': 'X-wing', 'model': 'T-65 X-wing', 'manufacturer': 'Incom Corporation', 'cost_in_credits': '149999', 'length': '12.5', 'max_atmosphering_speed': '1050', 'crew': '1', 'passengers': '0', 'cargo_capacity': '110', 'consumables': '1 week', 'hyperdrive_rating': '1.0', 'MGLT': '100', 'starship_class': 'Starfighter', 'pilots': ['https://swapi.dev/api/people/1/', 'https://swapi.dev/api/people/9/', 'https://swapi.dev/api/people/18/', 'https://swapi.dev/api/people/19/'], 'films': ['https://swapi.dev/api/films/1/', 'https://swapi.dev/api/films/2/', 'https://swapi.dev/api/films/3/'], 'created': '2014-12-12T11:19:05.340000Z', 'edited': '2014-12-20T21:23:49.886000Z', 'url': 'https://swapi.dev/api/starships/12/'}\n",
      "\n",
      "{'name': 'TIE Advanced x1', 'model': 'Twin Ion Engine Advanced x1', 'manufacturer': 'Sienar Fleet Systems', 'cost_in_credits': 'unknown', 'length': '9.2', 'max_atmosphering_speed': '1200', 'crew': '1', 'passengers': '0', 'cargo_capacity': '150', 'consumables': '5 days', 'hyperdrive_rating': '1.0', 'MGLT': '105', 'starship_class': 'Starfighter', 'pilots': ['https://swapi.dev/api/people/4/'], 'films': ['https://swapi.dev/api/films/1/'], 'created': '2014-12-12T11:21:32.991000Z', 'edited': '2014-12-20T21:23:49.889000Z', 'url': 'https://swapi.dev/api/starships/13/'}\n",
      "\n",
      "{'name': 'Executor', 'model': 'Executor-class star dreadnought', 'manufacturer': 'Kuat Drive Yards, Fondor Shipyards', 'cost_in_credits': '1143350000', 'length': '19000', 'max_atmosphering_speed': 'n/a', 'crew': '279,144', 'passengers': '38000', 'cargo_capacity': '250000000', 'consumables': '6 years', 'hyperdrive_rating': '2.0', 'MGLT': '40', 'starship_class': 'Star dreadnought', 'pilots': [], 'films': ['https://swapi.dev/api/films/2/', 'https://swapi.dev/api/films/3/'], 'created': '2014-12-15T12:31:42.547000Z', 'edited': '2014-12-20T21:23:49.893000Z', 'url': 'https://swapi.dev/api/starships/15/'}\n",
      "\n",
      "{'name': 'Rebel transport', 'model': 'GR-75 medium transport', 'manufacturer': 'Gallofree Yards, Inc.', 'cost_in_credits': 'unknown', 'length': '90', 'max_atmosphering_speed': '650', 'crew': '6', 'passengers': '90', 'cargo_capacity': '19000000', 'consumables': '6 months', 'hyperdrive_rating': '4.0', 'MGLT': '20', 'starship_class': 'Medium transport', 'pilots': [], 'films': ['https://swapi.dev/api/films/2/', 'https://swapi.dev/api/films/3/'], 'created': '2014-12-15T12:34:52.264000Z', 'edited': '2014-12-20T21:23:49.895000Z', 'url': 'https://swapi.dev/api/starships/17/'}\n",
      "\n"
     ]
    }
   ],
   "source": [
    "# prints each entry in the list\n",
    "# eliminates [] of the original list\n",
    "\n",
    "\n",
    "for item in tst_resp['results']:\n",
    "    \n",
    "    print(item)\n",
    "    print()"
   ]
  },
  {
   "cell_type": "code",
   "execution_count": 43,
   "id": "267cded8",
   "metadata": {},
   "outputs": [
    {
     "name": "stdout",
     "output_type": "stream",
     "text": [
      "1 year\n",
      "2 years\n",
      "1 month\n",
      "3 years\n",
      "2 months\n",
      "1 week\n",
      "1 week\n",
      "5 days\n",
      "6 years\n",
      "6 months\n"
     ]
    }
   ],
   "source": [
    "# item is a dico from my tst_resp['results'] list\n",
    "# prints the name, consumables, etc, from the item\n",
    "\n",
    "for item in tst_resp['results']:\n",
    "    \n",
    "    print(item['consumables'])"
   ]
  },
  {
   "cell_type": "code",
   "execution_count": null,
   "id": "7d909aaf",
   "metadata": {},
   "outputs": [],
   "source": []
  },
  {
   "cell_type": "code",
   "execution_count": 10,
   "id": "cdd8e3b5",
   "metadata": {},
   "outputs": [
    {
     "name": "stdout",
     "output_type": "stream",
     "text": [
      "{'detail': 'Not found'}\n",
      "{'name': 'CR90 corvette', 'model': 'CR90 corvette', 'manufacturer': 'Corellian Engineering Corporation', 'cost_in_credits': '3500000', 'length': '150', 'max_atmosphering_speed': '950', 'crew': '30-165', 'passengers': '600', 'cargo_capacity': '3000000', 'consumables': '1 year', 'hyperdrive_rating': '2.0', 'MGLT': '60', 'starship_class': 'corvette', 'pilots': [], 'films': ['https://swapi.dev/api/films/1/', 'https://swapi.dev/api/films/3/', 'https://swapi.dev/api/films/6/'], 'created': '2014-12-10T14:20:33.369000Z', 'edited': '2014-12-20T21:23:49.867000Z', 'url': 'https://swapi.dev/api/starships/2/'}\n",
      "{'name': 'Star Destroyer', 'model': 'Imperial I-class Star Destroyer', 'manufacturer': 'Kuat Drive Yards', 'cost_in_credits': '150000000', 'length': '1,600', 'max_atmosphering_speed': '975', 'crew': '47,060', 'passengers': 'n/a', 'cargo_capacity': '36000000', 'consumables': '2 years', 'hyperdrive_rating': '2.0', 'MGLT': '60', 'starship_class': 'Star Destroyer', 'pilots': [], 'films': ['https://swapi.dev/api/films/1/', 'https://swapi.dev/api/films/2/', 'https://swapi.dev/api/films/3/'], 'created': '2014-12-10T15:08:19.848000Z', 'edited': '2014-12-20T21:23:49.870000Z', 'url': 'https://swapi.dev/api/starships/3/'}\n",
      "{'detail': 'Not found'}\n",
      "{'name': 'Sentinel-class landing craft', 'model': 'Sentinel-class landing craft', 'manufacturer': 'Sienar Fleet Systems, Cyngus Spaceworks', 'cost_in_credits': '240000', 'length': '38', 'max_atmosphering_speed': '1000', 'crew': '5', 'passengers': '75', 'cargo_capacity': '180000', 'consumables': '1 month', 'hyperdrive_rating': '1.0', 'MGLT': '70', 'starship_class': 'landing craft', 'pilots': [], 'films': ['https://swapi.dev/api/films/1/'], 'created': '2014-12-10T15:48:00.586000Z', 'edited': '2014-12-20T21:23:49.873000Z', 'url': 'https://swapi.dev/api/starships/5/'}\n",
      "{'detail': 'Not found'}\n",
      "{'detail': 'Not found'}\n",
      "{'detail': 'Not found'}\n",
      "[]\n"
     ]
    }
   ],
   "source": [
    "# use starships_url to do get starships\n",
    "# range is pages on the api website\n",
    "\n",
    "# lists to fill in with info\n",
    "starships = []\n",
    "\n",
    "for i in range(1, 9):\n",
    "    \n",
    "    # when i is something, add this number on to the end of the base_url and get to succeeding webpages\n",
    "    new_url = starship_url + f'{i}/'\n",
    "    \n",
    "    response = requests.get(new_url)\n",
    "    \n",
    "    # variable to store response.json()\n",
    "    j2 = response.json()\n",
    "    \n",
    "    print(j2)\n",
    "    \n",
    "    # appending name to starships list\n",
    "  #  starships.append(j2['results'])\n",
    "    \n",
    "print(starships)"
   ]
  },
  {
   "cell_type": "code",
   "execution_count": 11,
   "id": "e92a8002",
   "metadata": {},
   "outputs": [],
   "source": [
    "new_url = starship_url + f'{i}/'"
   ]
  },
  {
   "cell_type": "code",
   "execution_count": 12,
   "id": "521c326c",
   "metadata": {},
   "outputs": [],
   "source": [
    "response = requests.get(new_url)"
   ]
  },
  {
   "cell_type": "code",
   "execution_count": 13,
   "id": "8f82df1e",
   "metadata": {},
   "outputs": [
    {
     "data": {
      "text/plain": [
       "False"
      ]
     },
     "execution_count": 13,
     "metadata": {},
     "output_type": "execute_result"
    }
   ],
   "source": [
    "response.ok"
   ]
  },
  {
   "cell_type": "code",
   "execution_count": 14,
   "id": "a2875334",
   "metadata": {},
   "outputs": [],
   "source": [
    "url = 'https://swapi.dev/api/starships/'"
   ]
  },
  {
   "cell_type": "code",
   "execution_count": 15,
   "id": "b94f3773",
   "metadata": {},
   "outputs": [],
   "source": [
    "working_url = requests.get(url)"
   ]
  },
  {
   "cell_type": "code",
   "execution_count": 16,
   "id": "4e7739b1",
   "metadata": {},
   "outputs": [
    {
     "data": {
      "text/plain": [
       "{'count': 36,\n",
       " 'next': 'https://swapi.dev/api/starships/?page=2',\n",
       " 'previous': None,\n",
       " 'results': [{'name': 'CR90 corvette',\n",
       "   'model': 'CR90 corvette',\n",
       "   'manufacturer': 'Corellian Engineering Corporation',\n",
       "   'cost_in_credits': '3500000',\n",
       "   'length': '150',\n",
       "   'max_atmosphering_speed': '950',\n",
       "   'crew': '30-165',\n",
       "   'passengers': '600',\n",
       "   'cargo_capacity': '3000000',\n",
       "   'consumables': '1 year',\n",
       "   'hyperdrive_rating': '2.0',\n",
       "   'MGLT': '60',\n",
       "   'starship_class': 'corvette',\n",
       "   'pilots': [],\n",
       "   'films': ['https://swapi.dev/api/films/1/',\n",
       "    'https://swapi.dev/api/films/3/',\n",
       "    'https://swapi.dev/api/films/6/'],\n",
       "   'created': '2014-12-10T14:20:33.369000Z',\n",
       "   'edited': '2014-12-20T21:23:49.867000Z',\n",
       "   'url': 'https://swapi.dev/api/starships/2/'},\n",
       "  {'name': 'Star Destroyer',\n",
       "   'model': 'Imperial I-class Star Destroyer',\n",
       "   'manufacturer': 'Kuat Drive Yards',\n",
       "   'cost_in_credits': '150000000',\n",
       "   'length': '1,600',\n",
       "   'max_atmosphering_speed': '975',\n",
       "   'crew': '47,060',\n",
       "   'passengers': 'n/a',\n",
       "   'cargo_capacity': '36000000',\n",
       "   'consumables': '2 years',\n",
       "   'hyperdrive_rating': '2.0',\n",
       "   'MGLT': '60',\n",
       "   'starship_class': 'Star Destroyer',\n",
       "   'pilots': [],\n",
       "   'films': ['https://swapi.dev/api/films/1/',\n",
       "    'https://swapi.dev/api/films/2/',\n",
       "    'https://swapi.dev/api/films/3/'],\n",
       "   'created': '2014-12-10T15:08:19.848000Z',\n",
       "   'edited': '2014-12-20T21:23:49.870000Z',\n",
       "   'url': 'https://swapi.dev/api/starships/3/'},\n",
       "  {'name': 'Sentinel-class landing craft',\n",
       "   'model': 'Sentinel-class landing craft',\n",
       "   'manufacturer': 'Sienar Fleet Systems, Cyngus Spaceworks',\n",
       "   'cost_in_credits': '240000',\n",
       "   'length': '38',\n",
       "   'max_atmosphering_speed': '1000',\n",
       "   'crew': '5',\n",
       "   'passengers': '75',\n",
       "   'cargo_capacity': '180000',\n",
       "   'consumables': '1 month',\n",
       "   'hyperdrive_rating': '1.0',\n",
       "   'MGLT': '70',\n",
       "   'starship_class': 'landing craft',\n",
       "   'pilots': [],\n",
       "   'films': ['https://swapi.dev/api/films/1/'],\n",
       "   'created': '2014-12-10T15:48:00.586000Z',\n",
       "   'edited': '2014-12-20T21:23:49.873000Z',\n",
       "   'url': 'https://swapi.dev/api/starships/5/'},\n",
       "  {'name': 'Death Star',\n",
       "   'model': 'DS-1 Orbital Battle Station',\n",
       "   'manufacturer': 'Imperial Department of Military Research, Sienar Fleet Systems',\n",
       "   'cost_in_credits': '1000000000000',\n",
       "   'length': '120000',\n",
       "   'max_atmosphering_speed': 'n/a',\n",
       "   'crew': '342,953',\n",
       "   'passengers': '843,342',\n",
       "   'cargo_capacity': '1000000000000',\n",
       "   'consumables': '3 years',\n",
       "   'hyperdrive_rating': '4.0',\n",
       "   'MGLT': '10',\n",
       "   'starship_class': 'Deep Space Mobile Battlestation',\n",
       "   'pilots': [],\n",
       "   'films': ['https://swapi.dev/api/films/1/'],\n",
       "   'created': '2014-12-10T16:36:50.509000Z',\n",
       "   'edited': '2014-12-20T21:26:24.783000Z',\n",
       "   'url': 'https://swapi.dev/api/starships/9/'},\n",
       "  {'name': 'Millennium Falcon',\n",
       "   'model': 'YT-1300 light freighter',\n",
       "   'manufacturer': 'Corellian Engineering Corporation',\n",
       "   'cost_in_credits': '100000',\n",
       "   'length': '34.37',\n",
       "   'max_atmosphering_speed': '1050',\n",
       "   'crew': '4',\n",
       "   'passengers': '6',\n",
       "   'cargo_capacity': '100000',\n",
       "   'consumables': '2 months',\n",
       "   'hyperdrive_rating': '0.5',\n",
       "   'MGLT': '75',\n",
       "   'starship_class': 'Light freighter',\n",
       "   'pilots': ['https://swapi.dev/api/people/13/',\n",
       "    'https://swapi.dev/api/people/14/',\n",
       "    'https://swapi.dev/api/people/25/',\n",
       "    'https://swapi.dev/api/people/31/'],\n",
       "   'films': ['https://swapi.dev/api/films/1/',\n",
       "    'https://swapi.dev/api/films/2/',\n",
       "    'https://swapi.dev/api/films/3/'],\n",
       "   'created': '2014-12-10T16:59:45.094000Z',\n",
       "   'edited': '2014-12-20T21:23:49.880000Z',\n",
       "   'url': 'https://swapi.dev/api/starships/10/'},\n",
       "  {'name': 'Y-wing',\n",
       "   'model': 'BTL Y-wing',\n",
       "   'manufacturer': 'Koensayr Manufacturing',\n",
       "   'cost_in_credits': '134999',\n",
       "   'length': '14',\n",
       "   'max_atmosphering_speed': '1000km',\n",
       "   'crew': '2',\n",
       "   'passengers': '0',\n",
       "   'cargo_capacity': '110',\n",
       "   'consumables': '1 week',\n",
       "   'hyperdrive_rating': '1.0',\n",
       "   'MGLT': '80',\n",
       "   'starship_class': 'assault starfighter',\n",
       "   'pilots': [],\n",
       "   'films': ['https://swapi.dev/api/films/1/',\n",
       "    'https://swapi.dev/api/films/2/',\n",
       "    'https://swapi.dev/api/films/3/'],\n",
       "   'created': '2014-12-12T11:00:39.817000Z',\n",
       "   'edited': '2014-12-20T21:23:49.883000Z',\n",
       "   'url': 'https://swapi.dev/api/starships/11/'},\n",
       "  {'name': 'X-wing',\n",
       "   'model': 'T-65 X-wing',\n",
       "   'manufacturer': 'Incom Corporation',\n",
       "   'cost_in_credits': '149999',\n",
       "   'length': '12.5',\n",
       "   'max_atmosphering_speed': '1050',\n",
       "   'crew': '1',\n",
       "   'passengers': '0',\n",
       "   'cargo_capacity': '110',\n",
       "   'consumables': '1 week',\n",
       "   'hyperdrive_rating': '1.0',\n",
       "   'MGLT': '100',\n",
       "   'starship_class': 'Starfighter',\n",
       "   'pilots': ['https://swapi.dev/api/people/1/',\n",
       "    'https://swapi.dev/api/people/9/',\n",
       "    'https://swapi.dev/api/people/18/',\n",
       "    'https://swapi.dev/api/people/19/'],\n",
       "   'films': ['https://swapi.dev/api/films/1/',\n",
       "    'https://swapi.dev/api/films/2/',\n",
       "    'https://swapi.dev/api/films/3/'],\n",
       "   'created': '2014-12-12T11:19:05.340000Z',\n",
       "   'edited': '2014-12-20T21:23:49.886000Z',\n",
       "   'url': 'https://swapi.dev/api/starships/12/'},\n",
       "  {'name': 'TIE Advanced x1',\n",
       "   'model': 'Twin Ion Engine Advanced x1',\n",
       "   'manufacturer': 'Sienar Fleet Systems',\n",
       "   'cost_in_credits': 'unknown',\n",
       "   'length': '9.2',\n",
       "   'max_atmosphering_speed': '1200',\n",
       "   'crew': '1',\n",
       "   'passengers': '0',\n",
       "   'cargo_capacity': '150',\n",
       "   'consumables': '5 days',\n",
       "   'hyperdrive_rating': '1.0',\n",
       "   'MGLT': '105',\n",
       "   'starship_class': 'Starfighter',\n",
       "   'pilots': ['https://swapi.dev/api/people/4/'],\n",
       "   'films': ['https://swapi.dev/api/films/1/'],\n",
       "   'created': '2014-12-12T11:21:32.991000Z',\n",
       "   'edited': '2014-12-20T21:23:49.889000Z',\n",
       "   'url': 'https://swapi.dev/api/starships/13/'},\n",
       "  {'name': 'Executor',\n",
       "   'model': 'Executor-class star dreadnought',\n",
       "   'manufacturer': 'Kuat Drive Yards, Fondor Shipyards',\n",
       "   'cost_in_credits': '1143350000',\n",
       "   'length': '19000',\n",
       "   'max_atmosphering_speed': 'n/a',\n",
       "   'crew': '279,144',\n",
       "   'passengers': '38000',\n",
       "   'cargo_capacity': '250000000',\n",
       "   'consumables': '6 years',\n",
       "   'hyperdrive_rating': '2.0',\n",
       "   'MGLT': '40',\n",
       "   'starship_class': 'Star dreadnought',\n",
       "   'pilots': [],\n",
       "   'films': ['https://swapi.dev/api/films/2/',\n",
       "    'https://swapi.dev/api/films/3/'],\n",
       "   'created': '2014-12-15T12:31:42.547000Z',\n",
       "   'edited': '2014-12-20T21:23:49.893000Z',\n",
       "   'url': 'https://swapi.dev/api/starships/15/'},\n",
       "  {'name': 'Rebel transport',\n",
       "   'model': 'GR-75 medium transport',\n",
       "   'manufacturer': 'Gallofree Yards, Inc.',\n",
       "   'cost_in_credits': 'unknown',\n",
       "   'length': '90',\n",
       "   'max_atmosphering_speed': '650',\n",
       "   'crew': '6',\n",
       "   'passengers': '90',\n",
       "   'cargo_capacity': '19000000',\n",
       "   'consumables': '6 months',\n",
       "   'hyperdrive_rating': '4.0',\n",
       "   'MGLT': '20',\n",
       "   'starship_class': 'Medium transport',\n",
       "   'pilots': [],\n",
       "   'films': ['https://swapi.dev/api/films/2/',\n",
       "    'https://swapi.dev/api/films/3/'],\n",
       "   'created': '2014-12-15T12:34:52.264000Z',\n",
       "   'edited': '2014-12-20T21:23:49.895000Z',\n",
       "   'url': 'https://swapi.dev/api/starships/17/'}]}"
      ]
     },
     "execution_count": 16,
     "metadata": {},
     "output_type": "execute_result"
    }
   ],
   "source": [
    "j3 = working_url.json()\n",
    "j3"
   ]
  },
  {
   "cell_type": "code",
   "execution_count": 17,
   "id": "c4a1fd54",
   "metadata": {},
   "outputs": [
    {
     "data": {
      "text/plain": [
       "[{'name': 'CR90 corvette',\n",
       "  'model': 'CR90 corvette',\n",
       "  'manufacturer': 'Corellian Engineering Corporation',\n",
       "  'cost_in_credits': '3500000',\n",
       "  'length': '150',\n",
       "  'max_atmosphering_speed': '950',\n",
       "  'crew': '30-165',\n",
       "  'passengers': '600',\n",
       "  'cargo_capacity': '3000000',\n",
       "  'consumables': '1 year',\n",
       "  'hyperdrive_rating': '2.0',\n",
       "  'MGLT': '60',\n",
       "  'starship_class': 'corvette',\n",
       "  'pilots': [],\n",
       "  'films': ['https://swapi.dev/api/films/1/',\n",
       "   'https://swapi.dev/api/films/3/',\n",
       "   'https://swapi.dev/api/films/6/'],\n",
       "  'created': '2014-12-10T14:20:33.369000Z',\n",
       "  'edited': '2014-12-20T21:23:49.867000Z',\n",
       "  'url': 'https://swapi.dev/api/starships/2/'},\n",
       " {'name': 'Star Destroyer',\n",
       "  'model': 'Imperial I-class Star Destroyer',\n",
       "  'manufacturer': 'Kuat Drive Yards',\n",
       "  'cost_in_credits': '150000000',\n",
       "  'length': '1,600',\n",
       "  'max_atmosphering_speed': '975',\n",
       "  'crew': '47,060',\n",
       "  'passengers': 'n/a',\n",
       "  'cargo_capacity': '36000000',\n",
       "  'consumables': '2 years',\n",
       "  'hyperdrive_rating': '2.0',\n",
       "  'MGLT': '60',\n",
       "  'starship_class': 'Star Destroyer',\n",
       "  'pilots': [],\n",
       "  'films': ['https://swapi.dev/api/films/1/',\n",
       "   'https://swapi.dev/api/films/2/',\n",
       "   'https://swapi.dev/api/films/3/'],\n",
       "  'created': '2014-12-10T15:08:19.848000Z',\n",
       "  'edited': '2014-12-20T21:23:49.870000Z',\n",
       "  'url': 'https://swapi.dev/api/starships/3/'},\n",
       " {'name': 'Sentinel-class landing craft',\n",
       "  'model': 'Sentinel-class landing craft',\n",
       "  'manufacturer': 'Sienar Fleet Systems, Cyngus Spaceworks',\n",
       "  'cost_in_credits': '240000',\n",
       "  'length': '38',\n",
       "  'max_atmosphering_speed': '1000',\n",
       "  'crew': '5',\n",
       "  'passengers': '75',\n",
       "  'cargo_capacity': '180000',\n",
       "  'consumables': '1 month',\n",
       "  'hyperdrive_rating': '1.0',\n",
       "  'MGLT': '70',\n",
       "  'starship_class': 'landing craft',\n",
       "  'pilots': [],\n",
       "  'films': ['https://swapi.dev/api/films/1/'],\n",
       "  'created': '2014-12-10T15:48:00.586000Z',\n",
       "  'edited': '2014-12-20T21:23:49.873000Z',\n",
       "  'url': 'https://swapi.dev/api/starships/5/'},\n",
       " {'name': 'Death Star',\n",
       "  'model': 'DS-1 Orbital Battle Station',\n",
       "  'manufacturer': 'Imperial Department of Military Research, Sienar Fleet Systems',\n",
       "  'cost_in_credits': '1000000000000',\n",
       "  'length': '120000',\n",
       "  'max_atmosphering_speed': 'n/a',\n",
       "  'crew': '342,953',\n",
       "  'passengers': '843,342',\n",
       "  'cargo_capacity': '1000000000000',\n",
       "  'consumables': '3 years',\n",
       "  'hyperdrive_rating': '4.0',\n",
       "  'MGLT': '10',\n",
       "  'starship_class': 'Deep Space Mobile Battlestation',\n",
       "  'pilots': [],\n",
       "  'films': ['https://swapi.dev/api/films/1/'],\n",
       "  'created': '2014-12-10T16:36:50.509000Z',\n",
       "  'edited': '2014-12-20T21:26:24.783000Z',\n",
       "  'url': 'https://swapi.dev/api/starships/9/'},\n",
       " {'name': 'Millennium Falcon',\n",
       "  'model': 'YT-1300 light freighter',\n",
       "  'manufacturer': 'Corellian Engineering Corporation',\n",
       "  'cost_in_credits': '100000',\n",
       "  'length': '34.37',\n",
       "  'max_atmosphering_speed': '1050',\n",
       "  'crew': '4',\n",
       "  'passengers': '6',\n",
       "  'cargo_capacity': '100000',\n",
       "  'consumables': '2 months',\n",
       "  'hyperdrive_rating': '0.5',\n",
       "  'MGLT': '75',\n",
       "  'starship_class': 'Light freighter',\n",
       "  'pilots': ['https://swapi.dev/api/people/13/',\n",
       "   'https://swapi.dev/api/people/14/',\n",
       "   'https://swapi.dev/api/people/25/',\n",
       "   'https://swapi.dev/api/people/31/'],\n",
       "  'films': ['https://swapi.dev/api/films/1/',\n",
       "   'https://swapi.dev/api/films/2/',\n",
       "   'https://swapi.dev/api/films/3/'],\n",
       "  'created': '2014-12-10T16:59:45.094000Z',\n",
       "  'edited': '2014-12-20T21:23:49.880000Z',\n",
       "  'url': 'https://swapi.dev/api/starships/10/'},\n",
       " {'name': 'Y-wing',\n",
       "  'model': 'BTL Y-wing',\n",
       "  'manufacturer': 'Koensayr Manufacturing',\n",
       "  'cost_in_credits': '134999',\n",
       "  'length': '14',\n",
       "  'max_atmosphering_speed': '1000km',\n",
       "  'crew': '2',\n",
       "  'passengers': '0',\n",
       "  'cargo_capacity': '110',\n",
       "  'consumables': '1 week',\n",
       "  'hyperdrive_rating': '1.0',\n",
       "  'MGLT': '80',\n",
       "  'starship_class': 'assault starfighter',\n",
       "  'pilots': [],\n",
       "  'films': ['https://swapi.dev/api/films/1/',\n",
       "   'https://swapi.dev/api/films/2/',\n",
       "   'https://swapi.dev/api/films/3/'],\n",
       "  'created': '2014-12-12T11:00:39.817000Z',\n",
       "  'edited': '2014-12-20T21:23:49.883000Z',\n",
       "  'url': 'https://swapi.dev/api/starships/11/'},\n",
       " {'name': 'X-wing',\n",
       "  'model': 'T-65 X-wing',\n",
       "  'manufacturer': 'Incom Corporation',\n",
       "  'cost_in_credits': '149999',\n",
       "  'length': '12.5',\n",
       "  'max_atmosphering_speed': '1050',\n",
       "  'crew': '1',\n",
       "  'passengers': '0',\n",
       "  'cargo_capacity': '110',\n",
       "  'consumables': '1 week',\n",
       "  'hyperdrive_rating': '1.0',\n",
       "  'MGLT': '100',\n",
       "  'starship_class': 'Starfighter',\n",
       "  'pilots': ['https://swapi.dev/api/people/1/',\n",
       "   'https://swapi.dev/api/people/9/',\n",
       "   'https://swapi.dev/api/people/18/',\n",
       "   'https://swapi.dev/api/people/19/'],\n",
       "  'films': ['https://swapi.dev/api/films/1/',\n",
       "   'https://swapi.dev/api/films/2/',\n",
       "   'https://swapi.dev/api/films/3/'],\n",
       "  'created': '2014-12-12T11:19:05.340000Z',\n",
       "  'edited': '2014-12-20T21:23:49.886000Z',\n",
       "  'url': 'https://swapi.dev/api/starships/12/'},\n",
       " {'name': 'TIE Advanced x1',\n",
       "  'model': 'Twin Ion Engine Advanced x1',\n",
       "  'manufacturer': 'Sienar Fleet Systems',\n",
       "  'cost_in_credits': 'unknown',\n",
       "  'length': '9.2',\n",
       "  'max_atmosphering_speed': '1200',\n",
       "  'crew': '1',\n",
       "  'passengers': '0',\n",
       "  'cargo_capacity': '150',\n",
       "  'consumables': '5 days',\n",
       "  'hyperdrive_rating': '1.0',\n",
       "  'MGLT': '105',\n",
       "  'starship_class': 'Starfighter',\n",
       "  'pilots': ['https://swapi.dev/api/people/4/'],\n",
       "  'films': ['https://swapi.dev/api/films/1/'],\n",
       "  'created': '2014-12-12T11:21:32.991000Z',\n",
       "  'edited': '2014-12-20T21:23:49.889000Z',\n",
       "  'url': 'https://swapi.dev/api/starships/13/'},\n",
       " {'name': 'Executor',\n",
       "  'model': 'Executor-class star dreadnought',\n",
       "  'manufacturer': 'Kuat Drive Yards, Fondor Shipyards',\n",
       "  'cost_in_credits': '1143350000',\n",
       "  'length': '19000',\n",
       "  'max_atmosphering_speed': 'n/a',\n",
       "  'crew': '279,144',\n",
       "  'passengers': '38000',\n",
       "  'cargo_capacity': '250000000',\n",
       "  'consumables': '6 years',\n",
       "  'hyperdrive_rating': '2.0',\n",
       "  'MGLT': '40',\n",
       "  'starship_class': 'Star dreadnought',\n",
       "  'pilots': [],\n",
       "  'films': ['https://swapi.dev/api/films/2/',\n",
       "   'https://swapi.dev/api/films/3/'],\n",
       "  'created': '2014-12-15T12:31:42.547000Z',\n",
       "  'edited': '2014-12-20T21:23:49.893000Z',\n",
       "  'url': 'https://swapi.dev/api/starships/15/'},\n",
       " {'name': 'Rebel transport',\n",
       "  'model': 'GR-75 medium transport',\n",
       "  'manufacturer': 'Gallofree Yards, Inc.',\n",
       "  'cost_in_credits': 'unknown',\n",
       "  'length': '90',\n",
       "  'max_atmosphering_speed': '650',\n",
       "  'crew': '6',\n",
       "  'passengers': '90',\n",
       "  'cargo_capacity': '19000000',\n",
       "  'consumables': '6 months',\n",
       "  'hyperdrive_rating': '4.0',\n",
       "  'MGLT': '20',\n",
       "  'starship_class': 'Medium transport',\n",
       "  'pilots': [],\n",
       "  'films': ['https://swapi.dev/api/films/2/',\n",
       "   'https://swapi.dev/api/films/3/'],\n",
       "  'created': '2014-12-15T12:34:52.264000Z',\n",
       "  'edited': '2014-12-20T21:23:49.895000Z',\n",
       "  'url': 'https://swapi.dev/api/starships/17/'}]"
      ]
     },
     "execution_count": 17,
     "metadata": {},
     "output_type": "execute_result"
    }
   ],
   "source": [
    "j3['results']"
   ]
  },
  {
   "cell_type": "code",
   "execution_count": 18,
   "id": "d491a2c4",
   "metadata": {},
   "outputs": [
    {
     "name": "stdout",
     "output_type": "stream",
     "text": [
      "CR90 corvette\n",
      "Star Destroyer\n",
      "Sentinel-class landing craft\n",
      "Death Star\n",
      "Millennium Falcon\n",
      "Y-wing\n",
      "X-wing\n",
      "TIE Advanced x1\n",
      "Executor\n",
      "Rebel transport\n"
     ]
    }
   ],
   "source": [
    "for r in j3['results']:\n",
    "    \n",
    "    print(r['name'])"
   ]
  },
  {
   "cell_type": "code",
   "execution_count": 19,
   "id": "d48e128e",
   "metadata": {},
   "outputs": [
    {
     "data": {
      "text/plain": [
       "'https://swapi.dev/api/starships/?page=2'"
      ]
     },
     "execution_count": 19,
     "metadata": {},
     "output_type": "execute_result"
    }
   ],
   "source": [
    "j3['next']"
   ]
  },
  {
   "cell_type": "code",
   "execution_count": 20,
   "id": "12eb4f17",
   "metadata": {},
   "outputs": [],
   "source": [
    "next_page = 'https://swapi.dev/api/starships/?page=2'"
   ]
  },
  {
   "cell_type": "code",
   "execution_count": 21,
   "id": "ae7edbc4",
   "metadata": {},
   "outputs": [
    {
     "data": {
      "text/plain": [
       "<Response [200]>"
      ]
     },
     "execution_count": 21,
     "metadata": {},
     "output_type": "execute_result"
    }
   ],
   "source": [
    "further = requests.get(next_page)\n",
    "further"
   ]
  },
  {
   "cell_type": "code",
   "execution_count": 22,
   "id": "e323311c",
   "metadata": {},
   "outputs": [
    {
     "data": {
      "text/plain": [
       "{'count': 36,\n",
       " 'next': 'https://swapi.dev/api/starships/?page=3',\n",
       " 'previous': 'https://swapi.dev/api/starships/?page=1',\n",
       " 'results': [{'name': 'Slave 1',\n",
       "   'model': 'Firespray-31-class patrol and attack',\n",
       "   'manufacturer': 'Kuat Systems Engineering',\n",
       "   'cost_in_credits': 'unknown',\n",
       "   'length': '21.5',\n",
       "   'max_atmosphering_speed': '1000',\n",
       "   'crew': '1',\n",
       "   'passengers': '6',\n",
       "   'cargo_capacity': '70000',\n",
       "   'consumables': '1 month',\n",
       "   'hyperdrive_rating': '3.0',\n",
       "   'MGLT': '70',\n",
       "   'starship_class': 'Patrol craft',\n",
       "   'pilots': ['https://swapi.dev/api/people/22/'],\n",
       "   'films': ['https://swapi.dev/api/films/2/',\n",
       "    'https://swapi.dev/api/films/5/'],\n",
       "   'created': '2014-12-15T13:00:56.332000Z',\n",
       "   'edited': '2014-12-20T21:23:49.897000Z',\n",
       "   'url': 'https://swapi.dev/api/starships/21/'},\n",
       "  {'name': 'Imperial shuttle',\n",
       "   'model': 'Lambda-class T-4a shuttle',\n",
       "   'manufacturer': 'Sienar Fleet Systems',\n",
       "   'cost_in_credits': '240000',\n",
       "   'length': '20',\n",
       "   'max_atmosphering_speed': '850',\n",
       "   'crew': '6',\n",
       "   'passengers': '20',\n",
       "   'cargo_capacity': '80000',\n",
       "   'consumables': '2 months',\n",
       "   'hyperdrive_rating': '1.0',\n",
       "   'MGLT': '50',\n",
       "   'starship_class': 'Armed government transport',\n",
       "   'pilots': ['https://swapi.dev/api/people/1/',\n",
       "    'https://swapi.dev/api/people/13/',\n",
       "    'https://swapi.dev/api/people/14/'],\n",
       "   'films': ['https://swapi.dev/api/films/2/',\n",
       "    'https://swapi.dev/api/films/3/'],\n",
       "   'created': '2014-12-15T13:04:47.235000Z',\n",
       "   'edited': '2014-12-20T21:23:49.900000Z',\n",
       "   'url': 'https://swapi.dev/api/starships/22/'},\n",
       "  {'name': 'EF76 Nebulon-B escort frigate',\n",
       "   'model': 'EF76 Nebulon-B escort frigate',\n",
       "   'manufacturer': 'Kuat Drive Yards',\n",
       "   'cost_in_credits': '8500000',\n",
       "   'length': '300',\n",
       "   'max_atmosphering_speed': '800',\n",
       "   'crew': '854',\n",
       "   'passengers': '75',\n",
       "   'cargo_capacity': '6000000',\n",
       "   'consumables': '2 years',\n",
       "   'hyperdrive_rating': '2.0',\n",
       "   'MGLT': '40',\n",
       "   'starship_class': 'Escort ship',\n",
       "   'pilots': [],\n",
       "   'films': ['https://swapi.dev/api/films/2/',\n",
       "    'https://swapi.dev/api/films/3/'],\n",
       "   'created': '2014-12-15T13:06:30.813000Z',\n",
       "   'edited': '2014-12-20T21:23:49.902000Z',\n",
       "   'url': 'https://swapi.dev/api/starships/23/'},\n",
       "  {'name': 'Calamari Cruiser',\n",
       "   'model': 'MC80 Liberty type Star Cruiser',\n",
       "   'manufacturer': 'Mon Calamari shipyards',\n",
       "   'cost_in_credits': '104000000',\n",
       "   'length': '1200',\n",
       "   'max_atmosphering_speed': 'n/a',\n",
       "   'crew': '5400',\n",
       "   'passengers': '1200',\n",
       "   'cargo_capacity': 'unknown',\n",
       "   'consumables': '2 years',\n",
       "   'hyperdrive_rating': '1.0',\n",
       "   'MGLT': '60',\n",
       "   'starship_class': 'Star Cruiser',\n",
       "   'pilots': [],\n",
       "   'films': ['https://swapi.dev/api/films/3/'],\n",
       "   'created': '2014-12-18T10:54:57.804000Z',\n",
       "   'edited': '2014-12-20T21:23:49.904000Z',\n",
       "   'url': 'https://swapi.dev/api/starships/27/'},\n",
       "  {'name': 'A-wing',\n",
       "   'model': 'RZ-1 A-wing Interceptor',\n",
       "   'manufacturer': 'Alliance Underground Engineering, Incom Corporation',\n",
       "   'cost_in_credits': '175000',\n",
       "   'length': '9.6',\n",
       "   'max_atmosphering_speed': '1300',\n",
       "   'crew': '1',\n",
       "   'passengers': '0',\n",
       "   'cargo_capacity': '40',\n",
       "   'consumables': '1 week',\n",
       "   'hyperdrive_rating': '1.0',\n",
       "   'MGLT': '120',\n",
       "   'starship_class': 'Starfighter',\n",
       "   'pilots': ['https://swapi.dev/api/people/29/'],\n",
       "   'films': ['https://swapi.dev/api/films/3/'],\n",
       "   'created': '2014-12-18T11:16:34.542000Z',\n",
       "   'edited': '2014-12-20T21:23:49.907000Z',\n",
       "   'url': 'https://swapi.dev/api/starships/28/'},\n",
       "  {'name': 'B-wing',\n",
       "   'model': 'A/SF-01 B-wing starfighter',\n",
       "   'manufacturer': 'Slayn & Korpil',\n",
       "   'cost_in_credits': '220000',\n",
       "   'length': '16.9',\n",
       "   'max_atmosphering_speed': '950',\n",
       "   'crew': '1',\n",
       "   'passengers': '0',\n",
       "   'cargo_capacity': '45',\n",
       "   'consumables': '1 week',\n",
       "   'hyperdrive_rating': '2.0',\n",
       "   'MGLT': '91',\n",
       "   'starship_class': 'Assault Starfighter',\n",
       "   'pilots': [],\n",
       "   'films': ['https://swapi.dev/api/films/3/'],\n",
       "   'created': '2014-12-18T11:18:04.763000Z',\n",
       "   'edited': '2014-12-20T21:23:49.909000Z',\n",
       "   'url': 'https://swapi.dev/api/starships/29/'},\n",
       "  {'name': 'Republic Cruiser',\n",
       "   'model': 'Consular-class cruiser',\n",
       "   'manufacturer': 'Corellian Engineering Corporation',\n",
       "   'cost_in_credits': 'unknown',\n",
       "   'length': '115',\n",
       "   'max_atmosphering_speed': '900',\n",
       "   'crew': '9',\n",
       "   'passengers': '16',\n",
       "   'cargo_capacity': 'unknown',\n",
       "   'consumables': 'unknown',\n",
       "   'hyperdrive_rating': '2.0',\n",
       "   'MGLT': 'unknown',\n",
       "   'starship_class': 'Space cruiser',\n",
       "   'pilots': [],\n",
       "   'films': ['https://swapi.dev/api/films/4/'],\n",
       "   'created': '2014-12-19T17:01:31.488000Z',\n",
       "   'edited': '2014-12-20T21:23:49.912000Z',\n",
       "   'url': 'https://swapi.dev/api/starships/31/'},\n",
       "  {'name': 'Droid control ship',\n",
       "   'model': 'Lucrehulk-class Droid Control Ship',\n",
       "   'manufacturer': 'Hoersch-Kessel Drive, Inc.',\n",
       "   'cost_in_credits': 'unknown',\n",
       "   'length': '3170',\n",
       "   'max_atmosphering_speed': 'n/a',\n",
       "   'crew': '175',\n",
       "   'passengers': '139000',\n",
       "   'cargo_capacity': '4000000000',\n",
       "   'consumables': '500 days',\n",
       "   'hyperdrive_rating': '2.0',\n",
       "   'MGLT': 'unknown',\n",
       "   'starship_class': 'Droid control ship',\n",
       "   'pilots': [],\n",
       "   'films': ['https://swapi.dev/api/films/4/',\n",
       "    'https://swapi.dev/api/films/5/',\n",
       "    'https://swapi.dev/api/films/6/'],\n",
       "   'created': '2014-12-19T17:04:06.323000Z',\n",
       "   'edited': '2014-12-20T21:23:49.915000Z',\n",
       "   'url': 'https://swapi.dev/api/starships/32/'},\n",
       "  {'name': 'Naboo fighter',\n",
       "   'model': 'N-1 starfighter',\n",
       "   'manufacturer': 'Theed Palace Space Vessel Engineering Corps',\n",
       "   'cost_in_credits': '200000',\n",
       "   'length': '11',\n",
       "   'max_atmosphering_speed': '1100',\n",
       "   'crew': '1',\n",
       "   'passengers': '0',\n",
       "   'cargo_capacity': '65',\n",
       "   'consumables': '7 days',\n",
       "   'hyperdrive_rating': '1.0',\n",
       "   'MGLT': 'unknown',\n",
       "   'starship_class': 'Starfighter',\n",
       "   'pilots': ['https://swapi.dev/api/people/11/',\n",
       "    'https://swapi.dev/api/people/35/',\n",
       "    'https://swapi.dev/api/people/60/'],\n",
       "   'films': ['https://swapi.dev/api/films/4/',\n",
       "    'https://swapi.dev/api/films/5/'],\n",
       "   'created': '2014-12-19T17:39:17.582000Z',\n",
       "   'edited': '2014-12-20T21:23:49.917000Z',\n",
       "   'url': 'https://swapi.dev/api/starships/39/'},\n",
       "  {'name': 'Naboo Royal Starship',\n",
       "   'model': 'J-type 327 Nubian royal starship',\n",
       "   'manufacturer': 'Theed Palace Space Vessel Engineering Corps, Nubia Star Drives',\n",
       "   'cost_in_credits': 'unknown',\n",
       "   'length': '76',\n",
       "   'max_atmosphering_speed': '920',\n",
       "   'crew': '8',\n",
       "   'passengers': 'unknown',\n",
       "   'cargo_capacity': 'unknown',\n",
       "   'consumables': 'unknown',\n",
       "   'hyperdrive_rating': '1.8',\n",
       "   'MGLT': 'unknown',\n",
       "   'starship_class': 'yacht',\n",
       "   'pilots': ['https://swapi.dev/api/people/39/'],\n",
       "   'films': ['https://swapi.dev/api/films/4/'],\n",
       "   'created': '2014-12-19T17:45:03.506000Z',\n",
       "   'edited': '2014-12-20T21:23:49.919000Z',\n",
       "   'url': 'https://swapi.dev/api/starships/40/'}]}"
      ]
     },
     "execution_count": 22,
     "metadata": {},
     "output_type": "execute_result"
    }
   ],
   "source": [
    "j4 = further.json()\n",
    "j4"
   ]
  },
  {
   "cell_type": "code",
   "execution_count": 23,
   "id": "eca65f1e",
   "metadata": {},
   "outputs": [
    {
     "name": "stdout",
     "output_type": "stream",
     "text": [
      "Slave 1\n",
      "Imperial shuttle\n",
      "EF76 Nebulon-B escort frigate\n",
      "Calamari Cruiser\n",
      "A-wing\n",
      "B-wing\n",
      "Republic Cruiser\n",
      "Droid control ship\n",
      "Naboo fighter\n",
      "Naboo Royal Starship\n"
     ]
    }
   ],
   "source": [
    "for r in j4['results']:\n",
    "    \n",
    "    print(r['name'])"
   ]
  },
  {
   "cell_type": "code",
   "execution_count": 24,
   "id": "fec4698a",
   "metadata": {},
   "outputs": [],
   "source": [
    "def api_ship_getter(url):\n",
    "    \n",
    "    name_list = []\n",
    "    \n",
    "    # pulls the url\n",
    "    response = requests.get(url)\n",
    "    \n",
    "    # returns .json of url response\n",
    "    j = response.json()\n",
    "    \n",
    "    # returns dictionary with requested info\n",
    "    for r in j['results']:\n",
    "        \n",
    "        name_list.append(r['name'])\n",
    "        \n",
    "    return name_list"
   ]
  },
  {
   "cell_type": "code",
   "execution_count": 25,
   "id": "bf82df75",
   "metadata": {},
   "outputs": [
    {
     "data": {
      "text/plain": [
       "['Slave 1',\n",
       " 'Imperial shuttle',\n",
       " 'EF76 Nebulon-B escort frigate',\n",
       " 'Calamari Cruiser',\n",
       " 'A-wing',\n",
       " 'B-wing',\n",
       " 'Republic Cruiser',\n",
       " 'Droid control ship',\n",
       " 'Naboo fighter',\n",
       " 'Naboo Royal Starship']"
      ]
     },
     "execution_count": 25,
     "metadata": {},
     "output_type": "execute_result"
    }
   ],
   "source": [
    "api_ship_getter(next_page)"
   ]
  },
  {
   "cell_type": "code",
   "execution_count": 26,
   "id": "33d016d1",
   "metadata": {},
   "outputs": [],
   "source": [
    "def api_ship_getter(url):\n",
    "    \n",
    "    name_list = []\n",
    "    \n",
    "    # pulls the url\n",
    "    response = requests.get(url)\n",
    "    \n",
    "    # returns .json of url response\n",
    "    j = response.json()\n",
    "    \n",
    "    # returns dictionary with requested info\n",
    "    for r in j['results']:\n",
    "        \n",
    "        name_list.append(r['name'])\n",
    "        \n",
    "    return name_list"
   ]
  },
  {
   "cell_type": "code",
   "execution_count": 27,
   "id": "8879ce4e",
   "metadata": {},
   "outputs": [
    {
     "ename": "KeyError",
     "evalue": "'results'",
     "output_type": "error",
     "traceback": [
      "\u001b[0;31m---------------------------------------------------------------------------\u001b[0m",
      "\u001b[0;31mKeyError\u001b[0m                                  Traceback (most recent call last)",
      "Input \u001b[0;32mIn [27]\u001b[0m, in \u001b[0;36m<cell line: 1>\u001b[0;34m()\u001b[0m\n\u001b[1;32m      1\u001b[0m \u001b[38;5;28;01mfor\u001b[39;00m r \u001b[38;5;129;01min\u001b[39;00m \u001b[38;5;28mrange\u001b[39m(\u001b[38;5;241m1\u001b[39m, \u001b[38;5;241m6\u001b[39m):\n\u001b[1;32m      3\u001b[0m     page_flipper \u001b[38;5;241m=\u001b[39m \u001b[38;5;124mf\u001b[39m\u001b[38;5;124m'\u001b[39m\u001b[38;5;124mhttps://swapi.dev/api/starships/?page=\u001b[39m\u001b[38;5;132;01m{\u001b[39;00mr\u001b[38;5;132;01m}\u001b[39;00m\u001b[38;5;124m'\u001b[39m\n\u001b[0;32m----> 5\u001b[0m     \u001b[43mapi_ship_getter\u001b[49m\u001b[43m(\u001b[49m\u001b[43mpage_flipper\u001b[49m\u001b[43m)\u001b[49m\n",
      "Input \u001b[0;32mIn [26]\u001b[0m, in \u001b[0;36mapi_ship_getter\u001b[0;34m(url)\u001b[0m\n\u001b[1;32m      9\u001b[0m j \u001b[38;5;241m=\u001b[39m response\u001b[38;5;241m.\u001b[39mjson()\n\u001b[1;32m     11\u001b[0m \u001b[38;5;66;03m# returns dictionary with requested info\u001b[39;00m\n\u001b[0;32m---> 12\u001b[0m \u001b[38;5;28;01mfor\u001b[39;00m r \u001b[38;5;129;01min\u001b[39;00m \u001b[43mj\u001b[49m\u001b[43m[\u001b[49m\u001b[38;5;124;43m'\u001b[39;49m\u001b[38;5;124;43mresults\u001b[39;49m\u001b[38;5;124;43m'\u001b[39;49m\u001b[43m]\u001b[49m:\n\u001b[1;32m     14\u001b[0m     name_list\u001b[38;5;241m.\u001b[39mappend(r[\u001b[38;5;124m'\u001b[39m\u001b[38;5;124mname\u001b[39m\u001b[38;5;124m'\u001b[39m])\n\u001b[1;32m     16\u001b[0m \u001b[38;5;28;01mreturn\u001b[39;00m name_list\n",
      "\u001b[0;31mKeyError\u001b[0m: 'results'"
     ]
    }
   ],
   "source": [
    "for r in range(1, 6):\n",
    "    \n",
    "    page_flipper = f'https://swapi.dev/api/starships/?page={r}'\n",
    "    \n",
    "    api_ship_getter(page_flipper)"
   ]
  },
  {
   "cell_type": "code",
   "execution_count": null,
   "id": "752e301f",
   "metadata": {},
   "outputs": [],
   "source": []
  },
  {
   "cell_type": "code",
   "execution_count": null,
   "id": "35d169e2",
   "metadata": {},
   "outputs": [],
   "source": []
  },
  {
   "cell_type": "code",
   "execution_count": null,
   "id": "cbc85019",
   "metadata": {},
   "outputs": [],
   "source": []
  },
  {
   "cell_type": "code",
   "execution_count": null,
   "id": "6a612127",
   "metadata": {},
   "outputs": [],
   "source": []
  },
  {
   "cell_type": "code",
   "execution_count": null,
   "id": "70fd4b82",
   "metadata": {},
   "outputs": [],
   "source": []
  },
  {
   "cell_type": "code",
   "execution_count": null,
   "id": "b999ba6f",
   "metadata": {},
   "outputs": [],
   "source": []
  },
  {
   "cell_type": "code",
   "execution_count": null,
   "id": "ff1bf026",
   "metadata": {},
   "outputs": [],
   "source": []
  },
  {
   "cell_type": "code",
   "execution_count": null,
   "id": "8bfa6c43",
   "metadata": {},
   "outputs": [],
   "source": []
  },
  {
   "cell_type": "code",
   "execution_count": null,
   "id": "29bdddfd",
   "metadata": {},
   "outputs": [],
   "source": []
  },
  {
   "cell_type": "code",
   "execution_count": null,
   "id": "dcaa8340",
   "metadata": {},
   "outputs": [],
   "source": []
  },
  {
   "cell_type": "code",
   "execution_count": null,
   "id": "acc7d263",
   "metadata": {},
   "outputs": [],
   "source": []
  },
  {
   "cell_type": "code",
   "execution_count": null,
   "id": "00bac2ad",
   "metadata": {},
   "outputs": [],
   "source": []
  },
  {
   "cell_type": "code",
   "execution_count": null,
   "id": "25e36b22",
   "metadata": {},
   "outputs": [],
   "source": []
  },
  {
   "cell_type": "code",
   "execution_count": null,
   "id": "fffff9ec",
   "metadata": {},
   "outputs": [],
   "source": []
  },
  {
   "cell_type": "code",
   "execution_count": null,
   "id": "c48aaf9b",
   "metadata": {},
   "outputs": [],
   "source": []
  },
  {
   "cell_type": "code",
   "execution_count": null,
   "id": "38a31d55",
   "metadata": {},
   "outputs": [],
   "source": []
  },
  {
   "cell_type": "code",
   "execution_count": null,
   "id": "1f8fd53a",
   "metadata": {},
   "outputs": [],
   "source": []
  },
  {
   "cell_type": "code",
   "execution_count": null,
   "id": "954b8e13",
   "metadata": {},
   "outputs": [],
   "source": []
  },
  {
   "cell_type": "code",
   "execution_count": null,
   "id": "c6e27ad5",
   "metadata": {},
   "outputs": [],
   "source": [
    "#1 \n",
    "\n",
    "# assign api that we request to a variable\n",
    "\n",
    "response = requests.get('https://swapi.dev/api/people/')\n",
    "\n",
    "response"
   ]
  },
  {
   "cell_type": "code",
   "execution_count": null,
   "id": "c6ddd433",
   "metadata": {},
   "outputs": [],
   "source": [
    "# assigning to json\n",
    "data = response.json()\n",
    "data\n",
    "\n",
    "# we want 'results' and all that it contains"
   ]
  },
  {
   "cell_type": "code",
   "execution_count": null,
   "id": "4a849d09",
   "metadata": {},
   "outputs": [],
   "source": [
    "# array is a collection or list of data  []\n",
    "\n",
    "# turning into a df\n",
    "people_df = pd.DataFrame(data)\n",
    "people_df.info()"
   ]
  },
  {
   "cell_type": "code",
   "execution_count": null,
   "id": "0d6363b7",
   "metadata": {},
   "outputs": [],
   "source": [
    "while data['next'] != None:\n",
    "    \n",
    "    #print the next page\n",
    "    print(data['next'])\n",
    "    \n",
    "    # make respone variable the api\n",
    "    response = requests.get(data['next'])\n",
    "    \n",
    "    # with the info\n",
    "    data = response.json()\n",
    "    \n",
    "    people_df = pd.DataFrame(pd.concat([people_df, pd.DataFrame(data['results'])], ignore_index = True)            )"
   ]
  },
  {
   "cell_type": "code",
   "execution_count": null,
   "id": "67987a9b",
   "metadata": {},
   "outputs": [],
   "source": [
    "people_df.info()"
   ]
  },
  {
   "cell_type": "code",
   "execution_count": null,
   "id": "8849a6fa",
   "metadata": {},
   "outputs": [],
   "source": [
    "# planets\n",
    "planet_response = requests.get('https://swami.dev/api/planets')\n",
    "\n",
    "planet_data = "
   ]
  },
  {
   "cell_type": "code",
   "execution_count": null,
   "id": "5437c109",
   "metadata": {},
   "outputs": [],
   "source": [
    "# save to .csv\n"
   ]
  },
  {
   "cell_type": "code",
   "execution_count": null,
   "id": "ddcfca78",
   "metadata": {},
   "outputs": [],
   "source": []
  },
  {
   "cell_type": "code",
   "execution_count": null,
   "id": "90df02c1",
   "metadata": {},
   "outputs": [],
   "source": [
    "# 5 Germany data\n",
    "\n",
    "def get_de_electric(df, url):\n",
    "    \n",
    "    # imports os\n",
    "    import os\n",
    "    \n",
    "    # if .csv exists\n",
    "    if os.path.isfile('file.csv'):\n",
    "        \n",
    "        return pd.read_csv('file.csv')\n",
    "    \n",
    "    else: \n",
    "        url = df(url)\n",
    "        \n",
    "    \n",
    " \n",
    "    \n",
    "    # reads .csv\n",
    "    #de_electric = pd.read_csv('https://raw.githubusercontent.com/jenfly/opsd/master/opsd_germany_daily.csv')"
   ]
  },
  {
   "cell_type": "code",
   "execution_count": null,
   "id": "bb55a529",
   "metadata": {},
   "outputs": [],
   "source": [
    "deutsche.sample(3)\n",
    "\n",
    "\n",
    "# date will become the index, instead of typical index numbers.\n",
    "# this provides the ability to create a trend line"
   ]
  },
  {
   "cell_type": "code",
   "execution_count": null,
   "id": "c7fc8965",
   "metadata": {},
   "outputs": [],
   "source": [
    "de_electric = "
   ]
  },
  {
   "cell_type": "code",
   "execution_count": null,
   "id": "6ca8680a",
   "metadata": {},
   "outputs": [],
   "source": [
    "def get_telco_data(df):\n",
    "    \n",
    "    '''\n",
    "    This function retrieves Telco data either from a .csv, \n",
    "    if the .csv is held locally, or pulls it from SQL \n",
    "    in the case that it's held remotely.\n",
    "    '''\n",
    "    \n",
    "    if os.path.isfile('file.csv'):\n",
    "        \n",
    "        return pd.read_csv('file.csv')\n",
    "    \n",
    "    else:\n",
    "        \n",
    "        url = df('telco_churn')"
   ]
  },
  {
   "cell_type": "code",
   "execution_count": null,
   "id": "42dd0133",
   "metadata": {},
   "outputs": [],
   "source": []
  },
  {
   "cell_type": "code",
   "execution_count": null,
   "id": "5b8fbf07",
   "metadata": {},
   "outputs": [],
   "source": []
  },
  {
   "cell_type": "code",
   "execution_count": null,
   "id": "d83e6077",
   "metadata": {},
   "outputs": [],
   "source": []
  },
  {
   "cell_type": "code",
   "execution_count": null,
   "id": "4053bd84",
   "metadata": {},
   "outputs": [],
   "source": []
  },
  {
   "cell_type": "code",
   "execution_count": null,
   "id": "bf0d7eae",
   "metadata": {},
   "outputs": [],
   "source": []
  },
  {
   "cell_type": "code",
   "execution_count": null,
   "id": "58c1b4ef",
   "metadata": {},
   "outputs": [],
   "source": []
  },
  {
   "cell_type": "code",
   "execution_count": null,
   "id": "6a383fbb",
   "metadata": {},
   "outputs": [],
   "source": []
  },
  {
   "cell_type": "code",
   "execution_count": null,
   "id": "3573e02f",
   "metadata": {},
   "outputs": [],
   "source": []
  },
  {
   "cell_type": "code",
   "execution_count": null,
   "id": "926a9b6f",
   "metadata": {},
   "outputs": [],
   "source": []
  },
  {
   "cell_type": "code",
   "execution_count": null,
   "id": "78825739",
   "metadata": {},
   "outputs": [],
   "source": []
  },
  {
   "cell_type": "code",
   "execution_count": null,
   "id": "42160348",
   "metadata": {},
   "outputs": [],
   "source": []
  },
  {
   "cell_type": "code",
   "execution_count": null,
   "id": "dd032a91",
   "metadata": {},
   "outputs": [],
   "source": []
  },
  {
   "cell_type": "code",
   "execution_count": null,
   "id": "e8837b18",
   "metadata": {},
   "outputs": [],
   "source": []
  },
  {
   "cell_type": "code",
   "execution_count": null,
   "id": "a25cd101",
   "metadata": {},
   "outputs": [],
   "source": []
  },
  {
   "cell_type": "code",
   "execution_count": null,
   "id": "aa7fa6fa",
   "metadata": {},
   "outputs": [],
   "source": []
  },
  {
   "cell_type": "code",
   "execution_count": null,
   "id": "c1a2b7c2",
   "metadata": {},
   "outputs": [],
   "source": []
  },
  {
   "cell_type": "code",
   "execution_count": null,
   "id": "8e1ef46d",
   "metadata": {},
   "outputs": [],
   "source": []
  },
  {
   "cell_type": "code",
   "execution_count": null,
   "id": "d9fcfdb2",
   "metadata": {},
   "outputs": [],
   "source": []
  },
  {
   "cell_type": "code",
   "execution_count": null,
   "id": "779d369d",
   "metadata": {},
   "outputs": [],
   "source": []
  },
  {
   "cell_type": "code",
   "execution_count": null,
   "id": "97fa0ac5",
   "metadata": {},
   "outputs": [],
   "source": []
  },
  {
   "cell_type": "code",
   "execution_count": null,
   "id": "2d7b304f",
   "metadata": {},
   "outputs": [],
   "source": []
  },
  {
   "cell_type": "code",
   "execution_count": null,
   "id": "6a121643",
   "metadata": {},
   "outputs": [],
   "source": []
  },
  {
   "cell_type": "code",
   "execution_count": null,
   "id": "54b07e84",
   "metadata": {},
   "outputs": [],
   "source": []
  },
  {
   "cell_type": "code",
   "execution_count": null,
   "id": "9de76eef",
   "metadata": {},
   "outputs": [],
   "source": []
  },
  {
   "cell_type": "code",
   "execution_count": null,
   "id": "6bda43f1",
   "metadata": {},
   "outputs": [],
   "source": []
  },
  {
   "cell_type": "code",
   "execution_count": null,
   "id": "ba31dae6",
   "metadata": {},
   "outputs": [],
   "source": []
  },
  {
   "cell_type": "code",
   "execution_count": null,
   "id": "4e9ead8c",
   "metadata": {},
   "outputs": [],
   "source": []
  },
  {
   "cell_type": "code",
   "execution_count": null,
   "id": "e2c6fbd6",
   "metadata": {},
   "outputs": [],
   "source": []
  },
  {
   "cell_type": "code",
   "execution_count": null,
   "id": "ed17dfa9",
   "metadata": {},
   "outputs": [],
   "source": []
  },
  {
   "cell_type": "code",
   "execution_count": null,
   "id": "6e5c2449",
   "metadata": {},
   "outputs": [],
   "source": []
  },
  {
   "cell_type": "code",
   "execution_count": null,
   "id": "030cfaf8",
   "metadata": {},
   "outputs": [],
   "source": []
  },
  {
   "cell_type": "code",
   "execution_count": null,
   "id": "4d2cba50",
   "metadata": {},
   "outputs": [],
   "source": []
  },
  {
   "cell_type": "code",
   "execution_count": null,
   "id": "e4da3aa6",
   "metadata": {},
   "outputs": [],
   "source": []
  },
  {
   "cell_type": "code",
   "execution_count": null,
   "id": "32fa7ae4",
   "metadata": {},
   "outputs": [],
   "source": []
  },
  {
   "cell_type": "code",
   "execution_count": null,
   "id": "cf5872e1",
   "metadata": {},
   "outputs": [],
   "source": []
  },
  {
   "cell_type": "code",
   "execution_count": null,
   "id": "39b8bc5e",
   "metadata": {},
   "outputs": [],
   "source": []
  },
  {
   "cell_type": "code",
   "execution_count": null,
   "id": "08cb3807",
   "metadata": {},
   "outputs": [],
   "source": []
  },
  {
   "cell_type": "code",
   "execution_count": null,
   "id": "6139386a",
   "metadata": {},
   "outputs": [],
   "source": []
  },
  {
   "cell_type": "code",
   "execution_count": null,
   "id": "aa421c9b",
   "metadata": {},
   "outputs": [],
   "source": []
  },
  {
   "cell_type": "code",
   "execution_count": null,
   "id": "858700bf",
   "metadata": {},
   "outputs": [],
   "source": []
  },
  {
   "cell_type": "code",
   "execution_count": null,
   "id": "d09462ac",
   "metadata": {},
   "outputs": [],
   "source": []
  },
  {
   "cell_type": "code",
   "execution_count": null,
   "id": "3919dee6",
   "metadata": {},
   "outputs": [],
   "source": []
  },
  {
   "cell_type": "code",
   "execution_count": null,
   "id": "36631202",
   "metadata": {},
   "outputs": [],
   "source": []
  },
  {
   "cell_type": "code",
   "execution_count": null,
   "id": "b3b93869",
   "metadata": {},
   "outputs": [],
   "source": []
  },
  {
   "cell_type": "code",
   "execution_count": null,
   "id": "14d1ad37",
   "metadata": {},
   "outputs": [],
   "source": []
  },
  {
   "cell_type": "code",
   "execution_count": null,
   "id": "3908be9e",
   "metadata": {},
   "outputs": [],
   "source": []
  },
  {
   "cell_type": "code",
   "execution_count": null,
   "id": "9b088cdf",
   "metadata": {},
   "outputs": [],
   "source": []
  },
  {
   "cell_type": "code",
   "execution_count": null,
   "id": "b526f219",
   "metadata": {},
   "outputs": [],
   "source": []
  },
  {
   "cell_type": "code",
   "execution_count": null,
   "id": "f7a40d0d",
   "metadata": {},
   "outputs": [],
   "source": []
  },
  {
   "cell_type": "code",
   "execution_count": null,
   "id": "40790b86",
   "metadata": {},
   "outputs": [],
   "source": []
  },
  {
   "cell_type": "code",
   "execution_count": null,
   "id": "ca11f663",
   "metadata": {},
   "outputs": [],
   "source": []
  },
  {
   "cell_type": "code",
   "execution_count": null,
   "id": "b7b44bdc",
   "metadata": {},
   "outputs": [],
   "source": []
  },
  {
   "cell_type": "code",
   "execution_count": null,
   "id": "872d83b5",
   "metadata": {},
   "outputs": [],
   "source": []
  },
  {
   "cell_type": "code",
   "execution_count": null,
   "id": "43f696f7",
   "metadata": {},
   "outputs": [],
   "source": []
  },
  {
   "cell_type": "code",
   "execution_count": null,
   "id": "462d05dc",
   "metadata": {},
   "outputs": [],
   "source": [
    "# combine the dataframes\n",
    "\n",
    "starwars_df = pd.concat([starships_df, planet_df], axis = 1)\n",
    "starwars_df.head(1)"
   ]
  },
  {
   "cell_type": "code",
   "execution_count": null,
   "id": "bef34e72",
   "metadata": {},
   "outputs": [],
   "source": []
  },
  {
   "cell_type": "code",
   "execution_count": null,
   "id": "21cbf3a8",
   "metadata": {},
   "outputs": [],
   "source": []
  },
  {
   "cell_type": "code",
   "execution_count": null,
   "id": "e5c80225",
   "metadata": {},
   "outputs": [],
   "source": [
    "sw_df = pd.concat([starplanet_df, people_df], axis = 1)"
   ]
  },
  {
   "cell_type": "code",
   "execution_count": null,
   "id": "3a530e9b",
   "metadata": {},
   "outputs": [],
   "source": []
  },
  {
   "cell_type": "code",
   "execution_count": null,
   "id": "6eb569ae",
   "metadata": {},
   "outputs": [],
   "source": []
  },
  {
   "cell_type": "code",
   "execution_count": null,
   "id": "f5d00d9a",
   "metadata": {},
   "outputs": [],
   "source": []
  },
  {
   "cell_type": "code",
   "execution_count": null,
   "id": "ad63be52",
   "metadata": {},
   "outputs": [],
   "source": [
    "#as long as there is another page..\n",
    "while data['next'] != None:\n",
    "    #print that next page\n",
    "    print(data['next'])\n",
    "    #make our response variable the api\n",
    "    response = requests.get(data['next'])\n",
    "    #with the information from our json \n",
    "    data = response.json()\n",
    "    #now, combine our dataframe with all pages\n",
    "    people_df = pd.concat([people_df, pd.DataFrame(data['results'])], ignore_index=True)\n"
   ]
  },
  {
   "cell_type": "code",
   "execution_count": null,
   "id": "38670b43",
   "metadata": {},
   "outputs": [],
   "source": [
    "#take a look\n",
    "people_df.info()\n"
   ]
  },
  {
   "cell_type": "code",
   "execution_count": null,
   "id": "b974a835",
   "metadata": {},
   "outputs": [],
   "source": []
  },
  {
   "cell_type": "code",
   "execution_count": null,
   "id": "57792f72",
   "metadata": {},
   "outputs": [],
   "source": [
    "#request planets api\n",
    "response = requests.get('https://swapi.dev/api/planets/')\n",
    "data = response.json()\n"
   ]
  },
  {
   "cell_type": "code",
   "execution_count": null,
   "id": "a216e5ec",
   "metadata": {},
   "outputs": [],
   "source": [
    "#turn 'data' within the json into a dataframe\n",
    "planet_df = pd.DataFrame(data['results'])"
   ]
  },
  {
   "cell_type": "code",
   "execution_count": null,
   "id": "79d9412e",
   "metadata": {},
   "outputs": [],
   "source": [
    "while data['next'] != None:\n",
    "    print(data['next'])\n",
    "    response = requests.get(data['next'])\n",
    "    data = response.json()\n",
    "    planet_df = pd.concat([planet_df, pd.DataFrame(data['results'])], ignore_index=True)\n"
   ]
  },
  {
   "cell_type": "code",
   "execution_count": null,
   "id": "69a0107b",
   "metadata": {},
   "outputs": [],
   "source": []
  },
  {
   "cell_type": "code",
   "execution_count": null,
   "id": "e8a16185",
   "metadata": {},
   "outputs": [],
   "source": [
    "\n",
    "\n",
    "#request starships api\n",
    "response = requests.get('https://swapi.dev/api/starships/')\n",
    "data = response.json()\n",
    "\n"
   ]
  },
  {
   "cell_type": "code",
   "execution_count": null,
   "id": "6e3b9a9b",
   "metadata": {},
   "outputs": [],
   "source": [
    "\n",
    "\n",
    "#turn that into a dataframe\n",
    "starships_df = pd.DataFrame(data['results'])\n",
    "#take a look\n",
    "starships_df.info()\n"
   ]
  },
  {
   "cell_type": "code",
   "execution_count": null,
   "id": "33dd1d30",
   "metadata": {},
   "outputs": [],
   "source": [
    "while data['next'] != None:\n",
    "    print(data['next'])\n",
    "    response = requests.get(data['next'])\n",
    "    data = response.json()\n",
    "    starships_df = pd.concat([starships_df, pd.DataFrame(data['results'])], ignore_index=True)\n",
    "\n",
    "https://swapi.dev/api/starship"
   ]
  },
  {
   "cell_type": "code",
   "execution_count": null,
   "id": "072a118c",
   "metadata": {},
   "outputs": [],
   "source": []
  },
  {
   "cell_type": "code",
   "execution_count": null,
   "id": "15250e45",
   "metadata": {},
   "outputs": [],
   "source": []
  },
  {
   "cell_type": "code",
   "execution_count": null,
   "id": "a3f43bc7",
   "metadata": {},
   "outputs": [],
   "source": [
    "starship = acquire.get_starships_data()\n",
    "starship.head(3)"
   ]
  },
  {
   "cell_type": "code",
   "execution_count": null,
   "id": "1acf90ae",
   "metadata": {},
   "outputs": [],
   "source": [
    "people = acquire.get_people_data()\n",
    "people.head(3)"
   ]
  },
  {
   "cell_type": "code",
   "execution_count": null,
   "id": "82b9eea6",
   "metadata": {},
   "outputs": [],
   "source": [
    "\n",
    "\n",
    "planet = acquire.get_planet_data()\n",
    "planet.sample(3)\n",
    "\n"
   ]
  },
  {
   "cell_type": "code",
   "execution_count": null,
   "id": "a6d06be2",
   "metadata": {},
   "outputs": [],
   "source": [
    "\n",
    "\n",
    "starplanet_df = pd.concat([starships_df, planet_df], axis = 0)\n",
    "starplanet_df.head(3)\n",
    "\n"
   ]
  },
  {
   "cell_type": "code",
   "execution_count": null,
   "id": "dc3cbd01",
   "metadata": {},
   "outputs": [],
   "source": [
    "\n",
    "\n",
    "ugly_df = pd.concat([starplanet_df, people_df], axis=0)\n",
    "ugly_df.head(3)\n",
    "\n"
   ]
  },
  {
   "cell_type": "code",
   "execution_count": null,
   "id": "4ca8cc10",
   "metadata": {},
   "outputs": [],
   "source": [
    "germany = pd.read_csv('https://raw.githubusercontent.com/jenfly/opsd/master/opsd_germany_daily.csv')"
   ]
  },
  {
   "cell_type": "code",
   "execution_count": null,
   "id": "aa75f15a",
   "metadata": {},
   "outputs": [],
   "source": [
    "#set date as index and sort\n",
    "germany = germany.set_index('Date').sort_index()"
   ]
  },
  {
   "cell_type": "code",
   "execution_count": null,
   "id": "5f568819",
   "metadata": {},
   "outputs": [],
   "source": [
    "\n",
    "\n",
    "germany.Consumption.plot()\n",
    "plt.title('Energy Consumption in 2006')\n",
    "plt.ylabel('Energy Consumption')\n",
    "plt.show()\n",
    "\n"
   ]
  },
  {
   "cell_type": "code",
   "execution_count": null,
   "id": "8569fc0e",
   "metadata": {},
   "outputs": [],
   "source": []
  },
  {
   "cell_type": "code",
   "execution_count": null,
   "id": "da4afa04",
   "metadata": {},
   "outputs": [],
   "source": []
  },
  {
   "cell_type": "code",
   "execution_count": null,
   "id": "2754b680",
   "metadata": {},
   "outputs": [],
   "source": []
  },
  {
   "cell_type": "code",
   "execution_count": null,
   "id": "2664cfb8",
   "metadata": {},
   "outputs": [],
   "source": []
  }
 ],
 "metadata": {
  "kernelspec": {
   "display_name": "Python 3 (ipykernel)",
   "language": "python",
   "name": "python3"
  },
  "language_info": {
   "codemirror_mode": {
    "name": "ipython",
    "version": 3
   },
   "file_extension": ".py",
   "mimetype": "text/x-python",
   "name": "python",
   "nbconvert_exporter": "python",
   "pygments_lexer": "ipython3",
   "version": "3.9.13"
  }
 },
 "nbformat": 4,
 "nbformat_minor": 5
}
