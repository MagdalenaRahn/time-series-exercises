{
 "cells": [
  {
   "cell_type": "markdown",
   "id": "c29abc83",
   "metadata": {},
   "source": [
    "### Time series acquire lesson + API\n",
    "\n",
    "Remember the baselines.  \n",
    "The only features are the history of the data.  \n",
    "\n",
    "    - 'Moving average' takes an average of the most recent X datapoints to make the prediction.   \n",
    "    - 'Exponential smoothing' gives more weight to more recent observations. A relatively balanced method.  \n",
    "    - Holt's methods involve more modelling than the more-baseline-focussed algorithms. Combines exponential smoothing with an understanding of seasonality.  \n",
    "    - Autoregresive models use the past datapoints to predict the next datapoints. Creates features of past observations with a target value being the ensuing observation."
   ]
  },
  {
   "cell_type": "markdown",
   "id": "9d730342",
   "metadata": {},
   "source": [
    "### Acquiring data from an API (application programming interface)\n",
    "\n",
    "- Returns to us information in JSON (JavaScript Object Notation) format.  \n",
    "- Combines lists of dictionaries into a DF.  \n",
    "- "
   ]
  },
  {
   "cell_type": "code",
   "execution_count": null,
   "id": "12361af7",
   "metadata": {},
   "outputs": [],
   "source": []
  },
  {
   "cell_type": "code",
   "execution_count": 1,
   "id": "91760058",
   "metadata": {},
   "outputs": [],
   "source": [
    "# imports \n",
    "import pandas as pd\n",
    "import requests"
   ]
  },
  {
   "cell_type": "code",
   "execution_count": 2,
   "id": "ed6e6c45",
   "metadata": {},
   "outputs": [],
   "source": [
    "# url for webscraping \n",
    "\n",
    "url = 'https://swapi.dev/api/people/1/'"
   ]
  },
  {
   "cell_type": "code",
   "execution_count": 3,
   "id": "4ef78f3d",
   "metadata": {},
   "outputs": [],
   "source": [
    "# get the info using .get(url_link / variable_name)\n",
    "\n",
    "response = requests.get(url)\n",
    "\n",
    "# 'response 200' is a good response : it means ok to proceed"
   ]
  },
  {
   "cell_type": "code",
   "execution_count": 4,
   "id": "33195fa3",
   "metadata": {},
   "outputs": [
    {
     "data": {
      "text/plain": [
       "True"
      ]
     },
     "execution_count": 4,
     "metadata": {},
     "output_type": "execute_result"
    }
   ],
   "source": [
    "# verifying the 'ok'-ness of the response\n",
    "\n",
    "response.ok"
   ]
  },
  {
   "cell_type": "code",
   "execution_count": 5,
   "id": "40436dfd",
   "metadata": {},
   "outputs": [
    {
     "data": {
      "text/plain": [
       "200"
      ]
     },
     "execution_count": 5,
     "metadata": {},
     "output_type": "execute_result"
    }
   ],
   "source": [
    "response.status_code\n",
    "# 200 = green light"
   ]
  },
  {
   "cell_type": "code",
   "execution_count": 6,
   "id": "273f21f8",
   "metadata": {},
   "outputs": [
    {
     "data": {
      "text/plain": [
       "'{\"name\":\"Luke Skywalker\",\"height\":\"172\",\"mass\":\"77\",\"hair_color\":\"blond\",\"skin_color\":\"fair\",\"eye_color\":\"blue\",\"birth_year\":\"19BBY\",\"gender\":\"male\",\"homeworld\":\"https://swapi.dev/api/planets/1/\",\"films\":[\"https://swapi.dev/api/films/1/\",\"https://swapi.dev/api/films/2/\",\"https://swapi.dev/api/films/3/\",\"https://swapi.dev/api/films/6/\"],\"species\":[],\"vehicles\":[\"https://swapi.dev/api/vehicles/14/\",\"https://swapi.dev/api/vehicles/30/\"],\"starships\":[\"https://swapi.dev/api/starships/12/\",\"https://swapi.dev/api/starships/22/\"],\"created\":\"2014-12-09T13:50:51.644000Z\",\"edited\":\"2014-12-20T21:17:56.891000Z\",\"url\":\"https://swapi.dev/api/people/1/\"}'"
      ]
     },
     "execution_count": 6,
     "metadata": {},
     "output_type": "execute_result"
    }
   ],
   "source": [
    "# gives all the text \n",
    "\n",
    "response.text"
   ]
  },
  {
   "cell_type": "code",
   "execution_count": 7,
   "id": "35cbc155",
   "metadata": {},
   "outputs": [
    {
     "data": {
      "text/plain": [
       "{'name': 'Luke Skywalker',\n",
       " 'height': '172',\n",
       " 'mass': '77',\n",
       " 'hair_color': 'blond',\n",
       " 'skin_color': 'fair',\n",
       " 'eye_color': 'blue',\n",
       " 'birth_year': '19BBY',\n",
       " 'gender': 'male',\n",
       " 'homeworld': 'https://swapi.dev/api/planets/1/',\n",
       " 'films': ['https://swapi.dev/api/films/1/',\n",
       "  'https://swapi.dev/api/films/2/',\n",
       "  'https://swapi.dev/api/films/3/',\n",
       "  'https://swapi.dev/api/films/6/'],\n",
       " 'species': [],\n",
       " 'vehicles': ['https://swapi.dev/api/vehicles/14/',\n",
       "  'https://swapi.dev/api/vehicles/30/'],\n",
       " 'starships': ['https://swapi.dev/api/starships/12/',\n",
       "  'https://swapi.dev/api/starships/22/'],\n",
       " 'created': '2014-12-09T13:50:51.644000Z',\n",
       " 'edited': '2014-12-20T21:17:56.891000Z',\n",
       " 'url': 'https://swapi.dev/api/people/1/'}"
      ]
     },
     "execution_count": 7,
     "metadata": {},
     "output_type": "execute_result"
    }
   ],
   "source": [
    "# gives all the text in JSON format \n",
    "# this shows a dictionary here ('key' : 'value')\n",
    "\n",
    "jso = response.json()\n",
    "jso \n",
    "\n",
    "# sometimes, the results in an API call are instructions on how to make another API call (cf 'films' [list])"
   ]
  },
  {
   "cell_type": "code",
   "execution_count": 8,
   "id": "f18dbeef",
   "metadata": {},
   "outputs": [
    {
     "data": {
      "text/plain": [
       "dict_keys(['name', 'height', 'mass', 'hair_color', 'skin_color', 'eye_color', 'birth_year', 'gender', 'homeworld', 'films', 'species', 'vehicles', 'starships', 'created', 'edited', 'url'])"
      ]
     },
     "execution_count": 8,
     "metadata": {},
     "output_type": "execute_result"
    }
   ],
   "source": [
    "# shows key names\n",
    "\n",
    "response.json().keys()"
   ]
  },
  {
   "cell_type": "code",
   "execution_count": 9,
   "id": "d3d06cfd",
   "metadata": {},
   "outputs": [
    {
     "data": {
      "text/plain": [
       "dict_keys(['name', 'height', 'mass', 'hair_color', 'skin_color', 'eye_color', 'birth_year', 'gender', 'homeworld', 'films', 'species', 'vehicles', 'starships', 'created', 'edited', 'url'])"
      ]
     },
     "execution_count": 9,
     "metadata": {},
     "output_type": "execute_result"
    }
   ],
   "source": [
    "# same as above, but with variable name 'jso'\n",
    "\n",
    "jso.keys()"
   ]
  },
  {
   "cell_type": "code",
   "execution_count": 10,
   "id": "9d73c62d",
   "metadata": {},
   "outputs": [
    {
     "data": {
      "text/plain": [
       "['https://swapi.dev/api/starships/12/', 'https://swapi.dev/api/starships/22/']"
      ]
     },
     "execution_count": 10,
     "metadata": {},
     "output_type": "execute_result"
    }
   ],
   "source": [
    "# look at 'starships'\n",
    "\n",
    "jso['starships']\n",
    "\n",
    "# returns the list of what the column contains"
   ]
  },
  {
   "cell_type": "code",
   "execution_count": 13,
   "id": "ea49c5d9",
   "metadata": {},
   "outputs": [
    {
     "name": "stdout",
     "output_type": "stream",
     "text": [
      "X-wing\n",
      "Imperial shuttle\n"
     ]
    }
   ],
   "source": [
    "for ship in jso['starships']:\n",
    "    \n",
    "    # ship represents the url for an api\n",
    "    response = requests.get(ship)\n",
    "    \n",
    "    # print the json format of the response & name of all ships in which LS flew\n",
    "    print(response.json()['name'])"
   ]
  },
  {
   "cell_type": "code",
   "execution_count": 14,
   "id": "fb2981b3",
   "metadata": {},
   "outputs": [],
   "source": [
    "# look at the people\n",
    "\n",
    "base_url = 'https://swapi.dev/api/people/'"
   ]
  },
  {
   "cell_type": "code",
   "execution_count": 15,
   "id": "51773f9a",
   "metadata": {},
   "outputs": [
    {
     "data": {
      "text/plain": [
       "{'count': 82,\n",
       " 'next': 'https://swapi.dev/api/people/?page=2',\n",
       " 'previous': None,\n",
       " 'results': [{'name': 'Luke Skywalker',\n",
       "   'height': '172',\n",
       "   'mass': '77',\n",
       "   'hair_color': 'blond',\n",
       "   'skin_color': 'fair',\n",
       "   'eye_color': 'blue',\n",
       "   'birth_year': '19BBY',\n",
       "   'gender': 'male',\n",
       "   'homeworld': 'https://swapi.dev/api/planets/1/',\n",
       "   'films': ['https://swapi.dev/api/films/1/',\n",
       "    'https://swapi.dev/api/films/2/',\n",
       "    'https://swapi.dev/api/films/3/',\n",
       "    'https://swapi.dev/api/films/6/'],\n",
       "   'species': [],\n",
       "   'vehicles': ['https://swapi.dev/api/vehicles/14/',\n",
       "    'https://swapi.dev/api/vehicles/30/'],\n",
       "   'starships': ['https://swapi.dev/api/starships/12/',\n",
       "    'https://swapi.dev/api/starships/22/'],\n",
       "   'created': '2014-12-09T13:50:51.644000Z',\n",
       "   'edited': '2014-12-20T21:17:56.891000Z',\n",
       "   'url': 'https://swapi.dev/api/people/1/'},\n",
       "  {'name': 'C-3PO',\n",
       "   'height': '167',\n",
       "   'mass': '75',\n",
       "   'hair_color': 'n/a',\n",
       "   'skin_color': 'gold',\n",
       "   'eye_color': 'yellow',\n",
       "   'birth_year': '112BBY',\n",
       "   'gender': 'n/a',\n",
       "   'homeworld': 'https://swapi.dev/api/planets/1/',\n",
       "   'films': ['https://swapi.dev/api/films/1/',\n",
       "    'https://swapi.dev/api/films/2/',\n",
       "    'https://swapi.dev/api/films/3/',\n",
       "    'https://swapi.dev/api/films/4/',\n",
       "    'https://swapi.dev/api/films/5/',\n",
       "    'https://swapi.dev/api/films/6/'],\n",
       "   'species': ['https://swapi.dev/api/species/2/'],\n",
       "   'vehicles': [],\n",
       "   'starships': [],\n",
       "   'created': '2014-12-10T15:10:51.357000Z',\n",
       "   'edited': '2014-12-20T21:17:50.309000Z',\n",
       "   'url': 'https://swapi.dev/api/people/2/'},\n",
       "  {'name': 'R2-D2',\n",
       "   'height': '96',\n",
       "   'mass': '32',\n",
       "   'hair_color': 'n/a',\n",
       "   'skin_color': 'white, blue',\n",
       "   'eye_color': 'red',\n",
       "   'birth_year': '33BBY',\n",
       "   'gender': 'n/a',\n",
       "   'homeworld': 'https://swapi.dev/api/planets/8/',\n",
       "   'films': ['https://swapi.dev/api/films/1/',\n",
       "    'https://swapi.dev/api/films/2/',\n",
       "    'https://swapi.dev/api/films/3/',\n",
       "    'https://swapi.dev/api/films/4/',\n",
       "    'https://swapi.dev/api/films/5/',\n",
       "    'https://swapi.dev/api/films/6/'],\n",
       "   'species': ['https://swapi.dev/api/species/2/'],\n",
       "   'vehicles': [],\n",
       "   'starships': [],\n",
       "   'created': '2014-12-10T15:11:50.376000Z',\n",
       "   'edited': '2014-12-20T21:17:50.311000Z',\n",
       "   'url': 'https://swapi.dev/api/people/3/'},\n",
       "  {'name': 'Darth Vader',\n",
       "   'height': '202',\n",
       "   'mass': '136',\n",
       "   'hair_color': 'none',\n",
       "   'skin_color': 'white',\n",
       "   'eye_color': 'yellow',\n",
       "   'birth_year': '41.9BBY',\n",
       "   'gender': 'male',\n",
       "   'homeworld': 'https://swapi.dev/api/planets/1/',\n",
       "   'films': ['https://swapi.dev/api/films/1/',\n",
       "    'https://swapi.dev/api/films/2/',\n",
       "    'https://swapi.dev/api/films/3/',\n",
       "    'https://swapi.dev/api/films/6/'],\n",
       "   'species': [],\n",
       "   'vehicles': [],\n",
       "   'starships': ['https://swapi.dev/api/starships/13/'],\n",
       "   'created': '2014-12-10T15:18:20.704000Z',\n",
       "   'edited': '2014-12-20T21:17:50.313000Z',\n",
       "   'url': 'https://swapi.dev/api/people/4/'},\n",
       "  {'name': 'Leia Organa',\n",
       "   'height': '150',\n",
       "   'mass': '49',\n",
       "   'hair_color': 'brown',\n",
       "   'skin_color': 'light',\n",
       "   'eye_color': 'brown',\n",
       "   'birth_year': '19BBY',\n",
       "   'gender': 'female',\n",
       "   'homeworld': 'https://swapi.dev/api/planets/2/',\n",
       "   'films': ['https://swapi.dev/api/films/1/',\n",
       "    'https://swapi.dev/api/films/2/',\n",
       "    'https://swapi.dev/api/films/3/',\n",
       "    'https://swapi.dev/api/films/6/'],\n",
       "   'species': [],\n",
       "   'vehicles': ['https://swapi.dev/api/vehicles/30/'],\n",
       "   'starships': [],\n",
       "   'created': '2014-12-10T15:20:09.791000Z',\n",
       "   'edited': '2014-12-20T21:17:50.315000Z',\n",
       "   'url': 'https://swapi.dev/api/people/5/'},\n",
       "  {'name': 'Owen Lars',\n",
       "   'height': '178',\n",
       "   'mass': '120',\n",
       "   'hair_color': 'brown, grey',\n",
       "   'skin_color': 'light',\n",
       "   'eye_color': 'blue',\n",
       "   'birth_year': '52BBY',\n",
       "   'gender': 'male',\n",
       "   'homeworld': 'https://swapi.dev/api/planets/1/',\n",
       "   'films': ['https://swapi.dev/api/films/1/',\n",
       "    'https://swapi.dev/api/films/5/',\n",
       "    'https://swapi.dev/api/films/6/'],\n",
       "   'species': [],\n",
       "   'vehicles': [],\n",
       "   'starships': [],\n",
       "   'created': '2014-12-10T15:52:14.024000Z',\n",
       "   'edited': '2014-12-20T21:17:50.317000Z',\n",
       "   'url': 'https://swapi.dev/api/people/6/'},\n",
       "  {'name': 'Beru Whitesun lars',\n",
       "   'height': '165',\n",
       "   'mass': '75',\n",
       "   'hair_color': 'brown',\n",
       "   'skin_color': 'light',\n",
       "   'eye_color': 'blue',\n",
       "   'birth_year': '47BBY',\n",
       "   'gender': 'female',\n",
       "   'homeworld': 'https://swapi.dev/api/planets/1/',\n",
       "   'films': ['https://swapi.dev/api/films/1/',\n",
       "    'https://swapi.dev/api/films/5/',\n",
       "    'https://swapi.dev/api/films/6/'],\n",
       "   'species': [],\n",
       "   'vehicles': [],\n",
       "   'starships': [],\n",
       "   'created': '2014-12-10T15:53:41.121000Z',\n",
       "   'edited': '2014-12-20T21:17:50.319000Z',\n",
       "   'url': 'https://swapi.dev/api/people/7/'},\n",
       "  {'name': 'R5-D4',\n",
       "   'height': '97',\n",
       "   'mass': '32',\n",
       "   'hair_color': 'n/a',\n",
       "   'skin_color': 'white, red',\n",
       "   'eye_color': 'red',\n",
       "   'birth_year': 'unknown',\n",
       "   'gender': 'n/a',\n",
       "   'homeworld': 'https://swapi.dev/api/planets/1/',\n",
       "   'films': ['https://swapi.dev/api/films/1/'],\n",
       "   'species': ['https://swapi.dev/api/species/2/'],\n",
       "   'vehicles': [],\n",
       "   'starships': [],\n",
       "   'created': '2014-12-10T15:57:50.959000Z',\n",
       "   'edited': '2014-12-20T21:17:50.321000Z',\n",
       "   'url': 'https://swapi.dev/api/people/8/'},\n",
       "  {'name': 'Biggs Darklighter',\n",
       "   'height': '183',\n",
       "   'mass': '84',\n",
       "   'hair_color': 'black',\n",
       "   'skin_color': 'light',\n",
       "   'eye_color': 'brown',\n",
       "   'birth_year': '24BBY',\n",
       "   'gender': 'male',\n",
       "   'homeworld': 'https://swapi.dev/api/planets/1/',\n",
       "   'films': ['https://swapi.dev/api/films/1/'],\n",
       "   'species': [],\n",
       "   'vehicles': [],\n",
       "   'starships': ['https://swapi.dev/api/starships/12/'],\n",
       "   'created': '2014-12-10T15:59:50.509000Z',\n",
       "   'edited': '2014-12-20T21:17:50.323000Z',\n",
       "   'url': 'https://swapi.dev/api/people/9/'},\n",
       "  {'name': 'Obi-Wan Kenobi',\n",
       "   'height': '182',\n",
       "   'mass': '77',\n",
       "   'hair_color': 'auburn, white',\n",
       "   'skin_color': 'fair',\n",
       "   'eye_color': 'blue-gray',\n",
       "   'birth_year': '57BBY',\n",
       "   'gender': 'male',\n",
       "   'homeworld': 'https://swapi.dev/api/planets/20/',\n",
       "   'films': ['https://swapi.dev/api/films/1/',\n",
       "    'https://swapi.dev/api/films/2/',\n",
       "    'https://swapi.dev/api/films/3/',\n",
       "    'https://swapi.dev/api/films/4/',\n",
       "    'https://swapi.dev/api/films/5/',\n",
       "    'https://swapi.dev/api/films/6/'],\n",
       "   'species': [],\n",
       "   'vehicles': ['https://swapi.dev/api/vehicles/38/'],\n",
       "   'starships': ['https://swapi.dev/api/starships/48/',\n",
       "    'https://swapi.dev/api/starships/59/',\n",
       "    'https://swapi.dev/api/starships/64/',\n",
       "    'https://swapi.dev/api/starships/65/',\n",
       "    'https://swapi.dev/api/starships/74/'],\n",
       "   'created': '2014-12-10T16:16:29.192000Z',\n",
       "   'edited': '2014-12-20T21:17:50.325000Z',\n",
       "   'url': 'https://swapi.dev/api/people/10/'}]}"
      ]
     },
     "execution_count": 15,
     "metadata": {},
     "output_type": "execute_result"
    }
   ],
   "source": [
    "# returns a number of dictionaries / a landing page for various people\n",
    "\n",
    "response = requests.get(base_url)\n",
    "\n",
    "response.json()\n",
    "\n",
    "# the 'next' pointer value indicates where / how to get to the next page"
   ]
  },
  {
   "cell_type": "code",
   "execution_count": 19,
   "id": "405b0a56",
   "metadata": {},
   "outputs": [
    {
     "name": "stdout",
     "output_type": "stream",
     "text": [
      "9 9 9\n",
      "['Luke Skywalker', 'C-3PO', 'R2-D2', 'Darth Vader', 'Leia Organa', 'Owen Lars', 'Beru Whitesun lars', 'R5-D4', 'Biggs Darklighter'] ['172', '167', '96', '202', '150', '178', '165', '97', '183'] ['77', '75', '32', '136', '49', '120', '75', '32', '84']\n"
     ]
    }
   ],
   "source": [
    "# use base_url to do another iteration : working the way programmatically through the api\n",
    "# range is pages on the api website\n",
    "\n",
    "# lists to fill in with info from new_url\n",
    "names = []\n",
    "height = []\n",
    "mass = []\n",
    "\n",
    "for i in range(1, 10):\n",
    "    \n",
    "    # when i is something, add this number on to the end of the base_url and get to succeeding webpages\n",
    "    new_url = base_url + f'{i}/'\n",
    "    \n",
    "    response = requests.get(new_url)\n",
    "    \n",
    "    # variable to store response.json()\n",
    "    jso2 = response.json()\n",
    "    \n",
    "    # appending name to names list, etc\n",
    "    names.append(jso2['name'])\n",
    "    \n",
    "    height.append(jso2['height'])\n",
    "    \n",
    "    mass.append(jso2['mass'])\n",
    "    \n",
    "print(len(names), len(height), len(mass))\n",
    "\n",
    "print(names, height, mass)"
   ]
  },
  {
   "cell_type": "code",
   "execution_count": 21,
   "id": "70de5d88",
   "metadata": {},
   "outputs": [
    {
     "data": {
      "text/html": [
       "<div>\n",
       "<style scoped>\n",
       "    .dataframe tbody tr th:only-of-type {\n",
       "        vertical-align: middle;\n",
       "    }\n",
       "\n",
       "    .dataframe tbody tr th {\n",
       "        vertical-align: top;\n",
       "    }\n",
       "\n",
       "    .dataframe thead th {\n",
       "        text-align: right;\n",
       "    }\n",
       "</style>\n",
       "<table border=\"1\" class=\"dataframe\">\n",
       "  <thead>\n",
       "    <tr style=\"text-align: right;\">\n",
       "      <th></th>\n",
       "      <th>name</th>\n",
       "      <th>height</th>\n",
       "      <th>mass</th>\n",
       "    </tr>\n",
       "  </thead>\n",
       "  <tbody>\n",
       "    <tr>\n",
       "      <th>0</th>\n",
       "      <td>Luke Skywalker</td>\n",
       "      <td>172</td>\n",
       "      <td>77</td>\n",
       "    </tr>\n",
       "    <tr>\n",
       "      <th>1</th>\n",
       "      <td>C-3PO</td>\n",
       "      <td>167</td>\n",
       "      <td>75</td>\n",
       "    </tr>\n",
       "    <tr>\n",
       "      <th>2</th>\n",
       "      <td>R2-D2</td>\n",
       "      <td>96</td>\n",
       "      <td>32</td>\n",
       "    </tr>\n",
       "    <tr>\n",
       "      <th>3</th>\n",
       "      <td>Darth Vader</td>\n",
       "      <td>202</td>\n",
       "      <td>136</td>\n",
       "    </tr>\n",
       "    <tr>\n",
       "      <th>4</th>\n",
       "      <td>Leia Organa</td>\n",
       "      <td>150</td>\n",
       "      <td>49</td>\n",
       "    </tr>\n",
       "    <tr>\n",
       "      <th>5</th>\n",
       "      <td>Owen Lars</td>\n",
       "      <td>178</td>\n",
       "      <td>120</td>\n",
       "    </tr>\n",
       "    <tr>\n",
       "      <th>6</th>\n",
       "      <td>Beru Whitesun lars</td>\n",
       "      <td>165</td>\n",
       "      <td>75</td>\n",
       "    </tr>\n",
       "    <tr>\n",
       "      <th>7</th>\n",
       "      <td>R5-D4</td>\n",
       "      <td>97</td>\n",
       "      <td>32</td>\n",
       "    </tr>\n",
       "    <tr>\n",
       "      <th>8</th>\n",
       "      <td>Biggs Darklighter</td>\n",
       "      <td>183</td>\n",
       "      <td>84</td>\n",
       "    </tr>\n",
       "  </tbody>\n",
       "</table>\n",
       "</div>"
      ],
      "text/plain": [
       "                 name height mass\n",
       "0      Luke Skywalker    172   77\n",
       "1               C-3PO    167   75\n",
       "2               R2-D2     96   32\n",
       "3         Darth Vader    202  136\n",
       "4         Leia Organa    150   49\n",
       "5           Owen Lars    178  120\n",
       "6  Beru Whitesun lars    165   75\n",
       "7               R5-D4     97   32\n",
       "8   Biggs Darklighter    183   84"
      ]
     },
     "execution_count": 21,
     "metadata": {},
     "output_type": "execute_result"
    }
   ],
   "source": [
    "# make a df of the scraped data\n",
    "\n",
    "pd.DataFrame(({'name' : names,\n",
    "              'height' : height,\n",
    "              'mass' : mass}))"
   ]
  },
  {
   "cell_type": "code",
   "execution_count": null,
   "id": "54ccfefd",
   "metadata": {},
   "outputs": [],
   "source": []
  },
  {
   "cell_type": "code",
   "execution_count": null,
   "id": "ac3bad7d",
   "metadata": {},
   "outputs": [],
   "source": []
  }
 ],
 "metadata": {
  "kernelspec": {
   "display_name": "Python 3 (ipykernel)",
   "language": "python",
   "name": "python3"
  },
  "language_info": {
   "codemirror_mode": {
    "name": "ipython",
    "version": 3
   },
   "file_extension": ".py",
   "mimetype": "text/x-python",
   "name": "python",
   "nbconvert_exporter": "python",
   "pygments_lexer": "ipython3",
   "version": "3.9.13"
  }
 },
 "nbformat": 4,
 "nbformat_minor": 5
}
