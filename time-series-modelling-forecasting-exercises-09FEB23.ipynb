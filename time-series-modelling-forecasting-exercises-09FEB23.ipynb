{
 "cells": [
  {
   "cell_type": "markdown",
   "id": "751b6c09",
   "metadata": {},
   "source": [
    "# Time Series Modelling : Forecasting Exercises\n",
    "\n",
    "09 February 2023\n",
    "\n",
    "\n",
    "Using saas.csv :\n",
    "\n",
    "    \n",
    "    Forecast, plot and evaluate using each at least 4 of the methods we discussed:\n",
    "        Last Observed Value\n",
    "        Simple Average\n",
    "        Moving Average\n",
    "        Holt's Linear Trend\n",
    "        Holt's Seasonal Trend\n",
    "        Based on previous year/month/etc., this is up to you.\n",
    "\n",
    "Bonus:\n",
    "\n",
    "    Using the store item demand data, create a forecast of sales_total and quantity for 2018 using the Previous Cycle approach. .\n",
    "    Predict 2018 total monthly sales for a single store and/or item by creating a model using prophet.\n",
    "    Return a dataframe with the month, store_id, y-hat, and the confidence intervals (y-hat lower, y-hat upper).\n",
    "    Plot the 2018 monthly sales predictions.\n",
    "\n"
   ]
  },
  {
   "cell_type": "code",
   "execution_count": 1,
   "id": "99934cb3",
   "metadata": {},
   "outputs": [],
   "source": [
    "# for presentation purposes\n",
    "import warnings\n",
    "warnings.filterwarnings(\"ignore\")\n",
    "\n",
    "# wrangle\n",
    "from env import username, password, host\n",
    "import os\n",
    "\n",
    "# transform\n",
    "import numpy as np\n",
    "import pandas as pd\n",
    "\n",
    "# visualize \n",
    "import matplotlib.pyplot as plt\n",
    "import seaborn as sns\n",
    "\n",
    "\n",
    "# working with dates\n",
    "from datetime import datetime\n",
    "\n",
    "# modeling\n",
    "import statsmodels.api as sm\n",
    "from statsmodels.tsa.api import Holt, ExponentialSmoothing\n",
    "np.random.seed(0)\n",
    "\n",
    "# evaluate\n",
    "from sklearn.metrics import mean_squared_error\n",
    "from math import sqrt "
   ]
  },
  {
   "cell_type": "code",
   "execution_count": 2,
   "id": "491c6040",
   "metadata": {},
   "outputs": [],
   "source": [
    "# importing the csv\n",
    "\n",
    "saas = pd.read_csv('saas.csv')"
   ]
  },
  {
   "cell_type": "code",
   "execution_count": 3,
   "id": "9e5368c1",
   "metadata": {},
   "outputs": [
    {
     "data": {
      "text/html": [
       "<div>\n",
       "<style scoped>\n",
       "    .dataframe tbody tr th:only-of-type {\n",
       "        vertical-align: middle;\n",
       "    }\n",
       "\n",
       "    .dataframe tbody tr th {\n",
       "        vertical-align: top;\n",
       "    }\n",
       "\n",
       "    .dataframe thead th {\n",
       "        text-align: right;\n",
       "    }\n",
       "</style>\n",
       "<table border=\"1\" class=\"dataframe\">\n",
       "  <thead>\n",
       "    <tr style=\"text-align: right;\">\n",
       "      <th></th>\n",
       "      <th>Month_Invoiced</th>\n",
       "      <th>Customer_Id</th>\n",
       "      <th>Invoice_Id</th>\n",
       "      <th>Subscription_Type</th>\n",
       "      <th>Amount</th>\n",
       "    </tr>\n",
       "  </thead>\n",
       "  <tbody>\n",
       "    <tr>\n",
       "      <th>538471</th>\n",
       "      <td>2016-07-31</td>\n",
       "      <td>1021019</td>\n",
       "      <td>5538471</td>\n",
       "      <td>0.0</td>\n",
       "      <td>0.0</td>\n",
       "    </tr>\n",
       "    <tr>\n",
       "      <th>610468</th>\n",
       "      <td>2016-12-31</td>\n",
       "      <td>1014827</td>\n",
       "      <td>5610468</td>\n",
       "      <td>3.0</td>\n",
       "      <td>15.0</td>\n",
       "    </tr>\n",
       "    <tr>\n",
       "      <th>228612</th>\n",
       "      <td>2015-01-31</td>\n",
       "      <td>1001370</td>\n",
       "      <td>5228612</td>\n",
       "      <td>0.0</td>\n",
       "      <td>0.0</td>\n",
       "    </tr>\n",
       "  </tbody>\n",
       "</table>\n",
       "</div>"
      ],
      "text/plain": [
       "       Month_Invoiced  Customer_Id  Invoice_Id  Subscription_Type  Amount\n",
       "538471     2016-07-31      1021019     5538471                0.0     0.0\n",
       "610468     2016-12-31      1014827     5610468                3.0    15.0\n",
       "228612     2015-01-31      1001370     5228612                0.0     0.0"
      ]
     },
     "execution_count": 3,
     "metadata": {},
     "output_type": "execute_result"
    }
   ],
   "source": [
    "saas.head(3)"
   ]
  },
  {
   "cell_type": "code",
   "execution_count": 4,
   "id": "1ac720cf",
   "metadata": {},
   "outputs": [
    {
     "name": "stdout",
     "output_type": "stream",
     "text": [
      "<class 'pandas.core.frame.DataFrame'>\n",
      "RangeIndex: 790458 entries, 0 to 790457\n",
      "Data columns (total 5 columns):\n",
      " #   Column             Non-Null Count   Dtype  \n",
      "---  ------             --------------   -----  \n",
      " 0   Month_Invoiced     790458 non-null  object \n",
      " 1   Customer_Id        790458 non-null  int64  \n",
      " 2   Invoice_Id         790458 non-null  int64  \n",
      " 3   Subscription_Type  790458 non-null  float64\n",
      " 4   Amount             790458 non-null  float64\n",
      "dtypes: float64(2), int64(2), object(1)\n",
      "memory usage: 30.2+ MB\n"
     ]
    }
   ],
   "source": [
    "saas.info()"
   ]
  },
  {
   "cell_type": "code",
   "execution_count": 5,
   "id": "49895b80",
   "metadata": {},
   "outputs": [],
   "source": [
    "# renaming awkward cols\n",
    "\n",
    "saas = saas.rename(columns = {'Month_Invoiced':'month_invoiced', 'Customer_Id':'customer_id',\n",
    "                              'Amount': 'amount'})"
   ]
  },
  {
   "cell_type": "code",
   "execution_count": 7,
   "id": "80e4f1a3",
   "metadata": {},
   "outputs": [],
   "source": [
    "# dropping unnecessary cols\n",
    "\n",
    "saas = saas.drop(columns = {'Invoice_Id', 'Subscription_Type'})"
   ]
  },
  {
   "cell_type": "code",
   "execution_count": 8,
   "id": "3713ab4a",
   "metadata": {},
   "outputs": [],
   "source": [
    "# change 'sale_date' to datetime format\n",
    "saas['month_invoiced'] = pd.to_datetime(saas['month_invoiced'])\n",
    "    \n",
    "# setting 'sale_date' as index and sorting it\n",
    "saas = saas.set_index('month_invoiced').sort_index()"
   ]
  },
  {
   "cell_type": "code",
   "execution_count": 11,
   "id": "9a19f080",
   "metadata": {},
   "outputs": [
    {
     "data": {
      "text/html": [
       "<div>\n",
       "<style scoped>\n",
       "    .dataframe tbody tr th:only-of-type {\n",
       "        vertical-align: middle;\n",
       "    }\n",
       "\n",
       "    .dataframe tbody tr th {\n",
       "        vertical-align: top;\n",
       "    }\n",
       "\n",
       "    .dataframe thead th {\n",
       "        text-align: right;\n",
       "    }\n",
       "</style>\n",
       "<table border=\"1\" class=\"dataframe\">\n",
       "  <thead>\n",
       "    <tr style=\"text-align: right;\">\n",
       "      <th></th>\n",
       "      <th>customer_id</th>\n",
       "      <th>amount</th>\n",
       "    </tr>\n",
       "    <tr>\n",
       "      <th>month_invoiced</th>\n",
       "      <th></th>\n",
       "      <th></th>\n",
       "    </tr>\n",
       "  </thead>\n",
       "  <tbody>\n",
       "    <tr>\n",
       "      <th>2014-01-31</th>\n",
       "      <td>1000000</td>\n",
       "      <td>0.0</td>\n",
       "    </tr>\n",
       "    <tr>\n",
       "      <th>2014-01-31</th>\n",
       "      <td>1000001</td>\n",
       "      <td>10.0</td>\n",
       "    </tr>\n",
       "    <tr>\n",
       "      <th>2014-01-31</th>\n",
       "      <td>1000002</td>\n",
       "      <td>0.0</td>\n",
       "    </tr>\n",
       "    <tr>\n",
       "      <th>2014-01-31</th>\n",
       "      <td>1000003</td>\n",
       "      <td>0.0</td>\n",
       "    </tr>\n",
       "    <tr>\n",
       "      <th>2014-01-31</th>\n",
       "      <td>1000004</td>\n",
       "      <td>5.0</td>\n",
       "    </tr>\n",
       "    <tr>\n",
       "      <th>2014-01-31</th>\n",
       "      <td>1000005</td>\n",
       "      <td>10.0</td>\n",
       "    </tr>\n",
       "    <tr>\n",
       "      <th>2014-01-31</th>\n",
       "      <td>1000006</td>\n",
       "      <td>0.0</td>\n",
       "    </tr>\n",
       "    <tr>\n",
       "      <th>2014-01-31</th>\n",
       "      <td>1000007</td>\n",
       "      <td>0.0</td>\n",
       "    </tr>\n",
       "    <tr>\n",
       "      <th>2014-01-31</th>\n",
       "      <td>1000008</td>\n",
       "      <td>0.0</td>\n",
       "    </tr>\n",
       "    <tr>\n",
       "      <th>2014-01-31</th>\n",
       "      <td>1000009</td>\n",
       "      <td>0.0</td>\n",
       "    </tr>\n",
       "  </tbody>\n",
       "</table>\n",
       "</div>"
      ],
      "text/plain": [
       "                customer_id  amount\n",
       "month_invoiced                     \n",
       "2014-01-31          1000000     0.0\n",
       "2014-01-31          1000001    10.0\n",
       "2014-01-31          1000002     0.0\n",
       "2014-01-31          1000003     0.0\n",
       "2014-01-31          1000004     5.0\n",
       "2014-01-31          1000005    10.0\n",
       "2014-01-31          1000006     0.0\n",
       "2014-01-31          1000007     0.0\n",
       "2014-01-31          1000008     0.0\n",
       "2014-01-31          1000009     0.0"
      ]
     },
     "execution_count": 11,
     "metadata": {},
     "output_type": "execute_result"
    }
   ],
   "source": [
    "saas.head(10)"
   ]
  },
  {
   "cell_type": "markdown",
   "id": "31372906",
   "metadata": {},
   "source": [
    "### 1. Split data (train/test) and resample by any period, except daily, and aggregate using the sum."
   ]
  },
  {
   "cell_type": "code",
   "execution_count": 13,
   "id": "bd088ee6",
   "metadata": {},
   "outputs": [
    {
     "data": {
      "text/plain": [
       "395229"
      ]
     },
     "execution_count": 13,
     "metadata": {},
     "output_type": "execute_result"
    }
   ],
   "source": [
    "# set train size to be 50% of total \n",
    "\n",
    "train_size = int(round(saas.shape[0] * 0.5))\n",
    "\n",
    "train_size"
   ]
  },
  {
   "cell_type": "code",
   "execution_count": 14,
   "id": "d311322a",
   "metadata": {},
   "outputs": [
    {
     "data": {
      "text/plain": [
       "237137"
      ]
     },
     "execution_count": 14,
     "metadata": {},
     "output_type": "execute_result"
    }
   ],
   "source": [
    "# set validate size to be 30% of total \n",
    "\n",
    "val_size = int(round(saas.shape[0] * 0.3))\n",
    "\n",
    "val_size"
   ]
  },
  {
   "cell_type": "code",
   "execution_count": 15,
   "id": "17e84457",
   "metadata": {},
   "outputs": [],
   "source": [
    "# set test size\n",
    "\n",
    "test_size = int(round(saas.shape[0] * 0.2))"
   ]
  },
  {
   "cell_type": "code",
   "execution_count": 23,
   "id": "e156bb73",
   "metadata": {},
   "outputs": [
    {
     "data": {
      "text/plain": [
       "(395229, 2)"
      ]
     },
     "execution_count": 23,
     "metadata": {},
     "output_type": "execute_result"
    }
   ],
   "source": [
    "# train : data to the end of 'train_size'\n",
    "\n",
    "train = saas[:train_size]\n",
    "\n",
    "train.shape"
   ]
  },
  {
   "cell_type": "code",
   "execution_count": 18,
   "id": "51717b3a",
   "metadata": {},
   "outputs": [
    {
     "data": {
      "text/plain": [
       "632366"
      ]
     },
     "execution_count": 18,
     "metadata": {},
     "output_type": "execute_result"
    }
   ],
   "source": [
    "# validate to the end\n",
    "val_end_index = train_size + val_size\n",
    "\n",
    "val_end_index"
   ]
  },
  {
   "cell_type": "code",
   "execution_count": 22,
   "id": "0039a5f3",
   "metadata": {},
   "outputs": [
    {
     "data": {
      "text/plain": [
       "(237137, 2)"
      ]
     },
     "execution_count": 22,
     "metadata": {},
     "output_type": "execute_result"
    }
   ],
   "source": [
    "# setting val\n",
    "\n",
    "val = saas[train_size:val_end_index]\n",
    "val.shape"
   ]
  },
  {
   "cell_type": "code",
   "execution_count": 21,
   "id": "9bdc178a",
   "metadata": {},
   "outputs": [
    {
     "data": {
      "text/plain": [
       "(158092, 2)"
      ]
     },
     "execution_count": 21,
     "metadata": {},
     "output_type": "execute_result"
    }
   ],
   "source": [
    "# setting test\n",
    "\n",
    "test = saas[val_end_index:]\n",
    "\n",
    "test.shape"
   ]
  }
 ],
 "metadata": {
  "kernelspec": {
   "display_name": "Python 3 (ipykernel)",
   "language": "python",
   "name": "python3"
  },
  "language_info": {
   "codemirror_mode": {
    "name": "ipython",
    "version": 3
   },
   "file_extension": ".py",
   "mimetype": "text/x-python",
   "name": "python",
   "nbconvert_exporter": "python",
   "pygments_lexer": "ipython3",
   "version": "3.9.13"
  }
 },
 "nbformat": 4,
 "nbformat_minor": 5
}
