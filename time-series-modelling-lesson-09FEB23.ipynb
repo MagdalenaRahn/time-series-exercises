{
 "cells": [
  {
   "cell_type": "markdown",
   "id": "5c66707b",
   "metadata": {},
   "source": [
    "# Time Series Modelling Lesson\n",
    "\n",
    "09 February 2023\n",
    "\n",
    "    - Last-observed value\n",
    "    - Simple average\n",
    "    - Moving average\n",
    "    - Previous cycle\n",
    "    - Holt's linear trend\n",
    "    - Holt's seasonal trend\n",
    "    \n",
    "\n"
   ]
  }
 ],
 "metadata": {
  "kernelspec": {
   "display_name": "Python 3 (ipykernel)",
   "language": "python",
   "name": "python3"
  },
  "language_info": {
   "codemirror_mode": {
    "name": "ipython",
    "version": 3
   },
   "file_extension": ".py",
   "mimetype": "text/x-python",
   "name": "python",
   "nbconvert_exporter": "python",
   "pygments_lexer": "ipython3",
   "version": "3.9.13"
  }
 },
 "nbformat": 4,
 "nbformat_minor": 5
}
