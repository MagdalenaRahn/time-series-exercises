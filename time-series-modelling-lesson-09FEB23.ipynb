{
 "cells": [
  {
   "cell_type": "markdown",
   "id": "03972f88",
   "metadata": {},
   "source": [
    "# Time Series Modelling Lesson\n",
    "\n",
    "09 February 2023\n",
    "\n",
    "    - Last-observed value\n",
    "    - Simple average\n",
    "    - Moving average\n",
    "    - Previous cycle\n",
    "    - Holt's linear trend\n",
    "    - Holt's seasonal trend\n",
    "    \n",
    "\n"
   ]
  },
  {
   "cell_type": "code",
   "execution_count": 1,
   "id": "95d31492",
   "metadata": {},
   "outputs": [],
   "source": [
    "#imports\n",
    "\n",
    "import pandas as pd\n",
    "import numpy as np\n",
    "\n",
    "\n",
    "import matplotlib.pyplot as plt\n",
    "import seaborn as sns\n",
    "\n",
    "import env\n",
    "\n",
    "\n",
    "import statsmodels.api as sm\n",
    "\n",
    "import warnings\n",
    "warnings.filterwarnings(\"ignore\")"
   ]
  },
  {
   "cell_type": "code",
   "execution_count": 3,
   "id": "8991e85e",
   "metadata": {},
   "outputs": [],
   "source": [
    "def get_db_url(database):\n",
    "    '''\n",
    "    Returns a formatted string using credentials stored in env.py that can be passed to a pd.read_sql() function\n",
    "    '''\n",
    "    return f'mysql+pymysql://{user}:{password}@{host}/{database}'\n",
    "    \n",
    "def get_store_data():\n",
    "    '''\n",
    "    Returns a dataframe of all store data in the tsa_item_demand database and saves a local copy as a csv file.\n",
    "    '''\n",
    "    query = '''\n",
    "            SELECT *\n",
    "            FROM items\n",
    "            JOIN sales USING(item_id)\n",
    "            JOIN stores USING(store_id)\n",
    "            '''\n",
    "    \n",
    "    df = pd.read_sql(query, get_db_url('tsa_item_demand'))\n",
    "    df.to_csv('tsa_store_data.csv', index=False)\n",
    "    return df\n",
    "\n",
    "def wrangle_store_data():\n",
    "    '''\n",
    "    Checks for a local cache of tsa_store_data.csv and if not present will run the get_store_data() function which acquires data from Codeup's mysql server\n",
    "    '''\n",
    "    filename = 'tsa_store_data.csv'\n",
    "    if os.path.isfile(filename):\n",
    "        df = pd.read_csv(filename)\n",
    "    else:\n",
    "        df = get_store_data()\n",
    "    return df\n",
    "\n",
    "def prep_store_data(df):\n",
    "    '''\n",
    "    Prepares raw store data for analysis and time series modeling.\n",
    "    '''\n",
    "    df.sale_date = pd.to_datetime(df.sale_date)\n",
    "    df = df.set_index('sale_date').sort_index()\n",
    "    df = df.rename(columns={'sale_amount': 'quantity'})\n",
    "    df['sales_total'] = df.quantity * df.item_price\n",
    "    return df\n"
   ]
  }
 ],
 "metadata": {
  "kernelspec": {
   "display_name": "Python 3 (ipykernel)",
   "language": "python",
   "name": "python3"
  },
  "language_info": {
   "codemirror_mode": {
    "name": "ipython",
    "version": 3
   },
   "file_extension": ".py",
   "mimetype": "text/x-python",
   "name": "python",
   "nbconvert_exporter": "python",
   "pygments_lexer": "ipython3",
   "version": "3.9.13"
  }
 },
 "nbformat": 4,
 "nbformat_minor": 5
}
