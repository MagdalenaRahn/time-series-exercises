{
 "cells": [
  {
   "cell_type": "markdown",
   "id": "199e1d25",
   "metadata": {},
   "source": [
    "# Working with time series exercises\n",
    "\n",
    "07 February 2023\n"
   ]
  },
  {
   "cell_type": "code",
   "execution_count": 1,
   "id": "8ae2787f",
   "metadata": {},
   "outputs": [],
   "source": [
    "import pandas as pd\n",
    "import matplotlib.pyplot as plt\n",
    "import seaborn as sns\n",
    "import numpy as np\n",
    "\n",
    "from vega_datasets import data"
   ]
  },
  {
   "cell_type": "markdown",
   "id": "a8fb749e",
   "metadata": {},
   "source": [
    "# ```data.sf_temps()```\n",
    "\n",
    "### 1. Resample by the day and take the average temperature. Visualize the average temperature over time."
   ]
  },
  {
   "cell_type": "code",
   "execution_count": 2,
   "id": "2d9ff8f3",
   "metadata": {},
   "outputs": [
    {
     "data": {
      "text/html": [
       "<div>\n",
       "<style scoped>\n",
       "    .dataframe tbody tr th:only-of-type {\n",
       "        vertical-align: middle;\n",
       "    }\n",
       "\n",
       "    .dataframe tbody tr th {\n",
       "        vertical-align: top;\n",
       "    }\n",
       "\n",
       "    .dataframe thead th {\n",
       "        text-align: right;\n",
       "    }\n",
       "</style>\n",
       "<table border=\"1\" class=\"dataframe\">\n",
       "  <thead>\n",
       "    <tr style=\"text-align: right;\">\n",
       "      <th></th>\n",
       "      <th>temp</th>\n",
       "      <th>date</th>\n",
       "    </tr>\n",
       "  </thead>\n",
       "  <tbody>\n",
       "    <tr>\n",
       "      <th>4600</th>\n",
       "      <td>66.2</td>\n",
       "      <td>2010-07-11 17:00:00</td>\n",
       "    </tr>\n",
       "    <tr>\n",
       "      <th>7142</th>\n",
       "      <td>66.0</td>\n",
       "      <td>2010-10-25 15:00:00</td>\n",
       "    </tr>\n",
       "    <tr>\n",
       "      <th>2435</th>\n",
       "      <td>61.1</td>\n",
       "      <td>2010-04-12 12:00:00</td>\n",
       "    </tr>\n",
       "  </tbody>\n",
       "</table>\n",
       "</div>"
      ],
      "text/plain": [
       "      temp                date\n",
       "4600  66.2 2010-07-11 17:00:00\n",
       "7142  66.0 2010-10-25 15:00:00\n",
       "2435  61.1 2010-04-12 12:00:00"
      ]
     },
     "execution_count": 2,
     "metadata": {},
     "output_type": "execute_result"
    }
   ],
   "source": [
    "# getting sf_temps data\n",
    "\n",
    "df = data.sf_temps()\n",
    "df.sample(3)"
   ]
  },
  {
   "cell_type": "code",
   "execution_count": 3,
   "id": "9270849b",
   "metadata": {},
   "outputs": [
    {
     "name": "stdout",
     "output_type": "stream",
     "text": [
      "<class 'pandas.core.frame.DataFrame'>\n",
      "RangeIndex: 8759 entries, 0 to 8758\n",
      "Data columns (total 2 columns):\n",
      " #   Column  Non-Null Count  Dtype         \n",
      "---  ------  --------------  -----         \n",
      " 0   temp    8759 non-null   float64       \n",
      " 1   date    8759 non-null   datetime64[ns]\n",
      "dtypes: datetime64[ns](1), float64(1)\n",
      "memory usage: 137.0 KB\n"
     ]
    }
   ],
   "source": [
    "# info on df\n",
    "\n",
    "df.info() # no nulls"
   ]
  },
  {
   "cell_type": "code",
   "execution_count": 4,
   "id": "bf501c12",
   "metadata": {},
   "outputs": [
    {
     "data": {
      "text/html": [
       "<div>\n",
       "<style scoped>\n",
       "    .dataframe tbody tr th:only-of-type {\n",
       "        vertical-align: middle;\n",
       "    }\n",
       "\n",
       "    .dataframe tbody tr th {\n",
       "        vertical-align: top;\n",
       "    }\n",
       "\n",
       "    .dataframe thead th {\n",
       "        text-align: right;\n",
       "    }\n",
       "</style>\n",
       "<table border=\"1\" class=\"dataframe\">\n",
       "  <thead>\n",
       "    <tr style=\"text-align: right;\">\n",
       "      <th></th>\n",
       "      <th>count</th>\n",
       "      <th>mean</th>\n",
       "      <th>std</th>\n",
       "      <th>min</th>\n",
       "      <th>25%</th>\n",
       "      <th>50%</th>\n",
       "      <th>75%</th>\n",
       "      <th>max</th>\n",
       "    </tr>\n",
       "  </thead>\n",
       "  <tbody>\n",
       "    <tr>\n",
       "      <th>temp</th>\n",
       "      <td>8759.0</td>\n",
       "      <td>56.924112</td>\n",
       "      <td>6.107079</td>\n",
       "      <td>45.6</td>\n",
       "      <td>52.3</td>\n",
       "      <td>56.5</td>\n",
       "      <td>60.7</td>\n",
       "      <td>72.2</td>\n",
       "    </tr>\n",
       "  </tbody>\n",
       "</table>\n",
       "</div>"
      ],
      "text/plain": [
       "       count       mean       std   min   25%   50%   75%   max\n",
       "temp  8759.0  56.924112  6.107079  45.6  52.3  56.5  60.7  72.2"
      ]
     },
     "execution_count": 4,
     "metadata": {},
     "output_type": "execute_result"
    }
   ],
   "source": [
    "# describing stats\n",
    "\n",
    "df.describe().T"
   ]
  },
  {
   "cell_type": "code",
   "execution_count": 5,
   "id": "ff1d13a5",
   "metadata": {},
   "outputs": [],
   "source": [
    "# resetting date to index\n",
    "\n",
    "df = df.set_index('date')"
   ]
  },
  {
   "cell_type": "code",
   "execution_count": 6,
   "id": "d052adff",
   "metadata": {},
   "outputs": [
    {
     "data": {
      "text/html": [
       "<div>\n",
       "<style scoped>\n",
       "    .dataframe tbody tr th:only-of-type {\n",
       "        vertical-align: middle;\n",
       "    }\n",
       "\n",
       "    .dataframe tbody tr th {\n",
       "        vertical-align: top;\n",
       "    }\n",
       "\n",
       "    .dataframe thead th {\n",
       "        text-align: right;\n",
       "    }\n",
       "</style>\n",
       "<table border=\"1\" class=\"dataframe\">\n",
       "  <thead>\n",
       "    <tr style=\"text-align: right;\">\n",
       "      <th></th>\n",
       "      <th>temp</th>\n",
       "    </tr>\n",
       "    <tr>\n",
       "      <th>date</th>\n",
       "      <th></th>\n",
       "    </tr>\n",
       "  </thead>\n",
       "  <tbody>\n",
       "    <tr>\n",
       "      <th>2010-01-01 00:00:00</th>\n",
       "      <td>47.8</td>\n",
       "    </tr>\n",
       "    <tr>\n",
       "      <th>2010-01-01 01:00:00</th>\n",
       "      <td>47.4</td>\n",
       "    </tr>\n",
       "    <tr>\n",
       "      <th>2010-01-01 02:00:00</th>\n",
       "      <td>46.9</td>\n",
       "    </tr>\n",
       "  </tbody>\n",
       "</table>\n",
       "</div>"
      ],
      "text/plain": [
       "                     temp\n",
       "date                     \n",
       "2010-01-01 00:00:00  47.8\n",
       "2010-01-01 01:00:00  47.4\n",
       "2010-01-01 02:00:00  46.9"
      ]
     },
     "execution_count": 6,
     "metadata": {},
     "output_type": "execute_result"
    }
   ],
   "source": [
    "# sorting to date / time\n",
    "\n",
    "df = df.sort_index(ascending = True)\n",
    "df.head(3)"
   ]
  },
  {
   "cell_type": "code",
   "execution_count": 7,
   "id": "fb25cff5",
   "metadata": {},
   "outputs": [
    {
     "data": {
      "text/html": [
       "<div>\n",
       "<style scoped>\n",
       "    .dataframe tbody tr th:only-of-type {\n",
       "        vertical-align: middle;\n",
       "    }\n",
       "\n",
       "    .dataframe tbody tr th {\n",
       "        vertical-align: top;\n",
       "    }\n",
       "\n",
       "    .dataframe thead th {\n",
       "        text-align: right;\n",
       "    }\n",
       "</style>\n",
       "<table border=\"1\" class=\"dataframe\">\n",
       "  <thead>\n",
       "    <tr style=\"text-align: right;\">\n",
       "      <th></th>\n",
       "      <th>temp</th>\n",
       "    </tr>\n",
       "    <tr>\n",
       "      <th>date</th>\n",
       "      <th></th>\n",
       "    </tr>\n",
       "  </thead>\n",
       "  <tbody>\n",
       "    <tr>\n",
       "      <th>2010-01-01</th>\n",
       "      <td>49.20</td>\n",
       "    </tr>\n",
       "    <tr>\n",
       "      <th>2010-01-02</th>\n",
       "      <td>49.30</td>\n",
       "    </tr>\n",
       "    <tr>\n",
       "      <th>2010-01-03</th>\n",
       "      <td>49.35</td>\n",
       "    </tr>\n",
       "  </tbody>\n",
       "</table>\n",
       "</div>"
      ],
      "text/plain": [
       "             temp\n",
       "date             \n",
       "2010-01-01  49.20\n",
       "2010-01-02  49.30\n",
       "2010-01-03  49.35"
      ]
     },
     "execution_count": 7,
     "metadata": {},
     "output_type": "execute_result"
    }
   ],
   "source": [
    "# resampling by day and getting avg temp\n",
    "\n",
    "df_day = df.resample('D').median()\n",
    "df_day.head(3)"
   ]
  },
  {
   "cell_type": "code",
   "execution_count": 8,
   "id": "b0076cb4",
   "metadata": {},
   "outputs": [
    {
     "data": {
      "text/plain": [
       "Text(0.5, 1.0, 'SF Average Daily Temperatures in 2010')"
      ]
     },
     "execution_count": 8,
     "metadata": {},
     "output_type": "execute_result"
    },
    {
     "data": {
      "image/png": "[encoded data removed]",
      "text/plain": [
       "<Figure size 640x480 with 1 Axes>"
      ]
     },
     "metadata": {},
     "output_type": "display_data"
    }
   ],
   "source": [
    "# ziv the avg daily temp over time\n",
    "\n",
    "df_day.plot()\n",
    "\n",
    "plt.title('SF Average Daily Temperatures in 2010')"
   ]
  },
  {
   "cell_type": "markdown",
   "id": "ba349d5a",
   "metadata": {},
   "source": [
    "### 2. Write the code necessary to visualize the minimum (daily ?) temperature over time."
   ]
  },
  {
   "cell_type": "code",
   "execution_count": 9,
   "id": "bea83ef3",
   "metadata": {},
   "outputs": [],
   "source": [
    "# getting daily min temp\n",
    "\n",
    "daily_min = df['temp'].resample('d').min()\n",
    "\n",
    "# assigning daily min temp to df\n",
    "df['daily_min'] = daily_min"
   ]
  },
  {
   "cell_type": "code",
   "execution_count": 10,
   "id": "fb209666",
   "metadata": {},
   "outputs": [
    {
     "data": {
      "text/plain": [
       "Text(0.5, 1.0, 'SF Minimum Daily Temperatures in 2010')"
      ]
     },
     "execution_count": 10,
     "metadata": {},
     "output_type": "execute_result"
    },
    {
     "data": {
      "image/png": "[encoded data removed]",
      "text/plain": [
       "<Figure size 640x480 with 1 Axes>"
      ]
     },
     "metadata": {},
     "output_type": "display_data"
    }
   ],
   "source": [
    "# plotting daily min tem\n",
    "\n",
    "daily_min.plot()\n",
    "\n",
    "plt.title('SF Minimum Daily Temperatures in 2010')"
   ]
  },
  {
   "cell_type": "markdown",
   "id": "6057d2f0",
   "metadata": {},
   "source": [
    "### 3. Write the code necessary to visualize the maximum temperature over time."
   ]
  },
  {
   "cell_type": "code",
   "execution_count": 11,
   "id": "8f3fa929",
   "metadata": {},
   "outputs": [],
   "source": [
    "# getting daily max temp\n",
    "\n",
    "daily_max = df['temp'].resample('d').max()\n",
    "\n",
    "# assigning daily min temp to df\n",
    "df['daily_max'] = daily_max"
   ]
  },
  {
   "cell_type": "code",
   "execution_count": 12,
   "id": "50b07883",
   "metadata": {},
   "outputs": [
    {
     "data": {
      "text/plain": [
       "Text(0.5, 1.0, 'SF Maximum Daily Temperatures in 2010')"
      ]
     },
     "execution_count": 12,
     "metadata": {},
     "output_type": "execute_result"
    },
    {
     "data": {
      "image/png": "[encoded data removed]",
      "text/plain": [
       "<Figure size 640x480 with 1 Axes>"
      ]
     },
     "metadata": {},
     "output_type": "display_data"
    }
   ],
   "source": [
    "# plotting daily max temp\n",
    "\n",
    "daily_max.plot()\n",
    "\n",
    "plt.title('SF Maximum Daily Temperatures in 2010')"
   ]
  },
  {
   "cell_type": "markdown",
   "id": "1bafcb54",
   "metadata": {},
   "source": [
    "### 4. Which month is the coldest, on average?"
   ]
  },
  {
   "cell_type": "code",
   "execution_count": 13,
   "id": "0c19f38f",
   "metadata": {},
   "outputs": [
    {
     "data": {
      "text/plain": [
       "Timedelta('364 days 23:00:00')"
      ]
     },
     "execution_count": 13,
     "metadata": {},
     "output_type": "execute_result"
    }
   ],
   "source": [
    "# daterange = 1 year\n",
    "\n",
    "df.index.max() - df.index.min()"
   ]
  },
  {
   "cell_type": "code",
   "execution_count": 14,
   "id": "de085a7e",
   "metadata": {},
   "outputs": [
    {
     "data": {
      "text/plain": [
       "Timestamp('2010-01-31 00:00:00', freq='M')"
      ]
     },
     "execution_count": 14,
     "metadata": {},
     "output_type": "execute_result"
    }
   ],
   "source": [
    "month_avg = df['temp'].resample('M').mean()\n",
    "\n",
    "month_avg.idxmin()\n",
    "\n",
    "# january is the coldest month on average"
   ]
  },
  {
   "cell_type": "code",
   "execution_count": 15,
   "id": "c3f37a9e",
   "metadata": {},
   "outputs": [
    {
     "data": {
      "text/plain": [
       "date\n",
       "2010-01-31    49.98414\n",
       "Name: temp, dtype: float64"
      ]
     },
     "execution_count": 15,
     "metadata": {},
     "output_type": "execute_result"
    }
   ],
   "source": [
    "# in-class\n",
    "\n",
    "df['temp'].resample('m').mean().sort_values().head(1)"
   ]
  },
  {
   "cell_type": "markdown",
   "id": "7c548301",
   "metadata": {},
   "source": [
    "### 5. Which month has the highest average temperature?"
   ]
  },
  {
   "cell_type": "code",
   "execution_count": 16,
   "id": "f9ae250e",
   "metadata": {},
   "outputs": [
    {
     "data": {
      "text/plain": [
       "Timestamp('2010-09-30 00:00:00', freq='M')"
      ]
     },
     "execution_count": 16,
     "metadata": {},
     "output_type": "execute_result"
    }
   ],
   "source": [
    "month_avg.idxmax()\n",
    "\n",
    "# september is, on average, the warmest month"
   ]
  },
  {
   "cell_type": "code",
   "execution_count": 17,
   "id": "6a6acc5e",
   "metadata": {},
   "outputs": [
    {
     "data": {
      "text/plain": [
       "date\n",
       "2010-09-30    62.487083\n",
       "Name: temp, dtype: float64"
      ]
     },
     "execution_count": 17,
     "metadata": {},
     "output_type": "execute_result"
    }
   ],
   "source": [
    "# in-class\n",
    "\n",
    "df['temp'].resample('m').mean().sort_values().tail(1)"
   ]
  },
  {
   "cell_type": "markdown",
   "id": "dfeb5fef",
   "metadata": {},
   "source": [
    "### 6. Resample by the day and calculate the min and max temp for the day. (Hint : .agg(['min', 'max'])). Use this resampled dataframe to calculate the change in temperature for the day.  Which month has the highest daily temperature variability?"
   ]
  },
  {
   "cell_type": "code",
   "execution_count": 18,
   "id": "ac7121b3",
   "metadata": {},
   "outputs": [],
   "source": [
    "# attempting to make column with temp differences\n",
    "\n",
    "# df['essai'] = (df['daily_min'].resample('d').sum()) - (df['daily_min'].resample('d').sum())"
   ]
  },
  {
   "cell_type": "code",
   "execution_count": 19,
   "id": "886a79ae",
   "metadata": {},
   "outputs": [
    {
     "data": {
      "text/plain": [
       "date\n",
       "2010-01-01    45.8\n",
       "2010-01-02    46.0\n",
       "2010-01-03    46.1\n",
       "Freq: D, Name: daily_min, dtype: float64"
      ]
     },
     "execution_count": 19,
     "metadata": {},
     "output_type": "execute_result"
    }
   ],
   "source": [
    "# verifying that the daily_min col is in fact the avg daily min\n",
    "\n",
    "df['daily_min'].resample('d').sum().head(3)"
   ]
  },
  {
   "cell_type": "code",
   "execution_count": 20,
   "id": "58e489c6",
   "metadata": {},
   "outputs": [
    {
     "data": {
      "text/html": [
       "<div>\n",
       "<style scoped>\n",
       "    .dataframe tbody tr th:only-of-type {\n",
       "        vertical-align: middle;\n",
       "    }\n",
       "\n",
       "    .dataframe tbody tr th {\n",
       "        vertical-align: top;\n",
       "    }\n",
       "\n",
       "    .dataframe thead th {\n",
       "        text-align: right;\n",
       "    }\n",
       "</style>\n",
       "<table border=\"1\" class=\"dataframe\">\n",
       "  <thead>\n",
       "    <tr style=\"text-align: right;\">\n",
       "      <th></th>\n",
       "      <th>temp</th>\n",
       "      <th>daily_min</th>\n",
       "      <th>daily_max</th>\n",
       "    </tr>\n",
       "    <tr>\n",
       "      <th>date</th>\n",
       "      <th></th>\n",
       "      <th></th>\n",
       "      <th></th>\n",
       "    </tr>\n",
       "  </thead>\n",
       "  <tbody>\n",
       "    <tr>\n",
       "      <th>2010-01-01 00:00:00</th>\n",
       "      <td>47.8</td>\n",
       "      <td>45.8</td>\n",
       "      <td>53.3</td>\n",
       "    </tr>\n",
       "    <tr>\n",
       "      <th>2010-01-01 01:00:00</th>\n",
       "      <td>47.4</td>\n",
       "      <td>NaN</td>\n",
       "      <td>NaN</td>\n",
       "    </tr>\n",
       "    <tr>\n",
       "      <th>2010-01-01 02:00:00</th>\n",
       "      <td>46.9</td>\n",
       "      <td>NaN</td>\n",
       "      <td>NaN</td>\n",
       "    </tr>\n",
       "    <tr>\n",
       "      <th>2010-01-01 03:00:00</th>\n",
       "      <td>46.5</td>\n",
       "      <td>NaN</td>\n",
       "      <td>NaN</td>\n",
       "    </tr>\n",
       "    <tr>\n",
       "      <th>2010-01-01 04:00:00</th>\n",
       "      <td>46.0</td>\n",
       "      <td>NaN</td>\n",
       "      <td>NaN</td>\n",
       "    </tr>\n",
       "  </tbody>\n",
       "</table>\n",
       "</div>"
      ],
      "text/plain": [
       "                     temp  daily_min  daily_max\n",
       "date                                           \n",
       "2010-01-01 00:00:00  47.8       45.8       53.3\n",
       "2010-01-01 01:00:00  47.4        NaN        NaN\n",
       "2010-01-01 02:00:00  46.9        NaN        NaN\n",
       "2010-01-01 03:00:00  46.5        NaN        NaN\n",
       "2010-01-01 04:00:00  46.0        NaN        NaN"
      ]
     },
     "execution_count": 20,
     "metadata": {},
     "output_type": "execute_result"
    }
   ],
   "source": [
    "df.head()"
   ]
  },
  {
   "cell_type": "code",
   "execution_count": 21,
   "id": "4bb61c14",
   "metadata": {},
   "outputs": [],
   "source": [
    "# trying aggregation\n",
    "\n",
    "# daily_min_max_df = df.resample('D').agg(['min', 'max'])\n",
    "\n",
    "# daily_min_max_df.head(3)"
   ]
  },
  {
   "cell_type": "code",
   "execution_count": 22,
   "id": "44a4cbda",
   "metadata": {},
   "outputs": [],
   "source": [
    "# min / max for each col\n",
    "\n",
    "# daily_min_max_df.max() - daily_min_max_df.min()"
   ]
  },
  {
   "cell_type": "code",
   "execution_count": 23,
   "id": "3b5b0483",
   "metadata": {},
   "outputs": [],
   "source": [
    "# another attmept at subtraction\n",
    "# all the rows are 0 \n",
    "\n",
    "# (daily_min_max_df['temp'].resample('d').max() - daily_min_max_df['temp'].resample('d').min()).head(30)"
   ]
  },
  {
   "cell_type": "code",
   "execution_count": 24,
   "id": "52bbed9d",
   "metadata": {},
   "outputs": [],
   "source": [
    "# calculating dif btwn daily min and max\n",
    "\n",
    "daily_dif = df['daily_max'] - df['daily_min']\n",
    "df['daily_dif'] = daily_dif"
   ]
  },
  {
   "cell_type": "code",
   "execution_count": 25,
   "id": "e5728e18",
   "metadata": {},
   "outputs": [],
   "source": [
    "# imputing 0 to nulls\n",
    "\n",
    "df['daily_dif'] = df['daily_dif'].fillna(0)"
   ]
  },
  {
   "cell_type": "code",
   "execution_count": 26,
   "id": "1b719c11",
   "metadata": {},
   "outputs": [
    {
     "data": {
      "text/plain": [
       "Timestamp('2010-08-31 00:00:00')"
      ]
     },
     "execution_count": 26,
     "metadata": {},
     "output_type": "execute_result"
    }
   ],
   "source": [
    "df['daily_dif'].idxmax()\n",
    "\n",
    "# august has the largest daily temp variability"
   ]
  },
  {
   "cell_type": "code",
   "execution_count": 27,
   "id": "2458869d",
   "metadata": {},
   "outputs": [
    {
     "data": {
      "text/plain": [
       "<AxesSubplot:xlabel='date'>"
      ]
     },
     "execution_count": 27,
     "metadata": {},
     "output_type": "execute_result"
    },
    {
     "data": {
      "image/png": "[encoded data removed]",
      "text/plain": [
       "<Figure size 640x480 with 1 Axes>"
      ]
     },
     "metadata": {},
     "output_type": "display_data"
    }
   ],
   "source": [
    "# plotting daily difference in temp\n",
    "\n",
    "df['daily_dif'].plot()\n"
   ]
  },
  {
   "cell_type": "markdown",
   "id": "c1d45748",
   "metadata": {},
   "source": [
    "### in-class example"
   ]
  },
  {
   "cell_type": "code",
   "execution_count": 28,
   "id": "7dab1dfb",
   "metadata": {},
   "outputs": [],
   "source": [
    "daily_temps = df.temp.resample('d').agg(['min', 'max'])"
   ]
  },
  {
   "cell_type": "code",
   "execution_count": 29,
   "id": "c66c9bf4",
   "metadata": {},
   "outputs": [],
   "source": [
    "daily_temps['temp_diff'] = daily_temps['max'] - daily_temps['min']"
   ]
  },
  {
   "cell_type": "code",
   "execution_count": 30,
   "id": "968cab50",
   "metadata": {},
   "outputs": [
    {
     "data": {
      "text/html": [
       "<div>\n",
       "<style scoped>\n",
       "    .dataframe tbody tr th:only-of-type {\n",
       "        vertical-align: middle;\n",
       "    }\n",
       "\n",
       "    .dataframe tbody tr th {\n",
       "        vertical-align: top;\n",
       "    }\n",
       "\n",
       "    .dataframe thead th {\n",
       "        text-align: right;\n",
       "    }\n",
       "</style>\n",
       "<table border=\"1\" class=\"dataframe\">\n",
       "  <thead>\n",
       "    <tr style=\"text-align: right;\">\n",
       "      <th></th>\n",
       "      <th>min</th>\n",
       "      <th>max</th>\n",
       "      <th>temp_diff</th>\n",
       "    </tr>\n",
       "    <tr>\n",
       "      <th>date</th>\n",
       "      <th></th>\n",
       "      <th></th>\n",
       "      <th></th>\n",
       "    </tr>\n",
       "  </thead>\n",
       "  <tbody>\n",
       "    <tr>\n",
       "      <th>2010-01-01</th>\n",
       "      <td>45.8</td>\n",
       "      <td>53.3</td>\n",
       "      <td>7.5</td>\n",
       "    </tr>\n",
       "    <tr>\n",
       "      <th>2010-01-02</th>\n",
       "      <td>46.0</td>\n",
       "      <td>53.4</td>\n",
       "      <td>7.4</td>\n",
       "    </tr>\n",
       "    <tr>\n",
       "      <th>2010-01-03</th>\n",
       "      <td>46.1</td>\n",
       "      <td>53.5</td>\n",
       "      <td>7.4</td>\n",
       "    </tr>\n",
       "  </tbody>\n",
       "</table>\n",
       "</div>"
      ],
      "text/plain": [
       "             min   max  temp_diff\n",
       "date                             \n",
       "2010-01-01  45.8  53.3        7.5\n",
       "2010-01-02  46.0  53.4        7.4\n",
       "2010-01-03  46.1  53.5        7.4"
      ]
     },
     "execution_count": 30,
     "metadata": {},
     "output_type": "execute_result"
    }
   ],
   "source": [
    "daily_temps.head(3)"
   ]
  },
  {
   "cell_type": "code",
   "execution_count": 31,
   "id": "9cb300c7",
   "metadata": {},
   "outputs": [
    {
     "data": {
      "text/plain": [
       "date\n",
       "2010-08-31    15.0\n",
       "Name: temp_diff, dtype: float64"
      ]
     },
     "execution_count": 31,
     "metadata": {},
     "output_type": "execute_result"
    }
   ],
   "source": [
    "daily_temps.temp_diff.resample('m').max().sort_values(ascending = False).head(1)"
   ]
  },
  {
   "cell_type": "markdown",
   "id": "c4497a10",
   "metadata": {},
   "source": [
    "### _Bonus: Visualize the daily min, average, and max temperature over time on a single line plot, i.e. the min, average, and maximum temperature should be 3 seperate lines."
   ]
  },
  {
   "cell_type": "code",
   "execution_count": 32,
   "id": "24a00914",
   "metadata": {},
   "outputs": [],
   "source": [
    "# daily average\n",
    "\n",
    "day_avg = df['temp'].resample('d').mean()"
   ]
  },
  {
   "cell_type": "code",
   "execution_count": 33,
   "id": "ef489ba0",
   "metadata": {},
   "outputs": [],
   "source": [
    "# variable to graph\n",
    "\n",
    "d = ({'daily_max' : daily_max, 'daily_min' : daily_min, 'day_avg' : day_avg})"
   ]
  },
  {
   "cell_type": "code",
   "execution_count": 34,
   "id": "c1978371",
   "metadata": {},
   "outputs": [
    {
     "data": {
      "text/html": [
       "<div>\n",
       "<style scoped>\n",
       "    .dataframe tbody tr th:only-of-type {\n",
       "        vertical-align: middle;\n",
       "    }\n",
       "\n",
       "    .dataframe tbody tr th {\n",
       "        vertical-align: top;\n",
       "    }\n",
       "\n",
       "    .dataframe thead th {\n",
       "        text-align: right;\n",
       "    }\n",
       "</style>\n",
       "<table border=\"1\" class=\"dataframe\">\n",
       "  <thead>\n",
       "    <tr style=\"text-align: right;\">\n",
       "      <th></th>\n",
       "      <th>daily_max</th>\n",
       "      <th>daily_min</th>\n",
       "      <th>day_avg</th>\n",
       "    </tr>\n",
       "    <tr>\n",
       "      <th>date</th>\n",
       "      <th></th>\n",
       "      <th></th>\n",
       "      <th></th>\n",
       "    </tr>\n",
       "  </thead>\n",
       "  <tbody>\n",
       "    <tr>\n",
       "      <th>2010-01-01</th>\n",
       "      <td>53.3</td>\n",
       "      <td>45.8</td>\n",
       "      <td>49.170833</td>\n",
       "    </tr>\n",
       "    <tr>\n",
       "      <th>2010-01-02</th>\n",
       "      <td>53.4</td>\n",
       "      <td>46.0</td>\n",
       "      <td>49.304167</td>\n",
       "    </tr>\n",
       "  </tbody>\n",
       "</table>\n",
       "</div>"
      ],
      "text/plain": [
       "            daily_max  daily_min    day_avg\n",
       "date                                       \n",
       "2010-01-01       53.3       45.8  49.170833\n",
       "2010-01-02       53.4       46.0  49.304167"
      ]
     },
     "execution_count": 34,
     "metadata": {},
     "output_type": "execute_result"
    }
   ],
   "source": [
    "# creating temperature high-low-avg DF\n",
    "\n",
    "temp_var = pd.DataFrame(d)\n",
    "temp_var.head(2)"
   ]
  },
  {
   "cell_type": "code",
   "execution_count": 35,
   "id": "333bd7e9",
   "metadata": {},
   "outputs": [
    {
     "data": {
      "image/png": "[encoded data removed]",
      "text/plain": [
       "<Figure size 640x480 with 1 Axes>"
      ]
     },
     "metadata": {},
     "output_type": "display_data"
    }
   ],
   "source": [
    "# plotting all three\n",
    "\n",
    "sns.lineplot(data = temp_var)\n",
    "plt.legend(labels=['Daily Max', 'Daily Min', 'Daily Average'])\n",
    "plt.title('High, Low & Average SF Temperatures In 1 Year')\n",
    "plt.show()"
   ]
  },
  {
   "cell_type": "markdown",
   "id": "65f5ff8d",
   "metadata": {},
   "source": [
    "### in-class example"
   ]
  },
  {
   "cell_type": "code",
   "execution_count": 36,
   "id": "ea0ace24",
   "metadata": {},
   "outputs": [
    {
     "data": {
      "text/plain": [
       "<matplotlib.legend.Legend at 0x13b645e80>"
      ]
     },
     "execution_count": 36,
     "metadata": {},
     "output_type": "execute_result"
    },
    {
     "data": {
      "image/png": "[encoded data removed]",
      "text/plain": [
       "<Figure size 640x480 with 1 Axes>"
      ]
     },
     "metadata": {},
     "output_type": "display_data"
    }
   ],
   "source": [
    "df['temp'].resample('d').agg(['min', 'mean', 'max']).plot()\n",
    "\n",
    "plt.legend(labels=['Daily Min', 'Daily Mean', 'Daily Max'])"
   ]
  },
  {
   "cell_type": "markdown",
   "id": "0542880a",
   "metadata": {},
   "source": [
    "# Use the ```data.seattle_weather()``` dataset for the following exercises"
   ]
  },
  {
   "cell_type": "code",
   "execution_count": 37,
   "id": "036e223b",
   "metadata": {},
   "outputs": [
    {
     "data": {
      "text/html": [
       "<div>\n",
       "<style scoped>\n",
       "    .dataframe tbody tr th:only-of-type {\n",
       "        vertical-align: middle;\n",
       "    }\n",
       "\n",
       "    .dataframe tbody tr th {\n",
       "        vertical-align: top;\n",
       "    }\n",
       "\n",
       "    .dataframe thead th {\n",
       "        text-align: right;\n",
       "    }\n",
       "</style>\n",
       "<table border=\"1\" class=\"dataframe\">\n",
       "  <thead>\n",
       "    <tr style=\"text-align: right;\">\n",
       "      <th></th>\n",
       "      <th>date</th>\n",
       "      <th>precipitation</th>\n",
       "      <th>temp_max</th>\n",
       "      <th>temp_min</th>\n",
       "      <th>wind</th>\n",
       "      <th>weather</th>\n",
       "    </tr>\n",
       "  </thead>\n",
       "  <tbody>\n",
       "    <tr>\n",
       "      <th>0</th>\n",
       "      <td>2012-01-01</td>\n",
       "      <td>0.0</td>\n",
       "      <td>12.8</td>\n",
       "      <td>5.0</td>\n",
       "      <td>4.7</td>\n",
       "      <td>drizzle</td>\n",
       "    </tr>\n",
       "    <tr>\n",
       "      <th>1</th>\n",
       "      <td>2012-01-02</td>\n",
       "      <td>10.9</td>\n",
       "      <td>10.6</td>\n",
       "      <td>2.8</td>\n",
       "      <td>4.5</td>\n",
       "      <td>rain</td>\n",
       "    </tr>\n",
       "    <tr>\n",
       "      <th>2</th>\n",
       "      <td>2012-01-03</td>\n",
       "      <td>0.8</td>\n",
       "      <td>11.7</td>\n",
       "      <td>7.2</td>\n",
       "      <td>2.3</td>\n",
       "      <td>rain</td>\n",
       "    </tr>\n",
       "  </tbody>\n",
       "</table>\n",
       "</div>"
      ],
      "text/plain": [
       "        date  precipitation  temp_max  temp_min  wind  weather\n",
       "0 2012-01-01            0.0      12.8       5.0   4.7  drizzle\n",
       "1 2012-01-02           10.9      10.6       2.8   4.5     rain\n",
       "2 2012-01-03            0.8      11.7       7.2   2.3     rain"
      ]
     },
     "execution_count": 37,
     "metadata": {},
     "output_type": "execute_result"
    }
   ],
   "source": [
    "# acquiring data \n",
    "\n",
    "seattle_df = data.seattle_weather()\n",
    "seattle_df.head(3)"
   ]
  },
  {
   "cell_type": "code",
   "execution_count": 38,
   "id": "a67b252f",
   "metadata": {},
   "outputs": [
    {
     "name": "stdout",
     "output_type": "stream",
     "text": [
      "       precipitation     temp_max     temp_min         wind\n",
      "count    1461.000000  1461.000000  1461.000000  1461.000000\n",
      "mean        3.029432    16.439083     8.234771     3.241136\n",
      "std         6.680194     7.349758     5.023004     1.437825\n",
      "min         0.000000    -1.600000    -7.100000     0.400000\n",
      "25%         0.000000    10.600000     4.400000     2.200000\n",
      "50%         0.000000    15.600000     8.300000     3.000000\n",
      "75%         2.800000    22.200000    12.200000     4.000000\n",
      "max        55.900000    35.600000    18.300000     9.500000\n",
      "\n",
      "<class 'pandas.core.frame.DataFrame'>\n",
      "RangeIndex: 1461 entries, 0 to 1460\n",
      "Data columns (total 6 columns):\n",
      " #   Column         Non-Null Count  Dtype         \n",
      "---  ------         --------------  -----         \n",
      " 0   date           1461 non-null   datetime64[ns]\n",
      " 1   precipitation  1461 non-null   float64       \n",
      " 2   temp_max       1461 non-null   float64       \n",
      " 3   temp_min       1461 non-null   float64       \n",
      " 4   wind           1461 non-null   float64       \n",
      " 5   weather        1461 non-null   object        \n",
      "dtypes: datetime64[ns](1), float64(4), object(1)\n",
      "memory usage: 68.6+ KB\n",
      "None\n",
      "\n",
      "(1461, 6)\n"
     ]
    }
   ],
   "source": [
    "# looking at data\n",
    "\n",
    "print(seattle_df.describe())\n",
    "print()\n",
    "print(seattle_df.info())\n",
    "print()\n",
    "print(seattle_df.shape)"
   ]
  },
  {
   "cell_type": "code",
   "execution_count": 39,
   "id": "163c8f49",
   "metadata": {},
   "outputs": [],
   "source": [
    "# setting date to index\n",
    "\n",
    "seattle_df = seattle_df.set_index('date')"
   ]
  },
  {
   "cell_type": "code",
   "execution_count": 40,
   "id": "c2145378",
   "metadata": {},
   "outputs": [
    {
     "data": {
      "text/html": [
       "<div>\n",
       "<style scoped>\n",
       "    .dataframe tbody tr th:only-of-type {\n",
       "        vertical-align: middle;\n",
       "    }\n",
       "\n",
       "    .dataframe tbody tr th {\n",
       "        vertical-align: top;\n",
       "    }\n",
       "\n",
       "    .dataframe thead th {\n",
       "        text-align: right;\n",
       "    }\n",
       "</style>\n",
       "<table border=\"1\" class=\"dataframe\">\n",
       "  <thead>\n",
       "    <tr style=\"text-align: right;\">\n",
       "      <th></th>\n",
       "      <th>precipitation</th>\n",
       "      <th>temp_max</th>\n",
       "      <th>temp_min</th>\n",
       "      <th>wind</th>\n",
       "      <th>weather</th>\n",
       "    </tr>\n",
       "    <tr>\n",
       "      <th>date</th>\n",
       "      <th></th>\n",
       "      <th></th>\n",
       "      <th></th>\n",
       "      <th></th>\n",
       "      <th></th>\n",
       "    </tr>\n",
       "  </thead>\n",
       "  <tbody>\n",
       "    <tr>\n",
       "      <th>2013-10-24</th>\n",
       "      <td>0.0</td>\n",
       "      <td>10.0</td>\n",
       "      <td>6.1</td>\n",
       "      <td>0.6</td>\n",
       "      <td>sun</td>\n",
       "    </tr>\n",
       "    <tr>\n",
       "      <th>2014-09-08</th>\n",
       "      <td>0.0</td>\n",
       "      <td>21.1</td>\n",
       "      <td>13.3</td>\n",
       "      <td>2.8</td>\n",
       "      <td>sun</td>\n",
       "    </tr>\n",
       "    <tr>\n",
       "      <th>2012-07-31</th>\n",
       "      <td>0.0</td>\n",
       "      <td>22.8</td>\n",
       "      <td>13.9</td>\n",
       "      <td>2.8</td>\n",
       "      <td>sun</td>\n",
       "    </tr>\n",
       "  </tbody>\n",
       "</table>\n",
       "</div>"
      ],
      "text/plain": [
       "            precipitation  temp_max  temp_min  wind weather\n",
       "date                                                       \n",
       "2013-10-24            0.0      10.0       6.1   0.6     sun\n",
       "2014-09-08            0.0      21.1      13.3   2.8     sun\n",
       "2012-07-31            0.0      22.8      13.9   2.8     sun"
      ]
     },
     "execution_count": 40,
     "metadata": {},
     "output_type": "execute_result"
    }
   ],
   "source": [
    "seattle_df.sample(3)"
   ]
  },
  {
   "cell_type": "markdown",
   "id": "466c2d36",
   "metadata": {},
   "source": [
    "### 1. Which year and month combination has the highest amount of precipitation?"
   ]
  },
  {
   "cell_type": "code",
   "execution_count": 41,
   "id": "22ad25a3",
   "metadata": {},
   "outputs": [
    {
     "data": {
      "text/plain": [
       "date\n",
       "2015-03-31    55.9\n",
       "Freq: -1M, Name: precipitation, dtype: float64"
      ]
     },
     "execution_count": 41,
     "metadata": {},
     "output_type": "execute_result"
    }
   ],
   "source": [
    "# one way to do it\n",
    "\n",
    "seattle_df['precipitation'].resample('m').max().sort_index(ascending = False).nlargest(1)"
   ]
  },
  {
   "cell_type": "code",
   "execution_count": 42,
   "id": "babe2d61",
   "metadata": {},
   "outputs": [
    {
     "data": {
      "text/plain": [
       "Timestamp('2015-03-15 00:00:00')"
      ]
     },
     "execution_count": 42,
     "metadata": {},
     "output_type": "execute_result"
    }
   ],
   "source": [
    "# another way to do it\n",
    "\n",
    "seattle_df['precipitation'].idxmax()"
   ]
  },
  {
   "cell_type": "code",
   "execution_count": 43,
   "id": "dadd4f4e",
   "metadata": {},
   "outputs": [
    {
     "data": {
      "text/plain": [
       "date\n",
       "2015-12-31    284.5\n",
       "Freq: -1M, Name: precipitation, dtype: float64"
      ]
     },
     "execution_count": 43,
     "metadata": {},
     "output_type": "execute_result"
    }
   ],
   "source": [
    "# in-class for highest month rain (as opposed to the day with the most rain, as seen above)\n",
    "\n",
    "seattle_df['precipitation'].resample('m').sum().sort_index(ascending = False).nlargest(1)"
   ]
  },
  {
   "cell_type": "markdown",
   "id": "557d74cd",
   "metadata": {},
   "source": [
    "### 2. Visualize the amount of monthly precipitation over time."
   ]
  },
  {
   "cell_type": "code",
   "execution_count": 44,
   "id": "0423d7ee",
   "metadata": {
    "scrolled": true
   },
   "outputs": [
    {
     "data": {
      "text/plain": [
       "<AxesSubplot:xlabel='date'>"
      ]
     },
     "execution_count": 44,
     "metadata": {},
     "output_type": "execute_result"
    },
    {
     "data": {
      "image/png": "[encoded data removed]",
      "text/plain": [
       "<Figure size 640x480 with 1 Axes>"
      ]
     },
     "metadata": {},
     "output_type": "display_data"
    }
   ],
   "source": [
    "# plotting monthly precip\n",
    "\n",
    "seattle_df['precipitation'].plot()"
   ]
  },
  {
   "cell_type": "code",
   "execution_count": 45,
   "id": "c9fe9a18",
   "metadata": {},
   "outputs": [
    {
     "data": {
      "text/plain": [
       "<AxesSubplot:xlabel='date'>"
      ]
     },
     "execution_count": 45,
     "metadata": {},
     "output_type": "execute_result"
    },
    {
     "data": {
      "image/png": "[encoded data removed]",
      "text/plain": [
       "<Figure size 640x480 with 1 Axes>"
      ]
     },
     "metadata": {},
     "output_type": "display_data"
    }
   ],
   "source": [
    "seattle_df['precipitation'].resample('m').mean().plot()"
   ]
  },
  {
   "cell_type": "markdown",
   "id": "857a4451",
   "metadata": {},
   "source": [
    "### 3. Visualize the amount of wind over time. Choose a time interval you think is appropriate."
   ]
  },
  {
   "cell_type": "code",
   "execution_count": 46,
   "id": "13c37c07",
   "metadata": {},
   "outputs": [
    {
     "data": {
      "text/plain": [
       "<AxesSubplot:xlabel='date'>"
      ]
     },
     "execution_count": 46,
     "metadata": {},
     "output_type": "execute_result"
    },
    {
     "data": {
      "image/png": "[encoded data removed]",
      "text/plain": [
       "<Figure size 640x480 with 1 Axes>"
      ]
     },
     "metadata": {},
     "output_type": "display_data"
    }
   ],
   "source": [
    "# plotting max weekly wind\n",
    "\n",
    "seattle_df['wind'].resample('w').max().plot(c = 'y')\n"
   ]
  },
  {
   "cell_type": "code",
   "execution_count": 47,
   "id": "7a5c9655",
   "metadata": {},
   "outputs": [
    {
     "data": {
      "text/plain": [
       "<AxesSubplot:xlabel='date'>"
      ]
     },
     "execution_count": 47,
     "metadata": {},
     "output_type": "execute_result"
    },
    {
     "data": {
      "image/png": "[encoded data removed]",
      "text/plain": [
       "<Figure size 640x480 with 1 Axes>"
      ]
     },
     "metadata": {},
     "output_type": "display_data"
    }
   ],
   "source": [
    "# plotting min monthly wind\n",
    "\n",
    "seattle_df['wind'].resample('m').min().plot(c = 'g')"
   ]
  },
  {
   "cell_type": "markdown",
   "id": "d14b05ea",
   "metadata": {},
   "source": [
    "### 4. Which year-month combination is the windiest?"
   ]
  },
  {
   "cell_type": "code",
   "execution_count": 48,
   "id": "5393046b",
   "metadata": {},
   "outputs": [
    {
     "data": {
      "text/plain": [
       "date\n",
       "2012-12-31    9.5\n",
       "2013-12-31    8.8\n",
       "Freq: 12M, Name: wind, dtype: float64"
      ]
     },
     "execution_count": 48,
     "metadata": {},
     "output_type": "execute_result"
    }
   ],
   "source": [
    "seattle_df['wind'].resample('m').max().nlargest(2)"
   ]
  },
  {
   "cell_type": "code",
   "execution_count": 49,
   "id": "c833837e",
   "metadata": {},
   "outputs": [
    {
     "data": {
      "text/plain": [
       "date\n",
       "2012-12-17    9.5\n",
       "2014-01-11    8.8\n",
       "2013-12-01    8.8\n",
       "Name: wind, dtype: float64"
      ]
     },
     "execution_count": 49,
     "metadata": {},
     "output_type": "execute_result"
    }
   ],
   "source": [
    "# in-lcass\n",
    "\n",
    "seattle_df['wind'].sort_values(ascending = False).head(3)"
   ]
  },
  {
   "cell_type": "markdown",
   "id": "66565792",
   "metadata": {},
   "source": [
    "### 5. What's the sunniest year? (Hint: which day has the highest number of days where weather == sun?)"
   ]
  },
  {
   "cell_type": "code",
   "execution_count": 50,
   "id": "a4a72af4",
   "metadata": {},
   "outputs": [
    {
     "data": {
      "text/html": [
       "<div>\n",
       "<style scoped>\n",
       "    .dataframe tbody tr th:only-of-type {\n",
       "        vertical-align: middle;\n",
       "    }\n",
       "\n",
       "    .dataframe tbody tr th {\n",
       "        vertical-align: top;\n",
       "    }\n",
       "\n",
       "    .dataframe thead th {\n",
       "        text-align: right;\n",
       "    }\n",
       "</style>\n",
       "<table border=\"1\" class=\"dataframe\">\n",
       "  <thead>\n",
       "    <tr style=\"text-align: right;\">\n",
       "      <th></th>\n",
       "      <th>precipitation</th>\n",
       "      <th>temp_max</th>\n",
       "      <th>temp_min</th>\n",
       "      <th>wind</th>\n",
       "      <th>weather</th>\n",
       "    </tr>\n",
       "    <tr>\n",
       "      <th>date</th>\n",
       "      <th></th>\n",
       "      <th></th>\n",
       "      <th></th>\n",
       "      <th></th>\n",
       "      <th></th>\n",
       "    </tr>\n",
       "  </thead>\n",
       "  <tbody>\n",
       "    <tr>\n",
       "      <th>2012-12-31</th>\n",
       "      <td>0.0</td>\n",
       "      <td>34.4</td>\n",
       "      <td>18.3</td>\n",
       "      <td>7.3</td>\n",
       "      <td>sun</td>\n",
       "    </tr>\n",
       "    <tr>\n",
       "      <th>2013-12-31</th>\n",
       "      <td>27.7</td>\n",
       "      <td>33.9</td>\n",
       "      <td>18.3</td>\n",
       "      <td>7.1</td>\n",
       "      <td>sun</td>\n",
       "    </tr>\n",
       "    <tr>\n",
       "      <th>2014-12-31</th>\n",
       "      <td>19.3</td>\n",
       "      <td>34.4</td>\n",
       "      <td>17.8</td>\n",
       "      <td>7.7</td>\n",
       "      <td>sun</td>\n",
       "    </tr>\n",
       "    <tr>\n",
       "      <th>2015-12-31</th>\n",
       "      <td>4.1</td>\n",
       "      <td>35.0</td>\n",
       "      <td>18.3</td>\n",
       "      <td>6.5</td>\n",
       "      <td>sun</td>\n",
       "    </tr>\n",
       "  </tbody>\n",
       "</table>\n",
       "</div>"
      ],
      "text/plain": [
       "            precipitation  temp_max  temp_min  wind weather\n",
       "date                                                       \n",
       "2012-12-31            0.0      34.4      18.3   7.3     sun\n",
       "2013-12-31           27.7      33.9      18.3   7.1     sun\n",
       "2014-12-31           19.3      34.4      17.8   7.7     sun\n",
       "2015-12-31            4.1      35.0      18.3   6.5     sun"
      ]
     },
     "execution_count": 50,
     "metadata": {},
     "output_type": "execute_result"
    }
   ],
   "source": [
    "# finding the sunny days\n",
    "\n",
    "seattle_df[seattle_df['weather'] == 'sun'].resample('y').max()"
   ]
  },
  {
   "cell_type": "code",
   "execution_count": 51,
   "id": "3ddc079b",
   "metadata": {},
   "outputs": [
    {
     "data": {
      "text/plain": [
       "False    747\n",
       "True     714\n",
       "Name: weather, dtype: int64"
      ]
     },
     "execution_count": 51,
     "metadata": {},
     "output_type": "execute_result"
    }
   ],
   "source": [
    "# finding the sunny days another way (but, this is a month not a year)\n",
    "\n",
    "(seattle_df['weather'] == 'sun').value_counts() "
   ]
  },
  {
   "cell_type": "markdown",
   "id": "4d6a5a38",
   "metadata": {},
   "source": [
    "### 6. In which month does it rain the most?"
   ]
  },
  {
   "cell_type": "code",
   "execution_count": 52,
   "id": "70286e5b",
   "metadata": {},
   "outputs": [
    {
     "data": {
      "text/plain": [
       "date\n",
       "2015-03-31    55.9\n",
       "Freq: M, Name: precipitation, dtype: float64"
      ]
     },
     "execution_count": 52,
     "metadata": {},
     "output_type": "execute_result"
    }
   ],
   "source": [
    "# resampling to month and most precipitation\n",
    "\n",
    "seattle_df['precipitation'].resample('m').max().nlargest(1)"
   ]
  },
  {
   "cell_type": "markdown",
   "id": "36adb4c2",
   "metadata": {},
   "source": [
    "### in-class"
   ]
  },
  {
   "cell_type": "code",
   "execution_count": 53,
   "id": "3da9d76e",
   "metadata": {},
   "outputs": [
    {
     "data": {
      "text/plain": [
       "array(['drizzle', 'rain', 'sun', 'snow', 'fog'], dtype=object)"
      ]
     },
     "execution_count": 53,
     "metadata": {},
     "output_type": "execute_result"
    }
   ],
   "source": [
    "# looks at type of weather\n",
    "\n",
    "seattle_df['weather'].unique()"
   ]
  },
  {
   "cell_type": "code",
   "execution_count": 54,
   "id": "9cc516f4",
   "metadata": {},
   "outputs": [
    {
     "data": {
      "text/plain": [
       "sun        714\n",
       "fog        411\n",
       "rain       259\n",
       "drizzle     54\n",
       "snow        23\n",
       "Name: weather, dtype: int64"
      ]
     },
     "execution_count": 54,
     "metadata": {},
     "output_type": "execute_result"
    }
   ],
   "source": [
    "# how much of each type of weather\n",
    "\n",
    "seattle_df['weather'].value_counts()"
   ]
  },
  {
   "cell_type": "code",
   "execution_count": 55,
   "id": "3e70487d",
   "metadata": {},
   "outputs": [],
   "source": [
    "# boolean col where weather == sun\n",
    "\n",
    "seattle_df['sunny_days'] = seattle_df['weather'] == 'sun'"
   ]
  },
  {
   "cell_type": "code",
   "execution_count": 56,
   "id": "e1291419",
   "metadata": {},
   "outputs": [
    {
     "data": {
      "text/plain": [
       "date\n",
       "2014-12-31    211\n",
       "2013-12-31    205\n",
       "2015-12-31    180\n",
       "2012-12-31    118\n",
       "Name: sunny_days, dtype: int64"
      ]
     },
     "execution_count": 56,
     "metadata": {},
     "output_type": "execute_result"
    }
   ],
   "source": [
    "seattle_df['sunny_days'].resample('y').sum().sort_values(ascending = False)"
   ]
  },
  {
   "cell_type": "markdown",
   "id": "b16fb6ac",
   "metadata": {},
   "source": [
    "### 7. Which month has the most number of days with a non-zero amount of precipitation?"
   ]
  },
  {
   "cell_type": "code",
   "execution_count": 57,
   "id": "d992af28",
   "metadata": {},
   "outputs": [],
   "source": [
    "# (seattle_df['precipitation'] == 0.0).resample('m').max().nlargest()\n",
    "# precip = ['rain', 'snow']"
   ]
  },
  {
   "cell_type": "code",
   "execution_count": 58,
   "id": "bca5ab25",
   "metadata": {},
   "outputs": [],
   "source": [
    "# creating column if it rained T / F\n",
    "# it_rained = seattle_df['weather'] == 'rain'"
   ]
  },
  {
   "cell_type": "code",
   "execution_count": 59,
   "id": "476dc4af",
   "metadata": {},
   "outputs": [],
   "source": [
    "# setting column 'it_rained'\n",
    "\n",
    "# seattle_df['it_rained'] = it_rained"
   ]
  },
  {
   "cell_type": "code",
   "execution_count": 60,
   "id": "0f5d296d",
   "metadata": {},
   "outputs": [],
   "source": [
    "# error message\n",
    "\n",
    "# (seattle_df[seattle_df['it_rained'] == True]).idxmax()"
   ]
  },
  {
   "cell_type": "code",
   "execution_count": 62,
   "id": "447e0fae",
   "metadata": {},
   "outputs": [],
   "source": [
    "# getting the months with days of rain max\n",
    "\n",
    "# it_rained.resample('m').sum().idxmax()"
   ]
  },
  {
   "cell_type": "markdown",
   "id": "7ce6327f",
   "metadata": {},
   "source": [
    "### in-class"
   ]
  },
  {
   "cell_type": "code",
   "execution_count": 63,
   "id": "80aed495",
   "metadata": {},
   "outputs": [],
   "source": [
    "seattle_df['rainy_days'] = seattle_df['weather'] == 'rain'"
   ]
  },
  {
   "cell_type": "code",
   "execution_count": 64,
   "id": "afc33714",
   "metadata": {},
   "outputs": [
    {
     "data": {
      "text/html": [
       "<div>\n",
       "<style scoped>\n",
       "    .dataframe tbody tr th:only-of-type {\n",
       "        vertical-align: middle;\n",
       "    }\n",
       "\n",
       "    .dataframe tbody tr th {\n",
       "        vertical-align: top;\n",
       "    }\n",
       "\n",
       "    .dataframe thead th {\n",
       "        text-align: right;\n",
       "    }\n",
       "</style>\n",
       "<table border=\"1\" class=\"dataframe\">\n",
       "  <thead>\n",
       "    <tr style=\"text-align: right;\">\n",
       "      <th></th>\n",
       "      <th>precipitation</th>\n",
       "      <th>temp_max</th>\n",
       "      <th>temp_min</th>\n",
       "      <th>wind</th>\n",
       "      <th>weather</th>\n",
       "      <th>sunny_days</th>\n",
       "      <th>rainy_days</th>\n",
       "    </tr>\n",
       "    <tr>\n",
       "      <th>date</th>\n",
       "      <th></th>\n",
       "      <th></th>\n",
       "      <th></th>\n",
       "      <th></th>\n",
       "      <th></th>\n",
       "      <th></th>\n",
       "      <th></th>\n",
       "    </tr>\n",
       "  </thead>\n",
       "  <tbody>\n",
       "    <tr>\n",
       "      <th>2012-01-01</th>\n",
       "      <td>0.0</td>\n",
       "      <td>12.8</td>\n",
       "      <td>5.0</td>\n",
       "      <td>4.7</td>\n",
       "      <td>drizzle</td>\n",
       "      <td>False</td>\n",
       "      <td>False</td>\n",
       "    </tr>\n",
       "    <tr>\n",
       "      <th>2012-01-02</th>\n",
       "      <td>10.9</td>\n",
       "      <td>10.6</td>\n",
       "      <td>2.8</td>\n",
       "      <td>4.5</td>\n",
       "      <td>rain</td>\n",
       "      <td>False</td>\n",
       "      <td>True</td>\n",
       "    </tr>\n",
       "    <tr>\n",
       "      <th>2012-01-03</th>\n",
       "      <td>0.8</td>\n",
       "      <td>11.7</td>\n",
       "      <td>7.2</td>\n",
       "      <td>2.3</td>\n",
       "      <td>rain</td>\n",
       "      <td>False</td>\n",
       "      <td>True</td>\n",
       "    </tr>\n",
       "    <tr>\n",
       "      <th>2012-01-04</th>\n",
       "      <td>20.3</td>\n",
       "      <td>12.2</td>\n",
       "      <td>5.6</td>\n",
       "      <td>4.7</td>\n",
       "      <td>rain</td>\n",
       "      <td>False</td>\n",
       "      <td>True</td>\n",
       "    </tr>\n",
       "    <tr>\n",
       "      <th>2012-01-05</th>\n",
       "      <td>1.3</td>\n",
       "      <td>8.9</td>\n",
       "      <td>2.8</td>\n",
       "      <td>6.1</td>\n",
       "      <td>rain</td>\n",
       "      <td>False</td>\n",
       "      <td>True</td>\n",
       "    </tr>\n",
       "  </tbody>\n",
       "</table>\n",
       "</div>"
      ],
      "text/plain": [
       "            precipitation  temp_max  temp_min  wind  weather  sunny_days  \\\n",
       "date                                                                       \n",
       "2012-01-01            0.0      12.8       5.0   4.7  drizzle       False   \n",
       "2012-01-02           10.9      10.6       2.8   4.5     rain       False   \n",
       "2012-01-03            0.8      11.7       7.2   2.3     rain       False   \n",
       "2012-01-04           20.3      12.2       5.6   4.7     rain       False   \n",
       "2012-01-05            1.3       8.9       2.8   6.1     rain       False   \n",
       "\n",
       "            rainy_days  \n",
       "date                    \n",
       "2012-01-01       False  \n",
       "2012-01-02        True  \n",
       "2012-01-03        True  \n",
       "2012-01-04        True  \n",
       "2012-01-05        True  "
      ]
     },
     "execution_count": 64,
     "metadata": {},
     "output_type": "execute_result"
    }
   ],
   "source": [
    "seattle_df.head()"
   ]
  },
  {
   "cell_type": "code",
   "execution_count": 65,
   "id": "f5859ceb",
   "metadata": {},
   "outputs": [],
   "source": [
    "seattle_df['month'] = seattle_df.index.month"
   ]
  },
  {
   "cell_type": "code",
   "execution_count": 66,
   "id": "df527ed3",
   "metadata": {},
   "outputs": [
    {
     "data": {
      "text/plain": [
       "date\n",
       "2012-11-30    25\n",
       "2012-12-31    23\n",
       "2013-02-28    23\n",
       "Name: rainy_days, dtype: int64"
      ]
     },
     "execution_count": 66,
     "metadata": {},
     "output_type": "execute_result"
    }
   ],
   "source": [
    "seattle_df['rainy_days'].resample('m').sum().sort_values(ascending = False).head(3)"
   ]
  },
  {
   "cell_type": "code",
   "execution_count": 67,
   "id": "4be8e265",
   "metadata": {},
   "outputs": [
    {
     "data": {
      "text/plain": [
       "month\n",
       "2    40\n",
       "3    37\n",
       "1    35\n",
       "Name: rainy_days, dtype: int64"
      ]
     },
     "execution_count": 67,
     "metadata": {},
     "output_type": "execute_result"
    }
   ],
   "source": [
    "# which month has the most rain ?\n",
    "\n",
    "seattle_df.groupby('month').rainy_days.sum().sort_values(ascending = False).head(3)\n",
    "\n",
    "# February has the most total rainy days"
   ]
  },
  {
   "cell_type": "markdown",
   "id": "cf3799a3",
   "metadata": {},
   "source": [
    "## 7. in-class"
   ]
  },
  {
   "cell_type": "code",
   "execution_count": 68,
   "id": "aecd6608",
   "metadata": {},
   "outputs": [],
   "source": [
    "# create col where it rained\n",
    "seattle_df['precip_amt'] = seattle_df['precipitation'] > 0"
   ]
  },
  {
   "cell_type": "code",
   "execution_count": 69,
   "id": "4bcd17e7",
   "metadata": {},
   "outputs": [
    {
     "data": {
      "text/html": [
       "<div>\n",
       "<style scoped>\n",
       "    .dataframe tbody tr th:only-of-type {\n",
       "        vertical-align: middle;\n",
       "    }\n",
       "\n",
       "    .dataframe tbody tr th {\n",
       "        vertical-align: top;\n",
       "    }\n",
       "\n",
       "    .dataframe thead th {\n",
       "        text-align: right;\n",
       "    }\n",
       "</style>\n",
       "<table border=\"1\" class=\"dataframe\">\n",
       "  <thead>\n",
       "    <tr style=\"text-align: right;\">\n",
       "      <th></th>\n",
       "      <th>precipitation</th>\n",
       "      <th>temp_max</th>\n",
       "      <th>temp_min</th>\n",
       "      <th>wind</th>\n",
       "      <th>weather</th>\n",
       "      <th>sunny_days</th>\n",
       "      <th>rainy_days</th>\n",
       "      <th>month</th>\n",
       "      <th>precip_amt</th>\n",
       "    </tr>\n",
       "    <tr>\n",
       "      <th>date</th>\n",
       "      <th></th>\n",
       "      <th></th>\n",
       "      <th></th>\n",
       "      <th></th>\n",
       "      <th></th>\n",
       "      <th></th>\n",
       "      <th></th>\n",
       "      <th></th>\n",
       "      <th></th>\n",
       "    </tr>\n",
       "  </thead>\n",
       "  <tbody>\n",
       "    <tr>\n",
       "      <th>2012-01-01</th>\n",
       "      <td>0.0</td>\n",
       "      <td>12.8</td>\n",
       "      <td>5.0</td>\n",
       "      <td>4.7</td>\n",
       "      <td>drizzle</td>\n",
       "      <td>False</td>\n",
       "      <td>False</td>\n",
       "      <td>1</td>\n",
       "      <td>False</td>\n",
       "    </tr>\n",
       "    <tr>\n",
       "      <th>2012-01-02</th>\n",
       "      <td>10.9</td>\n",
       "      <td>10.6</td>\n",
       "      <td>2.8</td>\n",
       "      <td>4.5</td>\n",
       "      <td>rain</td>\n",
       "      <td>False</td>\n",
       "      <td>True</td>\n",
       "      <td>1</td>\n",
       "      <td>True</td>\n",
       "    </tr>\n",
       "    <tr>\n",
       "      <th>2012-01-03</th>\n",
       "      <td>0.8</td>\n",
       "      <td>11.7</td>\n",
       "      <td>7.2</td>\n",
       "      <td>2.3</td>\n",
       "      <td>rain</td>\n",
       "      <td>False</td>\n",
       "      <td>True</td>\n",
       "      <td>1</td>\n",
       "      <td>True</td>\n",
       "    </tr>\n",
       "    <tr>\n",
       "      <th>2012-01-04</th>\n",
       "      <td>20.3</td>\n",
       "      <td>12.2</td>\n",
       "      <td>5.6</td>\n",
       "      <td>4.7</td>\n",
       "      <td>rain</td>\n",
       "      <td>False</td>\n",
       "      <td>True</td>\n",
       "      <td>1</td>\n",
       "      <td>True</td>\n",
       "    </tr>\n",
       "    <tr>\n",
       "      <th>2012-01-05</th>\n",
       "      <td>1.3</td>\n",
       "      <td>8.9</td>\n",
       "      <td>2.8</td>\n",
       "      <td>6.1</td>\n",
       "      <td>rain</td>\n",
       "      <td>False</td>\n",
       "      <td>True</td>\n",
       "      <td>1</td>\n",
       "      <td>True</td>\n",
       "    </tr>\n",
       "    <tr>\n",
       "      <th>...</th>\n",
       "      <td>...</td>\n",
       "      <td>...</td>\n",
       "      <td>...</td>\n",
       "      <td>...</td>\n",
       "      <td>...</td>\n",
       "      <td>...</td>\n",
       "      <td>...</td>\n",
       "      <td>...</td>\n",
       "      <td>...</td>\n",
       "    </tr>\n",
       "    <tr>\n",
       "      <th>2015-12-27</th>\n",
       "      <td>8.6</td>\n",
       "      <td>4.4</td>\n",
       "      <td>1.7</td>\n",
       "      <td>2.9</td>\n",
       "      <td>fog</td>\n",
       "      <td>False</td>\n",
       "      <td>False</td>\n",
       "      <td>12</td>\n",
       "      <td>True</td>\n",
       "    </tr>\n",
       "    <tr>\n",
       "      <th>2015-12-28</th>\n",
       "      <td>1.5</td>\n",
       "      <td>5.0</td>\n",
       "      <td>1.7</td>\n",
       "      <td>1.3</td>\n",
       "      <td>fog</td>\n",
       "      <td>False</td>\n",
       "      <td>False</td>\n",
       "      <td>12</td>\n",
       "      <td>True</td>\n",
       "    </tr>\n",
       "    <tr>\n",
       "      <th>2015-12-29</th>\n",
       "      <td>0.0</td>\n",
       "      <td>7.2</td>\n",
       "      <td>0.6</td>\n",
       "      <td>2.6</td>\n",
       "      <td>fog</td>\n",
       "      <td>False</td>\n",
       "      <td>False</td>\n",
       "      <td>12</td>\n",
       "      <td>False</td>\n",
       "    </tr>\n",
       "    <tr>\n",
       "      <th>2015-12-30</th>\n",
       "      <td>0.0</td>\n",
       "      <td>5.6</td>\n",
       "      <td>-1.0</td>\n",
       "      <td>3.4</td>\n",
       "      <td>sun</td>\n",
       "      <td>True</td>\n",
       "      <td>False</td>\n",
       "      <td>12</td>\n",
       "      <td>False</td>\n",
       "    </tr>\n",
       "    <tr>\n",
       "      <th>2015-12-31</th>\n",
       "      <td>0.0</td>\n",
       "      <td>5.6</td>\n",
       "      <td>-2.1</td>\n",
       "      <td>3.5</td>\n",
       "      <td>sun</td>\n",
       "      <td>True</td>\n",
       "      <td>False</td>\n",
       "      <td>12</td>\n",
       "      <td>False</td>\n",
       "    </tr>\n",
       "  </tbody>\n",
       "</table>\n",
       "<p>1461 rows × 9 columns</p>\n",
       "</div>"
      ],
      "text/plain": [
       "            precipitation  temp_max  temp_min  wind  weather  sunny_days  \\\n",
       "date                                                                       \n",
       "2012-01-01            0.0      12.8       5.0   4.7  drizzle       False   \n",
       "2012-01-02           10.9      10.6       2.8   4.5     rain       False   \n",
       "2012-01-03            0.8      11.7       7.2   2.3     rain       False   \n",
       "2012-01-04           20.3      12.2       5.6   4.7     rain       False   \n",
       "2012-01-05            1.3       8.9       2.8   6.1     rain       False   \n",
       "...                   ...       ...       ...   ...      ...         ...   \n",
       "2015-12-27            8.6       4.4       1.7   2.9      fog       False   \n",
       "2015-12-28            1.5       5.0       1.7   1.3      fog       False   \n",
       "2015-12-29            0.0       7.2       0.6   2.6      fog       False   \n",
       "2015-12-30            0.0       5.6      -1.0   3.4      sun        True   \n",
       "2015-12-31            0.0       5.6      -2.1   3.5      sun        True   \n",
       "\n",
       "            rainy_days  month  precip_amt  \n",
       "date                                       \n",
       "2012-01-01       False      1       False  \n",
       "2012-01-02        True      1        True  \n",
       "2012-01-03        True      1        True  \n",
       "2012-01-04        True      1        True  \n",
       "2012-01-05        True      1        True  \n",
       "...                ...    ...         ...  \n",
       "2015-12-27       False     12        True  \n",
       "2015-12-28       False     12        True  \n",
       "2015-12-29       False     12       False  \n",
       "2015-12-30       False     12       False  \n",
       "2015-12-31       False     12       False  \n",
       "\n",
       "[1461 rows x 9 columns]"
      ]
     },
     "execution_count": 69,
     "metadata": {},
     "output_type": "execute_result"
    }
   ],
   "source": [
    "seattle_df"
   ]
  },
  {
   "cell_type": "code",
   "execution_count": 70,
   "id": "54d83ade",
   "metadata": {},
   "outputs": [
    {
     "data": {
      "text/plain": [
       "month\n",
       "12    0.653226\n",
       "2     0.646018\n",
       "11    0.591667\n",
       "Name: precip_amt, dtype: float64"
      ]
     },
     "execution_count": 70,
     "metadata": {},
     "output_type": "execute_result"
    }
   ],
   "source": [
    "# .groupby to group month with most average precipitation\n",
    "\n",
    "seattle_df.groupby('month').precip_amt.mean().sort_values(ascending = False).head(3)"
   ]
  },
  {
   "cell_type": "markdown",
   "id": "cd86b72a",
   "metadata": {},
   "source": [
    "# Use the ```data.flights_20k()``` dataset for the following exercises:\n",
    "\n"
   ]
  },
  {
   "cell_type": "code",
   "execution_count": 71,
   "id": "0bdfe285",
   "metadata": {},
   "outputs": [],
   "source": [
    "# assign variable\n",
    "\n",
    "fly = data.flights_20k()"
   ]
  },
  {
   "cell_type": "code",
   "execution_count": 72,
   "id": "ad342de2",
   "metadata": {},
   "outputs": [
    {
     "data": {
      "text/html": [
       "<div>\n",
       "<style scoped>\n",
       "    .dataframe tbody tr th:only-of-type {\n",
       "        vertical-align: middle;\n",
       "    }\n",
       "\n",
       "    .dataframe tbody tr th {\n",
       "        vertical-align: top;\n",
       "    }\n",
       "\n",
       "    .dataframe thead th {\n",
       "        text-align: right;\n",
       "    }\n",
       "</style>\n",
       "<table border=\"1\" class=\"dataframe\">\n",
       "  <thead>\n",
       "    <tr style=\"text-align: right;\">\n",
       "      <th></th>\n",
       "      <th>date</th>\n",
       "      <th>delay</th>\n",
       "      <th>distance</th>\n",
       "      <th>origin</th>\n",
       "      <th>destination</th>\n",
       "    </tr>\n",
       "  </thead>\n",
       "  <tbody>\n",
       "    <tr>\n",
       "      <th>0</th>\n",
       "      <td>2001-01-13 14:56:00</td>\n",
       "      <td>32</td>\n",
       "      <td>417</td>\n",
       "      <td>SAN</td>\n",
       "      <td>SJC</td>\n",
       "    </tr>\n",
       "    <tr>\n",
       "      <th>1</th>\n",
       "      <td>2001-01-31 16:40:00</td>\n",
       "      <td>-5</td>\n",
       "      <td>1093</td>\n",
       "      <td>FLL</td>\n",
       "      <td>ISP</td>\n",
       "    </tr>\n",
       "    <tr>\n",
       "      <th>2</th>\n",
       "      <td>2001-02-11 18:39:00</td>\n",
       "      <td>3</td>\n",
       "      <td>293</td>\n",
       "      <td>LBB</td>\n",
       "      <td>DAL</td>\n",
       "    </tr>\n",
       "  </tbody>\n",
       "</table>\n",
       "</div>"
      ],
      "text/plain": [
       "                 date  delay  distance origin destination\n",
       "0 2001-01-13 14:56:00     32       417    SAN         SJC\n",
       "1 2001-01-31 16:40:00     -5      1093    FLL         ISP\n",
       "2 2001-02-11 18:39:00      3       293    LBB         DAL"
      ]
     },
     "execution_count": 72,
     "metadata": {},
     "output_type": "execute_result"
    }
   ],
   "source": [
    "# look at df\n",
    "\n",
    "fly.head(3)"
   ]
  },
  {
   "cell_type": "code",
   "execution_count": 73,
   "id": "9cb349f4",
   "metadata": {},
   "outputs": [],
   "source": [
    "# resetting index to date_time\n",
    "\n",
    "fly = fly.set_index('date').sort_index(ascending = True)"
   ]
  },
  {
   "cell_type": "code",
   "execution_count": 74,
   "id": "bc73a1d4",
   "metadata": {},
   "outputs": [
    {
     "name": "stdout",
     "output_type": "stream",
     "text": [
      "<class 'pandas.core.frame.DataFrame'>\n",
      "DatetimeIndex: 20000 entries, 2001-01-01 00:01:00 to 2001-03-31 21:30:00\n",
      "Data columns (total 4 columns):\n",
      " #   Column       Non-Null Count  Dtype \n",
      "---  ------       --------------  ----- \n",
      " 0   delay        20000 non-null  int64 \n",
      " 1   distance     20000 non-null  int64 \n",
      " 2   origin       20000 non-null  object\n",
      " 3   destination  20000 non-null  object\n",
      "dtypes: int64(2), object(2)\n",
      "memory usage: 781.2+ KB\n"
     ]
    }
   ],
   "source": [
    "# df info\n",
    "\n",
    "fly.info()"
   ]
  },
  {
   "cell_type": "markdown",
   "id": "3befccf4",
   "metadata": {},
   "source": [
    "### 1. Convert any negative delays to 0."
   ]
  },
  {
   "cell_type": "code",
   "execution_count": 75,
   "id": "e6e47cb6",
   "metadata": {},
   "outputs": [],
   "source": [
    "# fly[fly['delay'] < 0] = 0\n",
    "\n",
    "fly.delay = np.where(fly.delay < 0, 0, fly.delay)"
   ]
  },
  {
   "cell_type": "code",
   "execution_count": 78,
   "id": "28c41d4f",
   "metadata": {},
   "outputs": [
    {
     "data": {
      "text/html": [
       "<div>\n",
       "<style scoped>\n",
       "    .dataframe tbody tr th:only-of-type {\n",
       "        vertical-align: middle;\n",
       "    }\n",
       "\n",
       "    .dataframe tbody tr th {\n",
       "        vertical-align: top;\n",
       "    }\n",
       "\n",
       "    .dataframe thead th {\n",
       "        text-align: right;\n",
       "    }\n",
       "</style>\n",
       "<table border=\"1\" class=\"dataframe\">\n",
       "  <thead>\n",
       "    <tr style=\"text-align: right;\">\n",
       "      <th></th>\n",
       "      <th>delay</th>\n",
       "      <th>distance</th>\n",
       "      <th>origin</th>\n",
       "      <th>destination</th>\n",
       "      <th>neg_delay</th>\n",
       "    </tr>\n",
       "    <tr>\n",
       "      <th>date</th>\n",
       "      <th></th>\n",
       "      <th></th>\n",
       "      <th></th>\n",
       "      <th></th>\n",
       "      <th></th>\n",
       "    </tr>\n",
       "  </thead>\n",
       "  <tbody>\n",
       "    <tr>\n",
       "      <th>2001-01-01 00:01:00</th>\n",
       "      <td>14</td>\n",
       "      <td>405</td>\n",
       "      <td>MCI</td>\n",
       "      <td>MDW</td>\n",
       "      <td>True</td>\n",
       "    </tr>\n",
       "    <tr>\n",
       "      <th>2001-01-01 06:20:00</th>\n",
       "      <td>0</td>\n",
       "      <td>491</td>\n",
       "      <td>BNA</td>\n",
       "      <td>MCI</td>\n",
       "      <td>False</td>\n",
       "    </tr>\n",
       "    <tr>\n",
       "      <th>2001-01-01 06:30:00</th>\n",
       "      <td>0</td>\n",
       "      <td>251</td>\n",
       "      <td>MDW</td>\n",
       "      <td>STL</td>\n",
       "      <td>False</td>\n",
       "    </tr>\n",
       "  </tbody>\n",
       "</table>\n",
       "</div>"
      ],
      "text/plain": [
       "                     delay  distance origin destination  neg_delay\n",
       "date                                                              \n",
       "2001-01-01 00:01:00     14       405    MCI         MDW       True\n",
       "2001-01-01 06:20:00      0       491    BNA         MCI      False\n",
       "2001-01-01 06:30:00      0       251    MDW         STL      False"
      ]
     },
     "execution_count": 78,
     "metadata": {},
     "output_type": "execute_result"
    }
   ],
   "source": [
    "# df 0s replaced \n",
    "\n",
    "fly.head(3)"
   ]
  },
  {
   "cell_type": "markdown",
   "id": "6af26a3a",
   "metadata": {},
   "source": [
    "### in-class"
   ]
  },
  {
   "cell_type": "code",
   "execution_count": 84,
   "id": "554e8c72",
   "metadata": {},
   "outputs": [],
   "source": [
    "fly['delay'] = np.where(fly.delay < 0, 0, fly.delay)"
   ]
  },
  {
   "cell_type": "code",
   "execution_count": 85,
   "id": "aeca946b",
   "metadata": {},
   "outputs": [
    {
     "data": {
      "text/html": [
       "<div>\n",
       "<style scoped>\n",
       "    .dataframe tbody tr th:only-of-type {\n",
       "        vertical-align: middle;\n",
       "    }\n",
       "\n",
       "    .dataframe tbody tr th {\n",
       "        vertical-align: top;\n",
       "    }\n",
       "\n",
       "    .dataframe thead th {\n",
       "        text-align: right;\n",
       "    }\n",
       "</style>\n",
       "<table border=\"1\" class=\"dataframe\">\n",
       "  <thead>\n",
       "    <tr style=\"text-align: right;\">\n",
       "      <th></th>\n",
       "      <th>delay</th>\n",
       "      <th>distance</th>\n",
       "      <th>origin</th>\n",
       "      <th>destination</th>\n",
       "      <th>neg_delay</th>\n",
       "      <th>hour</th>\n",
       "    </tr>\n",
       "    <tr>\n",
       "      <th>date</th>\n",
       "      <th></th>\n",
       "      <th></th>\n",
       "      <th></th>\n",
       "      <th></th>\n",
       "      <th></th>\n",
       "      <th></th>\n",
       "    </tr>\n",
       "  </thead>\n",
       "  <tbody>\n",
       "    <tr>\n",
       "      <th>2001-01-01 00:01:00</th>\n",
       "      <td>14</td>\n",
       "      <td>405</td>\n",
       "      <td>MCI</td>\n",
       "      <td>MDW</td>\n",
       "      <td>True</td>\n",
       "      <td>00</td>\n",
       "    </tr>\n",
       "    <tr>\n",
       "      <th>2001-01-01 06:20:00</th>\n",
       "      <td>0</td>\n",
       "      <td>491</td>\n",
       "      <td>BNA</td>\n",
       "      <td>MCI</td>\n",
       "      <td>False</td>\n",
       "      <td>06</td>\n",
       "    </tr>\n",
       "    <tr>\n",
       "      <th>2001-01-01 06:30:00</th>\n",
       "      <td>0</td>\n",
       "      <td>251</td>\n",
       "      <td>MDW</td>\n",
       "      <td>STL</td>\n",
       "      <td>False</td>\n",
       "      <td>06</td>\n",
       "    </tr>\n",
       "    <tr>\n",
       "      <th>2001-01-01 07:00:00</th>\n",
       "      <td>0</td>\n",
       "      <td>361</td>\n",
       "      <td>OAK</td>\n",
       "      <td>ONT</td>\n",
       "      <td>False</td>\n",
       "      <td>07</td>\n",
       "    </tr>\n",
       "    <tr>\n",
       "      <th>2001-01-01 07:00:00</th>\n",
       "      <td>0</td>\n",
       "      <td>303</td>\n",
       "      <td>MSY</td>\n",
       "      <td>HOU</td>\n",
       "      <td>False</td>\n",
       "      <td>07</td>\n",
       "    </tr>\n",
       "  </tbody>\n",
       "</table>\n",
       "</div>"
      ],
      "text/plain": [
       "                     delay  distance origin destination  neg_delay hour\n",
       "date                                                                   \n",
       "2001-01-01 00:01:00     14       405    MCI         MDW       True   00\n",
       "2001-01-01 06:20:00      0       491    BNA         MCI      False   06\n",
       "2001-01-01 06:30:00      0       251    MDW         STL      False   06\n",
       "2001-01-01 07:00:00      0       361    OAK         ONT      False   07\n",
       "2001-01-01 07:00:00      0       303    MSY         HOU      False   07"
      ]
     },
     "execution_count": 85,
     "metadata": {},
     "output_type": "execute_result"
    }
   ],
   "source": [
    "fly.head()"
   ]
  },
  {
   "cell_type": "markdown",
   "id": "53e3f792",
   "metadata": {},
   "source": [
    "### 2.    Which hour of the day has the highest average delay?"
   ]
  },
  {
   "cell_type": "code",
   "execution_count": 82,
   "id": "aee7f0c5",
   "metadata": {},
   "outputs": [],
   "source": [
    "# make a col called 'hour'\n",
    "\n",
    "fly['hour'] = fly.index.strftime('%H')"
   ]
  },
  {
   "cell_type": "code",
   "execution_count": 86,
   "id": "9507dd8d",
   "metadata": {},
   "outputs": [
    {
     "data": {
      "text/plain": [
       "hour\n",
       "03    302.5\n",
       "Name: delay, dtype: float64"
      ]
     },
     "execution_count": 86,
     "metadata": {},
     "output_type": "execute_result"
    }
   ],
   "source": [
    "# groupby to find longtest hour delay\n",
    "\n",
    "fly.groupby('hour').delay.mean().sort_values(ascending = False).head(1)"
   ]
  },
  {
   "cell_type": "markdown",
   "id": "79bd310f",
   "metadata": {},
   "source": [
    "### 3. Does the day of the week make a difference in the delay amount?"
   ]
  },
  {
   "cell_type": "code",
   "execution_count": 88,
   "id": "c5271fe7",
   "metadata": {},
   "outputs": [
    {
     "data": {
      "text/plain": [
       "date\n",
       "2001-01-01     8.747126\n",
       "2001-01-02    21.808411\n",
       "2001-01-03    17.150000\n",
       "2001-01-04     7.176724\n",
       "2001-01-05     9.294118\n",
       "                ...    \n",
       "2001-03-27     4.669683\n",
       "2001-03-28     3.551282\n",
       "2001-03-29    13.545455\n",
       "2001-03-30     8.893162\n",
       "2001-03-31     7.000000\n",
       "Freq: D, Name: delay, Length: 90, dtype: float64"
      ]
     },
     "execution_count": 88,
     "metadata": {},
     "output_type": "execute_result"
    }
   ],
   "source": [
    "fly.resample('d').delay.mean()"
   ]
  },
  {
   "cell_type": "code",
   "execution_count": 89,
   "id": "be0bba6f",
   "metadata": {},
   "outputs": [],
   "source": [
    "# col allowing for groupby\n",
    "\n",
    "fly['day'] = fly.index.day_name()"
   ]
  },
  {
   "cell_type": "code",
   "execution_count": 91,
   "id": "545e4906",
   "metadata": {},
   "outputs": [
    {
     "data": {
      "text/plain": [
       "day\n",
       "Friday       17.757596\n",
       "Thursday     12.821322\n",
       "Wednesday    11.032478\n",
       "Sunday       10.413542\n",
       "Tuesday       9.410866\n",
       "Saturday      8.431498\n",
       "Monday        7.165772\n",
       "Name: delay, dtype: float64"
      ]
     },
     "execution_count": 91,
     "metadata": {},
     "output_type": "execute_result"
    }
   ],
   "source": [
    "# find day with longest avg delay\n",
    "\n",
    "fly.groupby('day').delay.mean().sort_values(ascending = False)"
   ]
  },
  {
   "cell_type": "markdown",
   "id": "c62801ae",
   "metadata": {},
   "source": [
    "### 4.    Does the month make a difference in the delay amount?\n"
   ]
  },
  {
   "cell_type": "code",
   "execution_count": 94,
   "id": "c038b810",
   "metadata": {},
   "outputs": [],
   "source": [
    "fly['month'] = fly.index.month_name()"
   ]
  },
  {
   "cell_type": "code",
   "execution_count": 95,
   "id": "80d98b6c",
   "metadata": {},
   "outputs": [
    {
     "data": {
      "text/html": [
       "<div>\n",
       "<style scoped>\n",
       "    .dataframe tbody tr th:only-of-type {\n",
       "        vertical-align: middle;\n",
       "    }\n",
       "\n",
       "    .dataframe tbody tr th {\n",
       "        vertical-align: top;\n",
       "    }\n",
       "\n",
       "    .dataframe thead th {\n",
       "        text-align: right;\n",
       "    }\n",
       "</style>\n",
       "<table border=\"1\" class=\"dataframe\">\n",
       "  <thead>\n",
       "    <tr style=\"text-align: right;\">\n",
       "      <th></th>\n",
       "      <th>delay</th>\n",
       "      <th>distance</th>\n",
       "      <th>origin</th>\n",
       "      <th>destination</th>\n",
       "      <th>neg_delay</th>\n",
       "      <th>hour</th>\n",
       "      <th>day</th>\n",
       "      <th>month</th>\n",
       "    </tr>\n",
       "    <tr>\n",
       "      <th>date</th>\n",
       "      <th></th>\n",
       "      <th></th>\n",
       "      <th></th>\n",
       "      <th></th>\n",
       "      <th></th>\n",
       "      <th></th>\n",
       "      <th></th>\n",
       "      <th></th>\n",
       "    </tr>\n",
       "  </thead>\n",
       "  <tbody>\n",
       "    <tr>\n",
       "      <th>2001-02-20 17:20:00</th>\n",
       "      <td>14</td>\n",
       "      <td>321</td>\n",
       "      <td>MSY</td>\n",
       "      <td>BHM</td>\n",
       "      <td>True</td>\n",
       "      <td>17</td>\n",
       "      <td>Tuesday</td>\n",
       "      <td>February</td>\n",
       "    </tr>\n",
       "  </tbody>\n",
       "</table>\n",
       "</div>"
      ],
      "text/plain": [
       "                     delay  distance origin destination  neg_delay hour  \\\n",
       "date                                                                      \n",
       "2001-02-20 17:20:00     14       321    MSY         BHM       True   17   \n",
       "\n",
       "                         day     month  \n",
       "date                                    \n",
       "2001-02-20 17:20:00  Tuesday  February  "
      ]
     },
     "execution_count": 95,
     "metadata": {},
     "output_type": "execute_result"
    }
   ],
   "source": [
    "fly.sample()"
   ]
  },
  {
   "cell_type": "code",
   "execution_count": 99,
   "id": "ab5c2067",
   "metadata": {},
   "outputs": [
    {
     "data": {
      "text/plain": [
       "March       6960\n",
       "January     6784\n",
       "February    6256\n",
       "Name: month, dtype: int64"
      ]
     },
     "execution_count": 99,
     "metadata": {},
     "output_type": "execute_result"
    }
   ],
   "source": [
    "fly['month'].value_counts()"
   ]
  },
  {
   "cell_type": "code",
   "execution_count": 100,
   "id": "1542c2ac",
   "metadata": {},
   "outputs": [],
   "source": [
    "monthly_delay = fly.groupby('month').delay.mean()"
   ]
  },
  {
   "cell_type": "code",
   "execution_count": 101,
   "id": "a7d49648",
   "metadata": {},
   "outputs": [
    {
     "data": {
      "text/plain": [
       "month\n",
       "February    12.306106\n",
       "January     11.301592\n",
       "March        9.875287\n",
       "Name: delay, dtype: float64"
      ]
     },
     "execution_count": 101,
     "metadata": {},
     "output_type": "execute_result"
    }
   ],
   "source": [
    "monthly_delay"
   ]
  },
  {
   "cell_type": "code",
   "execution_count": 103,
   "id": "9c6fb9ec",
   "metadata": {},
   "outputs": [
    {
     "data": {
      "text/plain": [
       "Text(0, 0.5, 'Delay in hours')"
      ]
     },
     "execution_count": 103,
     "metadata": {},
     "output_type": "execute_result"
    },
    {
     "data": {
      "image/png": "[encoded data removed]",
      "text/plain": [
       "<Figure size 640x480 with 1 Axes>"
      ]
     },
     "metadata": {},
     "output_type": "display_data"
    }
   ],
   "source": [
    "monthly_delay.plot()\n",
    "plt.ylabel('Delay in hours')"
   ]
  }
 ],
 "metadata": {
  "kernelspec": {
   "display_name": "Python 3 (ipykernel)",
   "language": "python",
   "name": "python3"
  },
  "language_info": {
   "codemirror_mode": {
    "name": "ipython",
    "version": 3
   },
   "file_extension": ".py",
   "mimetype": "text/x-python",
   "name": "python",
   "nbconvert_exporter": "python",
   "pygments_lexer": "ipython3",
   "version": "3.9.13"
  }
 },
 "nbformat": 4,
 "nbformat_minor": 5
}
